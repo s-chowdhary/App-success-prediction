{
 "cells": [
  {
   "cell_type": "code",
   "execution_count": 1,
   "metadata": {
    "_cell_guid": "b1076dfc-b9ad-4769-8c92-a6c4dae69d19",
    "_kg_hide-input": true,
    "_uuid": "8f2839f25d086af736a60e9eeb907d3b93b6e0e5"
   },
   "outputs": [
    {
     "data": {
      "text/html": [
       "<script>requirejs.config({paths: { 'plotly': ['https://cdn.plot.ly/plotly-latest.min']},});if(!window.Plotly) {{require(['plotly'],function(plotly) {window.Plotly=plotly;});}}</script>"
      ],
      "text/vnd.plotly.v1+html": [
       "<script>requirejs.config({paths: { 'plotly': ['https://cdn.plot.ly/plotly-latest.min']},});if(!window.Plotly) {{require(['plotly'],function(plotly) {window.Plotly=plotly;});}}</script>"
      ]
     },
     "metadata": {},
     "output_type": "display_data"
    }
   ],
   "source": [
    "import pandas as pd\n",
    "import numpy as np\n",
    "\n",
    "import matplotlib.pyplot as plt\n",
    "import seaborn as sns\n",
    "plt.style.use('seaborn')\n",
    "sns.set(font_scale=1.8)\n",
    "\n",
    "import plotly.offline as py\n",
    "from plotly import tools\n",
    "py.init_notebook_mode(connected=True)\n",
    "import plotly.graph_objs as go\n",
    "import missingno as msno\n",
    "import random\n",
    "\n",
    "from plotly import tools\n",
    "\n",
    "# Supress unnecessary warnings so that presentation looks clean\n",
    "import warnings\n",
    "warnings.filterwarnings(\"ignore\")"
   ]
  },
  {
   "cell_type": "code",
   "execution_count": 3,
   "metadata": {
    "_kg_hide-input": true,
    "_uuid": "d36a6bf35ec2a342f19f66f569e8c36d2593a843"
   },
   "outputs": [],
   "source": [
    "df_app = pd.read_csv('input/AppleStore.csv')\n",
    "df_description = pd.read_csv('input/appleStore_description.csv')"
   ]
  },
  {
   "cell_type": "code",
   "execution_count": 4,
   "metadata": {
    "_kg_hide-input": true,
    "_uuid": "fd024887710b8c6d9a5bd835c980b8f71f10e43f"
   },
   "outputs": [
    {
     "data": {
      "text/plain": [
       "Unnamed: 0          0\n",
       "id                  0\n",
       "track_name          0\n",
       "size_bytes          0\n",
       "currency            0\n",
       "price               0\n",
       "rating_count_tot    0\n",
       "rating_count_ver    0\n",
       "user_rating         0\n",
       "user_rating_ver     0\n",
       "ver                 0\n",
       "cont_rating         0\n",
       "prime_genre         0\n",
       "sup_devices.num     0\n",
       "ipadSc_urls.num     0\n",
       "lang.num            0\n",
       "vpp_lic             0\n",
       "dtype: int64"
      ]
     },
     "execution_count": 4,
     "metadata": {},
     "output_type": "execute_result"
    }
   ],
   "source": [
    "df_app.isnull().sum()"
   ]
  },
  {
   "cell_type": "markdown",
   "metadata": {
    "_uuid": "20195841c8c30ea17ecb864adc7c0c5da0f8885b"
   },
   "source": [
    "- There aren't null data in the df_app."
   ]
  },
  {
   "cell_type": "code",
   "execution_count": 5,
   "metadata": {
    "_kg_hide-input": true,
    "_uuid": "95e874925cb36fe2407cff9f15e7e90bab9e8f1c"
   },
   "outputs": [
    {
     "data": {
      "text/html": [
       "<div>\n",
       "<style scoped>\n",
       "    .dataframe tbody tr th:only-of-type {\n",
       "        vertical-align: middle;\n",
       "    }\n",
       "\n",
       "    .dataframe tbody tr th {\n",
       "        vertical-align: top;\n",
       "    }\n",
       "\n",
       "    .dataframe thead th {\n",
       "        text-align: right;\n",
       "    }\n",
       "</style>\n",
       "<table border=\"1\" class=\"dataframe\">\n",
       "  <thead>\n",
       "    <tr style=\"text-align: right;\">\n",
       "      <th></th>\n",
       "      <th>id</th>\n",
       "      <th>track_name</th>\n",
       "      <th>size_bytes</th>\n",
       "      <th>app_desc</th>\n",
       "    </tr>\n",
       "  </thead>\n",
       "  <tbody>\n",
       "    <tr>\n",
       "      <th>0</th>\n",
       "      <td>281656475</td>\n",
       "      <td>PAC-MAN Premium</td>\n",
       "      <td>100788224</td>\n",
       "      <td>SAVE 20%, now only $3.99 for a limited time!\\n...</td>\n",
       "    </tr>\n",
       "    <tr>\n",
       "      <th>1</th>\n",
       "      <td>281796108</td>\n",
       "      <td>Evernote - stay organized</td>\n",
       "      <td>158578688</td>\n",
       "      <td>Let Evernote change the way you organize your ...</td>\n",
       "    </tr>\n",
       "    <tr>\n",
       "      <th>2</th>\n",
       "      <td>281940292</td>\n",
       "      <td>WeatherBug - Local Weather, Radar, Maps, Alerts</td>\n",
       "      <td>100524032</td>\n",
       "      <td>Download the most popular free weather app pow...</td>\n",
       "    </tr>\n",
       "    <tr>\n",
       "      <th>3</th>\n",
       "      <td>282614216</td>\n",
       "      <td>eBay: Best App to Buy, Sell, Save! Online Shop...</td>\n",
       "      <td>128512000</td>\n",
       "      <td>The eBay app is the best way to find anything ...</td>\n",
       "    </tr>\n",
       "    <tr>\n",
       "      <th>4</th>\n",
       "      <td>282935706</td>\n",
       "      <td>Bible</td>\n",
       "      <td>92774400</td>\n",
       "      <td>On more than 250 million devices around the wo...</td>\n",
       "    </tr>\n",
       "  </tbody>\n",
       "</table>\n",
       "</div>"
      ],
      "text/plain": [
       "          id                                         track_name  size_bytes  \\\n",
       "0  281656475                                    PAC-MAN Premium   100788224   \n",
       "1  281796108                          Evernote - stay organized   158578688   \n",
       "2  281940292    WeatherBug - Local Weather, Radar, Maps, Alerts   100524032   \n",
       "3  282614216  eBay: Best App to Buy, Sell, Save! Online Shop...   128512000   \n",
       "4  282935706                                              Bible    92774400   \n",
       "\n",
       "                                            app_desc  \n",
       "0  SAVE 20%, now only $3.99 for a limited time!\\n...  \n",
       "1  Let Evernote change the way you organize your ...  \n",
       "2  Download the most popular free weather app pow...  \n",
       "3  The eBay app is the best way to find anything ...  \n",
       "4  On more than 250 million devices around the wo...  "
      ]
     },
     "execution_count": 5,
     "metadata": {},
     "output_type": "execute_result"
    }
   ],
   "source": [
    "df_description.head()"
   ]
  },
  {
   "cell_type": "code",
   "execution_count": 6,
   "metadata": {
    "_kg_hide-input": true,
    "_uuid": "1ff947d4c87622f91de9385cf8cfd44acc270731"
   },
   "outputs": [
    {
     "data": {
      "text/plain": [
       "id            0\n",
       "track_name    0\n",
       "size_bytes    0\n",
       "app_desc      0\n",
       "dtype: int64"
      ]
     },
     "execution_count": 6,
     "metadata": {},
     "output_type": "execute_result"
    }
   ],
   "source": [
    "df_description.isnull().sum()"
   ]
  },
  {
   "cell_type": "markdown",
   "metadata": {
    "_uuid": "72a2204105be92f7825f90f96eb35d853d633001"
   },
   "source": [
    "- There aren't null data in the df_description."
   ]
  },
  {
   "cell_type": "markdown",
   "metadata": {
    "_uuid": "c277fec61a534a78d8b726aa7c724dce7c71da10"
   },
   "source": [
    "## Merge datasets"
   ]
  },
  {
   "cell_type": "code",
   "execution_count": 7,
   "metadata": {
    "_kg_hide-input": true,
    "_uuid": "0f0cfc6225d42f2c0a6f3f151449e06081a19cd2"
   },
   "outputs": [],
   "source": [
    "df_app['app_desc'] = df_description['app_desc']\n",
    "df_app1['app_desc'] = df_description1['app_desc']"
   ]
  },
  {
   "cell_type": "markdown",
   "metadata": {
    "_uuid": "37eb2da0efa17264f4959e3a6db13a163c8ca46b"
   },
   "source": [
    "- Delete 'Unnamed: 0'."
   ]
  },
  {
   "cell_type": "code",
   "execution_count": 8,
   "metadata": {
    "_kg_hide-input": true,
    "_uuid": "2d009b1804c6cc62b0fab779c91ae9e62acbb772"
   },
   "outputs": [],
   "source": [
    "df_app = df_app.iloc[:, 1:]\n",
    "df_app1 = df_app1.iloc[:, 1:]"
   ]
  },
  {
   "cell_type": "code",
   "execution_count": 9,
   "metadata": {
    "_kg_hide-input": true,
    "_uuid": "63bb1e30f80638fb2920d696d4eaa3e2fe9e4f26"
   },
   "outputs": [
    {
     "data": {
      "text/html": [
       "<div>\n",
       "<style scoped>\n",
       "    .dataframe tbody tr th:only-of-type {\n",
       "        vertical-align: middle;\n",
       "    }\n",
       "\n",
       "    .dataframe tbody tr th {\n",
       "        vertical-align: top;\n",
       "    }\n",
       "\n",
       "    .dataframe thead th {\n",
       "        text-align: right;\n",
       "    }\n",
       "</style>\n",
       "<table border=\"1\" class=\"dataframe\">\n",
       "  <thead>\n",
       "    <tr style=\"text-align: right;\">\n",
       "      <th></th>\n",
       "      <th>id</th>\n",
       "      <th>track_name</th>\n",
       "      <th>size_bytes</th>\n",
       "      <th>currency</th>\n",
       "      <th>price</th>\n",
       "      <th>rating_count_tot</th>\n",
       "      <th>rating_count_ver</th>\n",
       "      <th>user_rating</th>\n",
       "      <th>user_rating_ver</th>\n",
       "      <th>ver</th>\n",
       "      <th>cont_rating</th>\n",
       "      <th>prime_genre</th>\n",
       "      <th>sup_devices.num</th>\n",
       "      <th>ipadSc_urls.num</th>\n",
       "      <th>lang.num</th>\n",
       "      <th>vpp_lic</th>\n",
       "      <th>app_desc</th>\n",
       "    </tr>\n",
       "  </thead>\n",
       "  <tbody>\n",
       "    <tr>\n",
       "      <th>0</th>\n",
       "      <td>281656475</td>\n",
       "      <td>PAC-MAN Premium</td>\n",
       "      <td>100788224</td>\n",
       "      <td>USD</td>\n",
       "      <td>3.99</td>\n",
       "      <td>21292</td>\n",
       "      <td>26</td>\n",
       "      <td>4.0</td>\n",
       "      <td>4.5</td>\n",
       "      <td>6.3.5</td>\n",
       "      <td>4+</td>\n",
       "      <td>Games</td>\n",
       "      <td>38</td>\n",
       "      <td>5</td>\n",
       "      <td>10</td>\n",
       "      <td>1</td>\n",
       "      <td>SAVE 20%, now only $3.99 for a limited time!\\n...</td>\n",
       "    </tr>\n",
       "    <tr>\n",
       "      <th>1</th>\n",
       "      <td>281796108</td>\n",
       "      <td>Evernote - stay organized</td>\n",
       "      <td>158578688</td>\n",
       "      <td>USD</td>\n",
       "      <td>0.00</td>\n",
       "      <td>161065</td>\n",
       "      <td>26</td>\n",
       "      <td>4.0</td>\n",
       "      <td>3.5</td>\n",
       "      <td>8.2.2</td>\n",
       "      <td>4+</td>\n",
       "      <td>Productivity</td>\n",
       "      <td>37</td>\n",
       "      <td>5</td>\n",
       "      <td>23</td>\n",
       "      <td>1</td>\n",
       "      <td>Let Evernote change the way you organize your ...</td>\n",
       "    </tr>\n",
       "    <tr>\n",
       "      <th>2</th>\n",
       "      <td>281940292</td>\n",
       "      <td>WeatherBug - Local Weather, Radar, Maps, Alerts</td>\n",
       "      <td>100524032</td>\n",
       "      <td>USD</td>\n",
       "      <td>0.00</td>\n",
       "      <td>188583</td>\n",
       "      <td>2822</td>\n",
       "      <td>3.5</td>\n",
       "      <td>4.5</td>\n",
       "      <td>5.0.0</td>\n",
       "      <td>4+</td>\n",
       "      <td>Weather</td>\n",
       "      <td>37</td>\n",
       "      <td>5</td>\n",
       "      <td>3</td>\n",
       "      <td>1</td>\n",
       "      <td>Download the most popular free weather app pow...</td>\n",
       "    </tr>\n",
       "    <tr>\n",
       "      <th>3</th>\n",
       "      <td>282614216</td>\n",
       "      <td>eBay: Best App to Buy, Sell, Save! Online Shop...</td>\n",
       "      <td>128512000</td>\n",
       "      <td>USD</td>\n",
       "      <td>0.00</td>\n",
       "      <td>262241</td>\n",
       "      <td>649</td>\n",
       "      <td>4.0</td>\n",
       "      <td>4.5</td>\n",
       "      <td>5.10.0</td>\n",
       "      <td>12+</td>\n",
       "      <td>Shopping</td>\n",
       "      <td>37</td>\n",
       "      <td>5</td>\n",
       "      <td>9</td>\n",
       "      <td>1</td>\n",
       "      <td>The eBay app is the best way to find anything ...</td>\n",
       "    </tr>\n",
       "    <tr>\n",
       "      <th>4</th>\n",
       "      <td>282935706</td>\n",
       "      <td>Bible</td>\n",
       "      <td>92774400</td>\n",
       "      <td>USD</td>\n",
       "      <td>0.00</td>\n",
       "      <td>985920</td>\n",
       "      <td>5320</td>\n",
       "      <td>4.5</td>\n",
       "      <td>5.0</td>\n",
       "      <td>7.5.1</td>\n",
       "      <td>4+</td>\n",
       "      <td>Reference</td>\n",
       "      <td>37</td>\n",
       "      <td>5</td>\n",
       "      <td>45</td>\n",
       "      <td>1</td>\n",
       "      <td>On more than 250 million devices around the wo...</td>\n",
       "    </tr>\n",
       "  </tbody>\n",
       "</table>\n",
       "</div>"
      ],
      "text/plain": [
       "          id                                         track_name  size_bytes  \\\n",
       "0  281656475                                    PAC-MAN Premium   100788224   \n",
       "1  281796108                          Evernote - stay organized   158578688   \n",
       "2  281940292    WeatherBug - Local Weather, Radar, Maps, Alerts   100524032   \n",
       "3  282614216  eBay: Best App to Buy, Sell, Save! Online Shop...   128512000   \n",
       "4  282935706                                              Bible    92774400   \n",
       "\n",
       "  currency  price  rating_count_tot  rating_count_ver  user_rating  \\\n",
       "0      USD   3.99             21292                26          4.0   \n",
       "1      USD   0.00            161065                26          4.0   \n",
       "2      USD   0.00            188583              2822          3.5   \n",
       "3      USD   0.00            262241               649          4.0   \n",
       "4      USD   0.00            985920              5320          4.5   \n",
       "\n",
       "   user_rating_ver     ver cont_rating   prime_genre  sup_devices.num  \\\n",
       "0              4.5   6.3.5          4+         Games               38   \n",
       "1              3.5   8.2.2          4+  Productivity               37   \n",
       "2              4.5   5.0.0          4+       Weather               37   \n",
       "3              4.5  5.10.0         12+      Shopping               37   \n",
       "4              5.0   7.5.1          4+     Reference               37   \n",
       "\n",
       "   ipadSc_urls.num  lang.num  vpp_lic  \\\n",
       "0                5        10        1   \n",
       "1                5        23        1   \n",
       "2                5         3        1   \n",
       "3                5         9        1   \n",
       "4                5        45        1   \n",
       "\n",
       "                                            app_desc  \n",
       "0  SAVE 20%, now only $3.99 for a limited time!\\n...  \n",
       "1  Let Evernote change the way you organize your ...  \n",
       "2  Download the most popular free weather app pow...  \n",
       "3  The eBay app is the best way to find anything ...  \n",
       "4  On more than 250 million devices around the wo...  "
      ]
     },
     "execution_count": 9,
     "metadata": {},
     "output_type": "execute_result"
    }
   ],
   "source": [
    "df_app.head()"
   ]
  },
  {
   "cell_type": "code",
   "execution_count": 10,
   "metadata": {
    "_kg_hide-input": false,
    "_uuid": "f587b8d3104e9479fcb4a979cc37a5bcf81da4f5"
   },
   "outputs": [],
   "source": [
    "df_app['size_bytes_in_MB'] = df_app['size_bytes'] / (1024 * 1024.0)"
   ]
  },
  {
   "cell_type": "markdown",
   "metadata": {},
   "source": [
    "## adding new column for free or not"
   ]
  },
  {
   "cell_type": "code",
   "execution_count": 11,
   "metadata": {
    "_kg_hide-input": false,
    "_uuid": "17441194742add629dd05337908cd89374024484"
   },
   "outputs": [],
   "source": [
    "df_app['isNotFree'] = df_app['price'].apply(lambda x: 1 if x > 0 else 0)"
   ]
  },
  {
   "cell_type": "code",
   "execution_count": 12,
   "metadata": {
    "_kg_hide-input": true,
    "_uuid": "cb6254134b899f7942709e2a37b8f33e8db6fb17"
   },
   "outputs": [
    {
     "data": {
      "image/png": "[encoded data removed]",
      "text/plain": [
       "<matplotlib.figure.Figure at 0x7f1b150307f0>"
      ]
     },
     "metadata": {},
     "output_type": "display_data"
    }
   ],
   "source": [
    "df_app['isNotFree'].value_counts().plot.bar()\n",
    "plt.xlabel('IsNotFree(Free = 0, NotFree = 1)')\n",
    "plt.ylabel('Count')\n",
    "plt.show()"
   ]
  },
  {
   "cell_type": "code",
   "execution_count": 13,
   "metadata": {
    "_kg_hide-input": true,
    "_uuid": "02609a8d996771cdbd902ba69d18a5f883c9c089"
   },
   "outputs": [
    {
     "name": "stdout",
     "output_type": "stream",
     "text": [
      "There are 3141 Not-Free Apps in this dataset\n",
      "There are 4056 Free Apps in this dataset\n"
     ]
    }
   ],
   "source": [
    "df_app_notfree = df_app[df_app['isNotFree'] == 1]\n",
    "df_app_free = df_app[df_app['isNotFree'] == 0]\n",
    "\n",
    "print('There are {} Not-Free Apps in this dataset'.format(df_app_notfree.shape[0]))\n",
    "print('There are {} Free Apps in this dataset'.format(df_app_free.shape[0]))"
   ]
  },
  {
   "cell_type": "markdown",
   "metadata": {
    "_uuid": "96af27d9f11bfb714f67fa80c7edcb9e35ef374d"
   },
   "source": [
    "## Countplot for each type of Prime_genre"
   ]
  },
  {
   "cell_type": "code",
   "execution_count": 14,
   "metadata": {
    "_kg_hide-input": true,
    "_uuid": "0b387b46d3ec776ab5eee8be9eea35f202510f73"
   },
   "outputs": [
    {
     "data": {
      "application/vnd.plotly.v1+json": {
       "data": [
        {
         "marker": {
          "color": [
           "#D7AB39",
           "#A016FB",
           "#5B8D99",
           "#7D9C95",
           "#B854C4",
           "#73D6B8",
           "#C17278",
           "#CCD21E",
           "#0D582A",
           "#20E2A5",
           "#D6FEE9",
           "#F8CA81",
           "#B61D24",
           "#5735AC",
           "#C62F56",
           "#62AD77",
           "#D720DF",
           "#5A6A85",
           "#A12873",
           "#D9356A",
           "#C36190",
           "#16558D",
           "#9DBCE8",
           "#BCC0E3",
           "#339688",
           "#68E4AB",
           "#5D8899",
           "#617EDF",
           "#AFCCDC",
           "#F4B6D1",
           "#832E6C",
           "#F60179",
           "#647587",
           "#E3B111",
           "#F4BB20",
           "#D25301",
           "#BC7CC0",
           "#C61CE1",
           "#65AB67",
           "#348352",
           "#CCC58F",
           "#D253E2",
           "#D745FC",
           "#C1E695",
           "#133072",
           "#ED9B2F",
           "#2728BF",
           "#C84431",
           "#51424A",
           "#650D27",
           "#69579D",
           "#4182BB",
           "#3469B0",
           "#BFE35F",
           "#3DE823",
           "#FFFB9D",
           "#36FD36",
           "#0E8D0F",
           "#EC30E7",
           "#DC1F92",
           "#A103B0",
           "#452686",
           "#C97877",
           "#F31821",
           "#8F9D47",
           "#8B024F",
           "#2E7C25",
           "#D01A7C",
           "#7518EF",
           "#24DAEF",
           "#7F931E",
           "#D3880E",
           "#F42DAF",
           "#3132F4",
           "#6534C4",
           "#C9D963",
           "#EE1F2B",
           "#5FB228",
           "#EEE9DF",
           "#124419",
           "#7997AF",
           "#1A543D",
           "#350AAF",
           "#20E5D6",
           "#E133A1",
           "#6149C6",
           "#AD0712",
           "#3D72F8",
           "#683568",
           "#250693",
           "#15CADF",
           "#95377B",
           "#F4C03E",
           "#372035",
           "#5C9C41",
           "#A3E54A",
           "#13E87B",
           "#C26C57",
           "#E321F0",
           "#1BDBC6"
          ],
          "line": {
           "color": "rgb(8, 48, 107)",
           "width": 1.5
          }
         },
         "opacity": 0.7,
         "text": [
          "53.66%",
          "7.43%",
          "6.29%",
          "4.85%",
          "3.45%",
          "2.50%",
          "2.47%",
          "2.32%",
          "2.00%",
          "1.92%",
          "1.70%",
          "1.58%",
          "1.56%",
          "1.45%",
          "1.13%",
          "1.04%",
          "1.00%",
          "0.89%",
          "0.88%",
          "0.79%",
          "0.64%",
          "0.32%",
          "0.14%"
         ],
         "type": "bar",
         "uid": "dc1672c2-d8ec-11e8-8ac2-5435308b7835",
         "x": [
          "Games",
          "Entertainment",
          "Education",
          "Photo & Video",
          "Utilities",
          "Health & Fitness",
          "Productivity",
          "Social Networking",
          "Lifestyle",
          "Music",
          "Shopping",
          "Sports",
          "Book",
          "Finance",
          "Travel",
          "News",
          "Weather",
          "Reference",
          "Food & Drink",
          "Business",
          "Navigation",
          "Medical",
          "Catalogs"
         ],
         "y": [
          3862,
          535,
          453,
          349,
          248,
          180,
          178,
          167,
          144,
          138,
          122,
          114,
          112,
          104,
          81,
          75,
          72,
          64,
          63,
          57,
          46,
          23,
          10
         ]
        }
       ],
       "layout": {
        "height": 500,
        "margin": {
         "l": 100
        },
        "title": "Prime genre",
        "width": 800,
        "xaxis": {
         "title": "Genre"
        },
        "yaxis": {
         "title": "Count"
        }
       }
      },
      "text/html": [
       "<div id=\"9e74071b-76c4-42e3-bd22-dbbbb06f02a8\" style=\"height: 500px; width: 800px;\" class=\"plotly-graph-div\"></div><script type=\"text/javascript\">require([\"plotly\"], function(Plotly) { window.PLOTLYENV=window.PLOTLYENV || {};window.PLOTLYENV.BASE_URL=\"https://plot.ly\";Plotly.newPlot(\"9e74071b-76c4-42e3-bd22-dbbbb06f02a8\", [{\"marker\": {\"color\": [\"#D7AB39\", \"#A016FB\", \"#5B8D99\", \"#7D9C95\", \"#B854C4\", \"#73D6B8\", \"#C17278\", \"#CCD21E\", \"#0D582A\", \"#20E2A5\", \"#D6FEE9\", \"#F8CA81\", \"#B61D24\", \"#5735AC\", \"#C62F56\", \"#62AD77\", \"#D720DF\", \"#5A6A85\", \"#A12873\", \"#D9356A\", \"#C36190\", \"#16558D\", \"#9DBCE8\", \"#BCC0E3\", \"#339688\", \"#68E4AB\", \"#5D8899\", \"#617EDF\", \"#AFCCDC\", \"#F4B6D1\", \"#832E6C\", \"#F60179\", \"#647587\", \"#E3B111\", \"#F4BB20\", \"#D25301\", \"#BC7CC0\", \"#C61CE1\", \"#65AB67\", \"#348352\", \"#CCC58F\", \"#D253E2\", \"#D745FC\", \"#C1E695\", \"#133072\", \"#ED9B2F\", \"#2728BF\", \"#C84431\", \"#51424A\", \"#650D27\", \"#69579D\", \"#4182BB\", \"#3469B0\", \"#BFE35F\", \"#3DE823\", \"#FFFB9D\", \"#36FD36\", \"#0E8D0F\", \"#EC30E7\", \"#DC1F92\", \"#A103B0\", \"#452686\", \"#C97877\", \"#F31821\", \"#8F9D47\", \"#8B024F\", \"#2E7C25\", \"#D01A7C\", \"#7518EF\", \"#24DAEF\", \"#7F931E\", \"#D3880E\", \"#F42DAF\", \"#3132F4\", \"#6534C4\", \"#C9D963\", \"#EE1F2B\", \"#5FB228\", \"#EEE9DF\", \"#124419\", \"#7997AF\", \"#1A543D\", \"#350AAF\", \"#20E5D6\", \"#E133A1\", \"#6149C6\", \"#AD0712\", \"#3D72F8\", \"#683568\", \"#250693\", \"#15CADF\", \"#95377B\", \"#F4C03E\", \"#372035\", \"#5C9C41\", \"#A3E54A\", \"#13E87B\", \"#C26C57\", \"#E321F0\", \"#1BDBC6\"], \"line\": {\"color\": \"rgb(8, 48, 107)\", \"width\": 1.5}}, \"opacity\": 0.7, \"text\": [\"53.66%\", \"7.43%\", \"6.29%\", \"4.85%\", \"3.45%\", \"2.50%\", \"2.47%\", \"2.32%\", \"2.00%\", \"1.92%\", \"1.70%\", \"1.58%\", \"1.56%\", \"1.45%\", \"1.13%\", \"1.04%\", \"1.00%\", \"0.89%\", \"0.88%\", \"0.79%\", \"0.64%\", \"0.32%\", \"0.14%\"], \"x\": [\"Games\", \"Entertainment\", \"Education\", \"Photo & Video\", \"Utilities\", \"Health & Fitness\", \"Productivity\", \"Social Networking\", \"Lifestyle\", \"Music\", \"Shopping\", \"Sports\", \"Book\", \"Finance\", \"Travel\", \"News\", \"Weather\", \"Reference\", \"Food & Drink\", \"Business\", \"Navigation\", \"Medical\", \"Catalogs\"], \"y\": [3862, 535, 453, 349, 248, 180, 178, 167, 144, 138, 122, 114, 112, 104, 81, 75, 72, 64, 63, 57, 46, 23, 10], \"type\": \"bar\", \"uid\": \"dc1672c2-d8ec-11e8-8ac2-5435308b7835\"}], {\"height\": 500, \"margin\": {\"l\": 100}, \"title\": \"Prime genre\", \"width\": 800, \"xaxis\": {\"title\": \"Genre\"}, \"yaxis\": {\"title\": \"Count\"}}, {\"showLink\": true, \"linkText\": \"Export to plot.ly\"})});</script>"
      ],
      "text/vnd.plotly.v1+html": [
       "<div id=\"9e74071b-76c4-42e3-bd22-dbbbb06f02a8\" style=\"height: 500px; width: 800px;\" class=\"plotly-graph-div\"></div><script type=\"text/javascript\">require([\"plotly\"], function(Plotly) { window.PLOTLYENV=window.PLOTLYENV || {};window.PLOTLYENV.BASE_URL=\"https://plot.ly\";Plotly.newPlot(\"9e74071b-76c4-42e3-bd22-dbbbb06f02a8\", [{\"marker\": {\"color\": [\"#D7AB39\", \"#A016FB\", \"#5B8D99\", \"#7D9C95\", \"#B854C4\", \"#73D6B8\", \"#C17278\", \"#CCD21E\", \"#0D582A\", \"#20E2A5\", \"#D6FEE9\", \"#F8CA81\", \"#B61D24\", \"#5735AC\", \"#C62F56\", \"#62AD77\", \"#D720DF\", \"#5A6A85\", \"#A12873\", \"#D9356A\", \"#C36190\", \"#16558D\", \"#9DBCE8\", \"#BCC0E3\", \"#339688\", \"#68E4AB\", \"#5D8899\", \"#617EDF\", \"#AFCCDC\", \"#F4B6D1\", \"#832E6C\", \"#F60179\", \"#647587\", \"#E3B111\", \"#F4BB20\", \"#D25301\", \"#BC7CC0\", \"#C61CE1\", \"#65AB67\", \"#348352\", \"#CCC58F\", \"#D253E2\", \"#D745FC\", \"#C1E695\", \"#133072\", \"#ED9B2F\", \"#2728BF\", \"#C84431\", \"#51424A\", \"#650D27\", \"#69579D\", \"#4182BB\", \"#3469B0\", \"#BFE35F\", \"#3DE823\", \"#FFFB9D\", \"#36FD36\", \"#0E8D0F\", \"#EC30E7\", \"#DC1F92\", \"#A103B0\", \"#452686\", \"#C97877\", \"#F31821\", \"#8F9D47\", \"#8B024F\", \"#2E7C25\", \"#D01A7C\", \"#7518EF\", \"#24DAEF\", \"#7F931E\", \"#D3880E\", \"#F42DAF\", \"#3132F4\", \"#6534C4\", \"#C9D963\", \"#EE1F2B\", \"#5FB228\", \"#EEE9DF\", \"#124419\", \"#7997AF\", \"#1A543D\", \"#350AAF\", \"#20E5D6\", \"#E133A1\", \"#6149C6\", \"#AD0712\", \"#3D72F8\", \"#683568\", \"#250693\", \"#15CADF\", \"#95377B\", \"#F4C03E\", \"#372035\", \"#5C9C41\", \"#A3E54A\", \"#13E87B\", \"#C26C57\", \"#E321F0\", \"#1BDBC6\"], \"line\": {\"color\": \"rgb(8, 48, 107)\", \"width\": 1.5}}, \"opacity\": 0.7, \"text\": [\"53.66%\", \"7.43%\", \"6.29%\", \"4.85%\", \"3.45%\", \"2.50%\", \"2.47%\", \"2.32%\", \"2.00%\", \"1.92%\", \"1.70%\", \"1.58%\", \"1.56%\", \"1.45%\", \"1.13%\", \"1.04%\", \"1.00%\", \"0.89%\", \"0.88%\", \"0.79%\", \"0.64%\", \"0.32%\", \"0.14%\"], \"x\": [\"Games\", \"Entertainment\", \"Education\", \"Photo & Video\", \"Utilities\", \"Health & Fitness\", \"Productivity\", \"Social Networking\", \"Lifestyle\", \"Music\", \"Shopping\", \"Sports\", \"Book\", \"Finance\", \"Travel\", \"News\", \"Weather\", \"Reference\", \"Food & Drink\", \"Business\", \"Navigation\", \"Medical\", \"Catalogs\"], \"y\": [3862, 535, 453, 349, 248, 180, 178, 167, 144, 138, 122, 114, 112, 104, 81, 75, 72, 64, 63, 57, 46, 23, 10], \"type\": \"bar\", \"uid\": \"dc1672c2-d8ec-11e8-8ac2-5435308b7835\"}], {\"height\": 500, \"margin\": {\"l\": 100}, \"title\": \"Prime genre\", \"width\": 800, \"xaxis\": {\"title\": \"Genre\"}, \"yaxis\": {\"title\": \"Count\"}}, {\"showLink\": true, \"linkText\": \"Export to plot.ly\"})});</script>"
      ]
     },
     "metadata": {},
     "output_type": "display_data"
    }
   ],
   "source": [
    "def random_color_generator(number_of_colors):\n",
    "    color = [\"#\"+''.join([random.choice('0123456789ABCDEF') for j in range(6)])\n",
    "                 for i in range(number_of_colors)]\n",
    "    return color\n",
    "\n",
    "cnt_srs = df_app['prime_genre'].value_counts()\n",
    "text = ['{:.2f}%'.format(100 * (value / cnt_srs.sum())) for value in cnt_srs.values]\n",
    "\n",
    "trace = go.Bar(\n",
    "    x = cnt_srs.index,\n",
    "    y = cnt_srs.values,\n",
    "    text = text,\n",
    "    marker = dict(\n",
    "        color = random_color_generator(100),\n",
    "        line = dict(color='rgb(8, 48, 107)',\n",
    "                    width = 1.5)\n",
    "    ),\n",
    "    opacity = 0.7\n",
    ")\n",
    "data = [trace]\n",
    "\n",
    "layout = go.Layout(\n",
    "    title = 'Prime genre',\n",
    "    margin = dict(\n",
    "        l = 100\n",
    "    ),\n",
    "    xaxis = dict(\n",
    "        title = 'Genre'\n",
    "    ),\n",
    "    yaxis = dict(\n",
    "        title = 'Count'\n",
    "    ),\n",
    "    width = 800,\n",
    "    height = 500\n",
    ")\n",
    "\n",
    "fig = go.Figure(data=data, layout=layout)\n",
    "py.iplot(fig)"
   ]
  },
  {
   "cell_type": "code",
   "execution_count": 15,
   "metadata": {
    "_kg_hide-input": true,
    "_uuid": "cccd1d9dc4b362cb571bf1d22c19678df268b79c"
   },
   "outputs": [
    {
     "data": {
      "application/vnd.plotly.v1+json": {
       "data": [
        {
         "marker": {
          "color": [
           "#9CEE5A",
           "#3B4FB4",
           "#622AC2",
           "#C25494",
           "#412DAC",
           "#52F346",
           "#89490E",
           "#126506",
           "#739C7E",
           "#9121CA",
           "#F60689",
           "#2831E4",
           "#92CD2A",
           "#D3DFC9",
           "#FDB897",
           "#404DEC",
           "#C43671",
           "#4DF045",
           "#CD9771",
           "#12F615",
           "#243831",
           "#3A62C7",
           "#6E0B50",
           "#6DC481",
           "#EC286B",
           "#D6F4F5",
           "#65FA7F",
           "#CDFA6B",
           "#29A5CF",
           "#F312A9",
           "#DFAE81",
           "#D034FB",
           "#572595",
           "#7139FC",
           "#B0F641",
           "#CE4C18",
           "#C1BDAF",
           "#3EA4CD",
           "#5F762B",
           "#6FE038",
           "#03E3E2",
           "#249CDC",
           "#153856",
           "#82E6DA",
           "#46AC38",
           "#4575F2",
           "#016236",
           "#62CE2C",
           "#386D84",
           "#2AC91E",
           "#487816",
           "#F9B5A0",
           "#3E419B",
           "#3E1111",
           "#85C6B1",
           "#F16DC0",
           "#4C78E7",
           "#370477",
           "#BC019A",
           "#0E50ED",
           "#C3BDE7",
           "#6A3DB7",
           "#619258",
           "#DFDFA1",
           "#39090B",
           "#4C484A",
           "#061B78",
           "#DDB16A",
           "#791E31",
           "#7A6966",
           "#426B8C",
           "#F6B4BD",
           "#9E201B",
           "#4E2E54",
           "#A4136D",
           "#1D1EC5",
           "#C8686C",
           "#2C3161",
           "#06140A",
           "#E8A2D3",
           "#B12811",
           "#E95DA9",
           "#79ECC3",
           "#3AEEB8",
           "#D12909",
           "#6F2556",
           "#8B6793",
           "#04B326",
           "#BCD269",
           "#825A3A",
           "#F766DD",
           "#805D82",
           "#1DAE7B",
           "#9EAA3E",
           "#8455A0",
           "#146148",
           "#F08A62",
           "#ACE5D7",
           "#E19515",
           "#3D3C74"
          ],
          "line": {
           "color": "rgb(8, 48, 107)",
           "width": 1.5
          }
         },
         "opacity": 0.7,
         "text": [
          "55.65%",
          "8.23%",
          "4.12%",
          "3.53%",
          "3.25%",
          "2.98%",
          "2.69%",
          "2.32%",
          "2.07%",
          "1.95%",
          "1.87%",
          "1.65%",
          "1.63%",
          "1.53%",
          "1.43%",
          "1.38%",
          "1.06%",
          "0.76%",
          "0.49%",
          "0.49%",
          "0.49%",
          "0.22%",
          "0.20%"
         ],
         "type": "bar",
         "uid": "e02659a4-d8ec-11e8-8ac2-5435308b7835",
         "x": [
          "Games",
          "Entertainment",
          "Photo & Video",
          "Social Networking",
          "Education",
          "Shopping",
          "Utilities",
          "Lifestyle",
          "Finance",
          "Sports",
          "Health & Fitness",
          "Music",
          "Book",
          "Productivity",
          "News",
          "Travel",
          "Food & Drink",
          "Weather",
          "Reference",
          "Business",
          "Navigation",
          "Catalogs",
          "Medical"
         ],
         "xaxis": "x",
         "y": [
          2257,
          334,
          167,
          143,
          132,
          121,
          109,
          94,
          84,
          79,
          76,
          67,
          66,
          62,
          58,
          56,
          43,
          31,
          20,
          20,
          20,
          9,
          8
         ],
         "yaxis": "y"
        },
        {
         "marker": {
          "color": [
           "#86DDDA",
           "#EC92CC",
           "#36F8EE",
           "#AAEAD4",
           "#BA3849",
           "#5268E3",
           "#A4891F",
           "#E0D808",
           "#BD418A",
           "#DBF3E6",
           "#95E6CA",
           "#7A2424",
           "#3FB4F7",
           "#72F1DC",
           "#02EFFE",
           "#AE6C19",
           "#4F641E",
           "#90F877",
           "#B012CB",
           "#FDD913",
           "#42AC26",
           "#6101D1",
           "#7579F9",
           "#E3BDDD",
           "#C7B838",
           "#24E5BD",
           "#37E0AF",
           "#148E9A",
           "#A0053E",
           "#03A61C",
           "#66305F",
           "#5296DB",
           "#805346",
           "#C1AB6F",
           "#17E4AC",
           "#F427F9",
           "#465407",
           "#CB0221",
           "#4FBE0F",
           "#6D959B",
           "#ABB14C",
           "#AC804E",
           "#16A5EB",
           "#BA1CEB",
           "#23CD20",
           "#460F48",
           "#B17DC9",
           "#516D19",
           "#601CCD",
           "#E8D2F9",
           "#4CE5EC",
           "#6E6A2B",
           "#F95340",
           "#F07FE7",
           "#4BCB61",
           "#433700",
           "#23AB87",
           "#AE0669",
           "#A449A9",
           "#B2361C",
           "#D26A0C",
           "#753989",
           "#505A03",
           "#3C3A72",
           "#266DF6",
           "#C0D72E",
           "#54D163",
           "#4EE210",
           "#C42F29",
           "#0DBFCB",
           "#46C87F",
           "#7038FA",
           "#D1BEE1",
           "#61ABB7",
           "#AC6F8A",
           "#AB50D1",
           "#8969BE",
           "#64147D",
           "#14CB9F",
           "#B45A62",
           "#CED8D9",
           "#CF41DD",
           "#143CEB",
           "#22AD5A",
           "#3770A4",
           "#BA25D2",
           "#C62E4A",
           "#23ACE3",
           "#023CDC",
           "#C0D555",
           "#EFBC13",
           "#5E27DD",
           "#689F57",
           "#82EC23",
           "#99FE07",
           "#739848",
           "#BC9599",
           "#1330CF",
           "#460F32",
           "#787062"
          ],
          "line": {
           "color": "rgb(8, 48, 107)",
           "width": 1.5
          }
         },
         "opacity": 0.7,
         "text": [
          "51.10%",
          "10.22%",
          "6.40%",
          "5.79%",
          "4.43%",
          "3.69%",
          "3.31%",
          "2.26%",
          "1.59%",
          "1.46%",
          "1.40%",
          "1.31%",
          "1.18%",
          "1.11%",
          "0.83%",
          "0.80%",
          "0.76%",
          "0.64%",
          "0.64%",
          "0.54%",
          "0.48%",
          "0.03%",
          "0.03%"
         ],
         "type": "bar",
         "uid": "e02659a5-d8ec-11e8-8ac2-5435308b7835",
         "x": [
          "Games",
          "Education",
          "Entertainment",
          "Photo & Video",
          "Utilities",
          "Productivity",
          "Health & Fitness",
          "Music",
          "Lifestyle",
          "Book",
          "Reference",
          "Weather",
          "Business",
          "Sports",
          "Navigation",
          "Travel",
          "Social Networking",
          "Finance",
          "Food & Drink",
          "News",
          "Medical",
          "Shopping",
          "Catalogs"
         ],
         "xaxis": "x2",
         "y": [
          1605,
          321,
          201,
          182,
          139,
          116,
          104,
          71,
          50,
          46,
          44,
          41,
          37,
          35,
          26,
          25,
          24,
          20,
          20,
          17,
          15,
          1,
          1
         ],
         "yaxis": "y2"
        },
        {
         "name": "Free",
         "opacity": 0.7,
         "text": [
          "55.65%",
          "8.23%",
          "4.12%",
          "3.53%",
          "3.25%",
          "2.98%",
          "2.69%",
          "2.32%",
          "2.07%",
          "1.95%",
          "1.87%",
          "1.65%",
          "1.63%",
          "1.53%",
          "1.43%",
          "1.38%",
          "1.06%",
          "0.76%",
          "0.49%",
          "0.49%",
          "0.49%",
          "0.22%",
          "0.20%"
         ],
         "type": "bar",
         "uid": "e02659a6-d8ec-11e8-8ac2-5435308b7835",
         "x": [
          "Games",
          "Entertainment",
          "Photo & Video",
          "Social Networking",
          "Education",
          "Shopping",
          "Utilities",
          "Lifestyle",
          "Finance",
          "Sports",
          "Health & Fitness",
          "Music",
          "Book",
          "Productivity",
          "News",
          "Travel",
          "Food & Drink",
          "Weather",
          "Reference",
          "Business",
          "Navigation",
          "Catalogs",
          "Medical"
         ],
         "xaxis": "x3",
         "y": [
          2257,
          334,
          167,
          143,
          132,
          121,
          109,
          94,
          84,
          79,
          76,
          67,
          66,
          62,
          58,
          56,
          43,
          31,
          20,
          20,
          20,
          9,
          8
         ],
         "yaxis": "y3"
        },
        {
         "name": "Not-Free",
         "opacity": 0.7,
         "text": [
          "51.10%",
          "10.22%",
          "6.40%",
          "5.79%",
          "4.43%",
          "3.69%",
          "3.31%",
          "2.26%",
          "1.59%",
          "1.46%",
          "1.40%",
          "1.31%",
          "1.18%",
          "1.11%",
          "0.83%",
          "0.80%",
          "0.76%",
          "0.64%",
          "0.64%",
          "0.54%",
          "0.48%",
          "0.03%",
          "0.03%"
         ],
         "type": "bar",
         "uid": "e02659a7-d8ec-11e8-8ac2-5435308b7835",
         "x": [
          "Games",
          "Education",
          "Entertainment",
          "Photo & Video",
          "Utilities",
          "Productivity",
          "Health & Fitness",
          "Music",
          "Lifestyle",
          "Book",
          "Reference",
          "Weather",
          "Business",
          "Sports",
          "Navigation",
          "Travel",
          "Social Networking",
          "Finance",
          "Food & Drink",
          "News",
          "Medical",
          "Shopping",
          "Catalogs"
         ],
         "xaxis": "x3",
         "y": [
          1605,
          321,
          201,
          182,
          139,
          116,
          104,
          71,
          50,
          46,
          44,
          41,
          37,
          35,
          26,
          25,
          24,
          20,
          20,
          17,
          15,
          1,
          1
         ],
         "yaxis": "y3"
        }
       ],
       "layout": {
        "annotations": [
         {
          "font": {
           "size": 16
          },
          "showarrow": false,
          "text": "(1) Countplot for Prime_genre of Free",
          "x": 0.225,
          "xanchor": "center",
          "xref": "paper",
          "y": 1,
          "yanchor": "bottom",
          "yref": "paper"
         },
         {
          "font": {
           "size": 16
          },
          "showarrow": false,
          "text": "(2) Countplot for Prime_genre of Not-Free",
          "x": 0.775,
          "xanchor": "center",
          "xref": "paper",
          "y": 1,
          "yanchor": "bottom",
          "yref": "paper"
         },
         {
          "font": {
           "size": 16
          },
          "showarrow": false,
          "text": "(3) Grouped barplot containing Free(green) and Not-Free(red)",
          "x": 0.5,
          "xanchor": "center",
          "xref": "paper",
          "y": 0.375,
          "yanchor": "bottom",
          "yref": "paper"
         }
        ],
        "height": 800,
        "showlegend": false,
        "width": 800,
        "xaxis": {
         "anchor": "y",
         "domain": [
          0,
          0.45
         ]
        },
        "xaxis2": {
         "anchor": "y2",
         "domain": [
          0.55,
          1
         ]
        },
        "xaxis3": {
         "anchor": "y3",
         "domain": [
          0,
          1
         ]
        },
        "yaxis": {
         "anchor": "x",
         "domain": [
          0.625,
          1
         ],
         "title": "Count"
        },
        "yaxis2": {
         "anchor": "x2",
         "domain": [
          0.625,
          1
         ],
         "title": "Count"
        },
        "yaxis3": {
         "anchor": "x3",
         "domain": [
          0,
          0.375
         ],
         "title": "Count"
        }
       }
      },
      "text/html": [
       "<div id=\"f37cb720-b5fc-4406-a9bc-fb4d322253ce\" style=\"height: 800px; width: 800px;\" class=\"plotly-graph-div\"></div><script type=\"text/javascript\">require([\"plotly\"], function(Plotly) { window.PLOTLYENV=window.PLOTLYENV || {};window.PLOTLYENV.BASE_URL=\"https://plot.ly\";Plotly.newPlot(\"f37cb720-b5fc-4406-a9bc-fb4d322253ce\", [{\"marker\": {\"color\": [\"#9CEE5A\", \"#3B4FB4\", \"#622AC2\", \"#C25494\", \"#412DAC\", \"#52F346\", \"#89490E\", \"#126506\", \"#739C7E\", \"#9121CA\", \"#F60689\", \"#2831E4\", \"#92CD2A\", \"#D3DFC9\", \"#FDB897\", \"#404DEC\", \"#C43671\", \"#4DF045\", \"#CD9771\", \"#12F615\", \"#243831\", \"#3A62C7\", \"#6E0B50\", \"#6DC481\", \"#EC286B\", \"#D6F4F5\", \"#65FA7F\", \"#CDFA6B\", \"#29A5CF\", \"#F312A9\", \"#DFAE81\", \"#D034FB\", \"#572595\", \"#7139FC\", \"#B0F641\", \"#CE4C18\", \"#C1BDAF\", \"#3EA4CD\", \"#5F762B\", \"#6FE038\", \"#03E3E2\", \"#249CDC\", \"#153856\", \"#82E6DA\", \"#46AC38\", \"#4575F2\", \"#016236\", \"#62CE2C\", \"#386D84\", \"#2AC91E\", \"#487816\", \"#F9B5A0\", \"#3E419B\", \"#3E1111\", \"#85C6B1\", \"#F16DC0\", \"#4C78E7\", \"#370477\", \"#BC019A\", \"#0E50ED\", \"#C3BDE7\", \"#6A3DB7\", \"#619258\", \"#DFDFA1\", \"#39090B\", \"#4C484A\", \"#061B78\", \"#DDB16A\", \"#791E31\", \"#7A6966\", \"#426B8C\", \"#F6B4BD\", \"#9E201B\", \"#4E2E54\", \"#A4136D\", \"#1D1EC5\", \"#C8686C\", \"#2C3161\", \"#06140A\", \"#E8A2D3\", \"#B12811\", \"#E95DA9\", \"#79ECC3\", \"#3AEEB8\", \"#D12909\", \"#6F2556\", \"#8B6793\", \"#04B326\", \"#BCD269\", \"#825A3A\", \"#F766DD\", \"#805D82\", \"#1DAE7B\", \"#9EAA3E\", \"#8455A0\", \"#146148\", \"#F08A62\", \"#ACE5D7\", \"#E19515\", \"#3D3C74\"], \"line\": {\"color\": \"rgb(8, 48, 107)\", \"width\": 1.5}}, \"opacity\": 0.7, \"text\": [\"55.65%\", \"8.23%\", \"4.12%\", \"3.53%\", \"3.25%\", \"2.98%\", \"2.69%\", \"2.32%\", \"2.07%\", \"1.95%\", \"1.87%\", \"1.65%\", \"1.63%\", \"1.53%\", \"1.43%\", \"1.38%\", \"1.06%\", \"0.76%\", \"0.49%\", \"0.49%\", \"0.49%\", \"0.22%\", \"0.20%\"], \"x\": [\"Games\", \"Entertainment\", \"Photo & Video\", \"Social Networking\", \"Education\", \"Shopping\", \"Utilities\", \"Lifestyle\", \"Finance\", \"Sports\", \"Health & Fitness\", \"Music\", \"Book\", \"Productivity\", \"News\", \"Travel\", \"Food & Drink\", \"Weather\", \"Reference\", \"Business\", \"Navigation\", \"Catalogs\", \"Medical\"], \"y\": [2257, 334, 167, 143, 132, 121, 109, 94, 84, 79, 76, 67, 66, 62, 58, 56, 43, 31, 20, 20, 20, 9, 8], \"type\": \"bar\", \"uid\": \"e02659a4-d8ec-11e8-8ac2-5435308b7835\", \"xaxis\": \"x\", \"yaxis\": \"y\"}, {\"marker\": {\"color\": [\"#86DDDA\", \"#EC92CC\", \"#36F8EE\", \"#AAEAD4\", \"#BA3849\", \"#5268E3\", \"#A4891F\", \"#E0D808\", \"#BD418A\", \"#DBF3E6\", \"#95E6CA\", \"#7A2424\", \"#3FB4F7\", \"#72F1DC\", \"#02EFFE\", \"#AE6C19\", \"#4F641E\", \"#90F877\", \"#B012CB\", \"#FDD913\", \"#42AC26\", \"#6101D1\", \"#7579F9\", \"#E3BDDD\", \"#C7B838\", \"#24E5BD\", \"#37E0AF\", \"#148E9A\", \"#A0053E\", \"#03A61C\", \"#66305F\", \"#5296DB\", \"#805346\", \"#C1AB6F\", \"#17E4AC\", \"#F427F9\", \"#465407\", \"#CB0221\", \"#4FBE0F\", \"#6D959B\", \"#ABB14C\", \"#AC804E\", \"#16A5EB\", \"#BA1CEB\", \"#23CD20\", \"#460F48\", \"#B17DC9\", \"#516D19\", \"#601CCD\", \"#E8D2F9\", \"#4CE5EC\", \"#6E6A2B\", \"#F95340\", \"#F07FE7\", \"#4BCB61\", \"#433700\", \"#23AB87\", \"#AE0669\", \"#A449A9\", \"#B2361C\", \"#D26A0C\", \"#753989\", \"#505A03\", \"#3C3A72\", \"#266DF6\", \"#C0D72E\", \"#54D163\", \"#4EE210\", \"#C42F29\", \"#0DBFCB\", \"#46C87F\", \"#7038FA\", \"#D1BEE1\", \"#61ABB7\", \"#AC6F8A\", \"#AB50D1\", \"#8969BE\", \"#64147D\", \"#14CB9F\", \"#B45A62\", \"#CED8D9\", \"#CF41DD\", \"#143CEB\", \"#22AD5A\", \"#3770A4\", \"#BA25D2\", \"#C62E4A\", \"#23ACE3\", \"#023CDC\", \"#C0D555\", \"#EFBC13\", \"#5E27DD\", \"#689F57\", \"#82EC23\", \"#99FE07\", \"#739848\", \"#BC9599\", \"#1330CF\", \"#460F32\", \"#787062\"], \"line\": {\"color\": \"rgb(8, 48, 107)\", \"width\": 1.5}}, \"opacity\": 0.7, \"text\": [\"51.10%\", \"10.22%\", \"6.40%\", \"5.79%\", \"4.43%\", \"3.69%\", \"3.31%\", \"2.26%\", \"1.59%\", \"1.46%\", \"1.40%\", \"1.31%\", \"1.18%\", \"1.11%\", \"0.83%\", \"0.80%\", \"0.76%\", \"0.64%\", \"0.64%\", \"0.54%\", \"0.48%\", \"0.03%\", \"0.03%\"], \"x\": [\"Games\", \"Education\", \"Entertainment\", \"Photo & Video\", \"Utilities\", \"Productivity\", \"Health & Fitness\", \"Music\", \"Lifestyle\", \"Book\", \"Reference\", \"Weather\", \"Business\", \"Sports\", \"Navigation\", \"Travel\", \"Social Networking\", \"Finance\", \"Food & Drink\", \"News\", \"Medical\", \"Shopping\", \"Catalogs\"], \"y\": [1605, 321, 201, 182, 139, 116, 104, 71, 50, 46, 44, 41, 37, 35, 26, 25, 24, 20, 20, 17, 15, 1, 1], \"type\": \"bar\", \"uid\": \"e02659a5-d8ec-11e8-8ac2-5435308b7835\", \"xaxis\": \"x2\", \"yaxis\": \"y2\"}, {\"name\": \"Free\", \"opacity\": 0.7, \"text\": [\"55.65%\", \"8.23%\", \"4.12%\", \"3.53%\", \"3.25%\", \"2.98%\", \"2.69%\", \"2.32%\", \"2.07%\", \"1.95%\", \"1.87%\", \"1.65%\", \"1.63%\", \"1.53%\", \"1.43%\", \"1.38%\", \"1.06%\", \"0.76%\", \"0.49%\", \"0.49%\", \"0.49%\", \"0.22%\", \"0.20%\"], \"x\": [\"Games\", \"Entertainment\", \"Photo & Video\", \"Social Networking\", \"Education\", \"Shopping\", \"Utilities\", \"Lifestyle\", \"Finance\", \"Sports\", \"Health & Fitness\", \"Music\", \"Book\", \"Productivity\", \"News\", \"Travel\", \"Food & Drink\", \"Weather\", \"Reference\", \"Business\", \"Navigation\", \"Catalogs\", \"Medical\"], \"y\": [2257, 334, 167, 143, 132, 121, 109, 94, 84, 79, 76, 67, 66, 62, 58, 56, 43, 31, 20, 20, 20, 9, 8], \"type\": \"bar\", \"uid\": \"e02659a6-d8ec-11e8-8ac2-5435308b7835\", \"xaxis\": \"x3\", \"yaxis\": \"y3\"}, {\"name\": \"Not-Free\", \"opacity\": 0.7, \"text\": [\"51.10%\", \"10.22%\", \"6.40%\", \"5.79%\", \"4.43%\", \"3.69%\", \"3.31%\", \"2.26%\", \"1.59%\", \"1.46%\", \"1.40%\", \"1.31%\", \"1.18%\", \"1.11%\", \"0.83%\", \"0.80%\", \"0.76%\", \"0.64%\", \"0.64%\", \"0.54%\", \"0.48%\", \"0.03%\", \"0.03%\"], \"x\": [\"Games\", \"Education\", \"Entertainment\", \"Photo & Video\", \"Utilities\", \"Productivity\", \"Health & Fitness\", \"Music\", \"Lifestyle\", \"Book\", \"Reference\", \"Weather\", \"Business\", \"Sports\", \"Navigation\", \"Travel\", \"Social Networking\", \"Finance\", \"Food & Drink\", \"News\", \"Medical\", \"Shopping\", \"Catalogs\"], \"y\": [1605, 321, 201, 182, 139, 116, 104, 71, 50, 46, 44, 41, 37, 35, 26, 25, 24, 20, 20, 17, 15, 1, 1], \"type\": \"bar\", \"uid\": \"e02659a7-d8ec-11e8-8ac2-5435308b7835\", \"xaxis\": \"x3\", \"yaxis\": \"y3\"}], {\"annotations\": [{\"font\": {\"size\": 16}, \"showarrow\": false, \"text\": \"(1) Countplot for Prime_genre of Free\", \"x\": 0.225, \"xanchor\": \"center\", \"xref\": \"paper\", \"y\": 1.0, \"yanchor\": \"bottom\", \"yref\": \"paper\"}, {\"font\": {\"size\": 16}, \"showarrow\": false, \"text\": \"(2) Countplot for Prime_genre of Not-Free\", \"x\": 0.775, \"xanchor\": \"center\", \"xref\": \"paper\", \"y\": 1.0, \"yanchor\": \"bottom\", \"yref\": \"paper\"}, {\"font\": {\"size\": 16}, \"showarrow\": false, \"text\": \"(3) Grouped barplot containing Free(green) and Not-Free(red)\", \"x\": 0.5, \"xanchor\": \"center\", \"xref\": \"paper\", \"y\": 0.375, \"yanchor\": \"bottom\", \"yref\": \"paper\"}], \"xaxis\": {\"anchor\": \"y\", \"domain\": [0.0, 0.45]}, \"yaxis\": {\"anchor\": \"x\", \"domain\": [0.625, 1.0], \"title\": \"Count\"}, \"xaxis2\": {\"anchor\": \"y2\", \"domain\": [0.55, 1.0]}, \"yaxis2\": {\"anchor\": \"x2\", \"domain\": [0.625, 1.0], \"title\": \"Count\"}, \"xaxis3\": {\"anchor\": \"y3\", \"domain\": [0.0, 1.0]}, \"yaxis3\": {\"anchor\": \"x3\", \"domain\": [0.0, 0.375], \"title\": \"Count\"}, \"showlegend\": false, \"width\": 800, \"height\": 800}, {\"showLink\": true, \"linkText\": \"Export to plot.ly\"})});</script>"
      ],
      "text/vnd.plotly.v1+html": [
       "<div id=\"f37cb720-b5fc-4406-a9bc-fb4d322253ce\" style=\"height: 800px; width: 800px;\" class=\"plotly-graph-div\"></div><script type=\"text/javascript\">require([\"plotly\"], function(Plotly) { window.PLOTLYENV=window.PLOTLYENV || {};window.PLOTLYENV.BASE_URL=\"https://plot.ly\";Plotly.newPlot(\"f37cb720-b5fc-4406-a9bc-fb4d322253ce\", [{\"marker\": {\"color\": [\"#9CEE5A\", \"#3B4FB4\", \"#622AC2\", \"#C25494\", \"#412DAC\", \"#52F346\", \"#89490E\", \"#126506\", \"#739C7E\", \"#9121CA\", \"#F60689\", \"#2831E4\", \"#92CD2A\", \"#D3DFC9\", \"#FDB897\", \"#404DEC\", \"#C43671\", \"#4DF045\", \"#CD9771\", \"#12F615\", \"#243831\", \"#3A62C7\", \"#6E0B50\", \"#6DC481\", \"#EC286B\", \"#D6F4F5\", \"#65FA7F\", \"#CDFA6B\", \"#29A5CF\", \"#F312A9\", \"#DFAE81\", \"#D034FB\", \"#572595\", \"#7139FC\", \"#B0F641\", \"#CE4C18\", \"#C1BDAF\", \"#3EA4CD\", \"#5F762B\", \"#6FE038\", \"#03E3E2\", \"#249CDC\", \"#153856\", \"#82E6DA\", \"#46AC38\", \"#4575F2\", \"#016236\", \"#62CE2C\", \"#386D84\", \"#2AC91E\", \"#487816\", \"#F9B5A0\", \"#3E419B\", \"#3E1111\", \"#85C6B1\", \"#F16DC0\", \"#4C78E7\", \"#370477\", \"#BC019A\", \"#0E50ED\", \"#C3BDE7\", \"#6A3DB7\", \"#619258\", \"#DFDFA1\", \"#39090B\", \"#4C484A\", \"#061B78\", \"#DDB16A\", \"#791E31\", \"#7A6966\", \"#426B8C\", \"#F6B4BD\", \"#9E201B\", \"#4E2E54\", \"#A4136D\", \"#1D1EC5\", \"#C8686C\", \"#2C3161\", \"#06140A\", \"#E8A2D3\", \"#B12811\", \"#E95DA9\", \"#79ECC3\", \"#3AEEB8\", \"#D12909\", \"#6F2556\", \"#8B6793\", \"#04B326\", \"#BCD269\", \"#825A3A\", \"#F766DD\", \"#805D82\", \"#1DAE7B\", \"#9EAA3E\", \"#8455A0\", \"#146148\", \"#F08A62\", \"#ACE5D7\", \"#E19515\", \"#3D3C74\"], \"line\": {\"color\": \"rgb(8, 48, 107)\", \"width\": 1.5}}, \"opacity\": 0.7, \"text\": [\"55.65%\", \"8.23%\", \"4.12%\", \"3.53%\", \"3.25%\", \"2.98%\", \"2.69%\", \"2.32%\", \"2.07%\", \"1.95%\", \"1.87%\", \"1.65%\", \"1.63%\", \"1.53%\", \"1.43%\", \"1.38%\", \"1.06%\", \"0.76%\", \"0.49%\", \"0.49%\", \"0.49%\", \"0.22%\", \"0.20%\"], \"x\": [\"Games\", \"Entertainment\", \"Photo & Video\", \"Social Networking\", \"Education\", \"Shopping\", \"Utilities\", \"Lifestyle\", \"Finance\", \"Sports\", \"Health & Fitness\", \"Music\", \"Book\", \"Productivity\", \"News\", \"Travel\", \"Food & Drink\", \"Weather\", \"Reference\", \"Business\", \"Navigation\", \"Catalogs\", \"Medical\"], \"y\": [2257, 334, 167, 143, 132, 121, 109, 94, 84, 79, 76, 67, 66, 62, 58, 56, 43, 31, 20, 20, 20, 9, 8], \"type\": \"bar\", \"uid\": \"e02659a4-d8ec-11e8-8ac2-5435308b7835\", \"xaxis\": \"x\", \"yaxis\": \"y\"}, {\"marker\": {\"color\": [\"#86DDDA\", \"#EC92CC\", \"#36F8EE\", \"#AAEAD4\", \"#BA3849\", \"#5268E3\", \"#A4891F\", \"#E0D808\", \"#BD418A\", \"#DBF3E6\", \"#95E6CA\", \"#7A2424\", \"#3FB4F7\", \"#72F1DC\", \"#02EFFE\", \"#AE6C19\", \"#4F641E\", \"#90F877\", \"#B012CB\", \"#FDD913\", \"#42AC26\", \"#6101D1\", \"#7579F9\", \"#E3BDDD\", \"#C7B838\", \"#24E5BD\", \"#37E0AF\", \"#148E9A\", \"#A0053E\", \"#03A61C\", \"#66305F\", \"#5296DB\", \"#805346\", \"#C1AB6F\", \"#17E4AC\", \"#F427F9\", \"#465407\", \"#CB0221\", \"#4FBE0F\", \"#6D959B\", \"#ABB14C\", \"#AC804E\", \"#16A5EB\", \"#BA1CEB\", \"#23CD20\", \"#460F48\", \"#B17DC9\", \"#516D19\", \"#601CCD\", \"#E8D2F9\", \"#4CE5EC\", \"#6E6A2B\", \"#F95340\", \"#F07FE7\", \"#4BCB61\", \"#433700\", \"#23AB87\", \"#AE0669\", \"#A449A9\", \"#B2361C\", \"#D26A0C\", \"#753989\", \"#505A03\", \"#3C3A72\", \"#266DF6\", \"#C0D72E\", \"#54D163\", \"#4EE210\", \"#C42F29\", \"#0DBFCB\", \"#46C87F\", \"#7038FA\", \"#D1BEE1\", \"#61ABB7\", \"#AC6F8A\", \"#AB50D1\", \"#8969BE\", \"#64147D\", \"#14CB9F\", \"#B45A62\", \"#CED8D9\", \"#CF41DD\", \"#143CEB\", \"#22AD5A\", \"#3770A4\", \"#BA25D2\", \"#C62E4A\", \"#23ACE3\", \"#023CDC\", \"#C0D555\", \"#EFBC13\", \"#5E27DD\", \"#689F57\", \"#82EC23\", \"#99FE07\", \"#739848\", \"#BC9599\", \"#1330CF\", \"#460F32\", \"#787062\"], \"line\": {\"color\": \"rgb(8, 48, 107)\", \"width\": 1.5}}, \"opacity\": 0.7, \"text\": [\"51.10%\", \"10.22%\", \"6.40%\", \"5.79%\", \"4.43%\", \"3.69%\", \"3.31%\", \"2.26%\", \"1.59%\", \"1.46%\", \"1.40%\", \"1.31%\", \"1.18%\", \"1.11%\", \"0.83%\", \"0.80%\", \"0.76%\", \"0.64%\", \"0.64%\", \"0.54%\", \"0.48%\", \"0.03%\", \"0.03%\"], \"x\": [\"Games\", \"Education\", \"Entertainment\", \"Photo & Video\", \"Utilities\", \"Productivity\", \"Health & Fitness\", \"Music\", \"Lifestyle\", \"Book\", \"Reference\", \"Weather\", \"Business\", \"Sports\", \"Navigation\", \"Travel\", \"Social Networking\", \"Finance\", \"Food & Drink\", \"News\", \"Medical\", \"Shopping\", \"Catalogs\"], \"y\": [1605, 321, 201, 182, 139, 116, 104, 71, 50, 46, 44, 41, 37, 35, 26, 25, 24, 20, 20, 17, 15, 1, 1], \"type\": \"bar\", \"uid\": \"e02659a5-d8ec-11e8-8ac2-5435308b7835\", \"xaxis\": \"x2\", \"yaxis\": \"y2\"}, {\"name\": \"Free\", \"opacity\": 0.7, \"text\": [\"55.65%\", \"8.23%\", \"4.12%\", \"3.53%\", \"3.25%\", \"2.98%\", \"2.69%\", \"2.32%\", \"2.07%\", \"1.95%\", \"1.87%\", \"1.65%\", \"1.63%\", \"1.53%\", \"1.43%\", \"1.38%\", \"1.06%\", \"0.76%\", \"0.49%\", \"0.49%\", \"0.49%\", \"0.22%\", \"0.20%\"], \"x\": [\"Games\", \"Entertainment\", \"Photo & Video\", \"Social Networking\", \"Education\", \"Shopping\", \"Utilities\", \"Lifestyle\", \"Finance\", \"Sports\", \"Health & Fitness\", \"Music\", \"Book\", \"Productivity\", \"News\", \"Travel\", \"Food & Drink\", \"Weather\", \"Reference\", \"Business\", \"Navigation\", \"Catalogs\", \"Medical\"], \"y\": [2257, 334, 167, 143, 132, 121, 109, 94, 84, 79, 76, 67, 66, 62, 58, 56, 43, 31, 20, 20, 20, 9, 8], \"type\": \"bar\", \"uid\": \"e02659a6-d8ec-11e8-8ac2-5435308b7835\", \"xaxis\": \"x3\", \"yaxis\": \"y3\"}, {\"name\": \"Not-Free\", \"opacity\": 0.7, \"text\": [\"51.10%\", \"10.22%\", \"6.40%\", \"5.79%\", \"4.43%\", \"3.69%\", \"3.31%\", \"2.26%\", \"1.59%\", \"1.46%\", \"1.40%\", \"1.31%\", \"1.18%\", \"1.11%\", \"0.83%\", \"0.80%\", \"0.76%\", \"0.64%\", \"0.64%\", \"0.54%\", \"0.48%\", \"0.03%\", \"0.03%\"], \"x\": [\"Games\", \"Education\", \"Entertainment\", \"Photo & Video\", \"Utilities\", \"Productivity\", \"Health & Fitness\", \"Music\", \"Lifestyle\", \"Book\", \"Reference\", \"Weather\", \"Business\", \"Sports\", \"Navigation\", \"Travel\", \"Social Networking\", \"Finance\", \"Food & Drink\", \"News\", \"Medical\", \"Shopping\", \"Catalogs\"], \"y\": [1605, 321, 201, 182, 139, 116, 104, 71, 50, 46, 44, 41, 37, 35, 26, 25, 24, 20, 20, 17, 15, 1, 1], \"type\": \"bar\", \"uid\": \"e02659a7-d8ec-11e8-8ac2-5435308b7835\", \"xaxis\": \"x3\", \"yaxis\": \"y3\"}], {\"annotations\": [{\"font\": {\"size\": 16}, \"showarrow\": false, \"text\": \"(1) Countplot for Prime_genre of Free\", \"x\": 0.225, \"xanchor\": \"center\", \"xref\": \"paper\", \"y\": 1.0, \"yanchor\": \"bottom\", \"yref\": \"paper\"}, {\"font\": {\"size\": 16}, \"showarrow\": false, \"text\": \"(2) Countplot for Prime_genre of Not-Free\", \"x\": 0.775, \"xanchor\": \"center\", \"xref\": \"paper\", \"y\": 1.0, \"yanchor\": \"bottom\", \"yref\": \"paper\"}, {\"font\": {\"size\": 16}, \"showarrow\": false, \"text\": \"(3) Grouped barplot containing Free(green) and Not-Free(red)\", \"x\": 0.5, \"xanchor\": \"center\", \"xref\": \"paper\", \"y\": 0.375, \"yanchor\": \"bottom\", \"yref\": \"paper\"}], \"xaxis\": {\"anchor\": \"y\", \"domain\": [0.0, 0.45]}, \"yaxis\": {\"anchor\": \"x\", \"domain\": [0.625, 1.0], \"title\": \"Count\"}, \"xaxis2\": {\"anchor\": \"y2\", \"domain\": [0.55, 1.0]}, \"yaxis2\": {\"anchor\": \"x2\", \"domain\": [0.625, 1.0], \"title\": \"Count\"}, \"xaxis3\": {\"anchor\": \"y3\", \"domain\": [0.0, 1.0]}, \"yaxis3\": {\"anchor\": \"x3\", \"domain\": [0.0, 0.375], \"title\": \"Count\"}, \"showlegend\": false, \"width\": 800, \"height\": 800}, {\"showLink\": true, \"linkText\": \"Export to plot.ly\"})});</script>"
      ]
     },
     "metadata": {},
     "output_type": "display_data"
    }
   ],
   "source": [
    "cnt_srs1 = df_app_free['prime_genre'].value_counts()\n",
    "text1 = ['{:.2f}%'.format(100 * (value / cnt_srs1.sum())) for value in cnt_srs1.values]\n",
    "\n",
    "trace1 = go.Bar(\n",
    "    x = cnt_srs1.index,\n",
    "    y = cnt_srs1.values,\n",
    "    text = text1,\n",
    "    marker = dict(\n",
    "        color = random_color_generator(100),\n",
    "        line = dict(color='rgb(8, 48, 107)',\n",
    "                    width = 1.5)\n",
    "    ),\n",
    "    opacity = 0.7\n",
    ")\n",
    "\n",
    "cnt_srs2 = df_app_notfree['prime_genre'].value_counts()\n",
    "text2 = ['{:.2f}%'.format(100 * (value / cnt_srs2.sum())) for value in cnt_srs2.values]\n",
    "\n",
    "trace2 = go.Bar(\n",
    "    x = cnt_srs2.index,\n",
    "    y = cnt_srs2.values,\n",
    "    text = text2,\n",
    "    marker = dict(\n",
    "        color = random_color_generator(100),\n",
    "        line = dict(color='rgb(8, 48, 107)',\n",
    "                    width = 1.5)\n",
    "    ),\n",
    "    opacity = 0.7\n",
    ")\n",
    "\n",
    "trace3 = go.Bar(\n",
    "    x = cnt_srs1.index,\n",
    "    y = cnt_srs1.values,\n",
    "    text = text1,\n",
    "    opacity = 0.7,\n",
    "    name='Free'\n",
    ")\n",
    "\n",
    "\n",
    "trace4 = go.Bar(\n",
    "    x = cnt_srs2.index,\n",
    "    y = cnt_srs2.values,\n",
    "    text = text2,\n",
    "    opacity = 0.7,\n",
    "    name='Not-Free'\n",
    ")\n",
    "\n",
    "\n",
    "\n",
    "fig = tools.make_subplots(rows=2, cols=2, specs = [[{}, {}], [{'colspan':2}, None]], \n",
    "                          subplot_titles=('(1) Countplot for Prime_genre of Free', '(2) Countplot for Prime_genre of Not-Free', \n",
    "                                          '(3) Grouped barplot containing Free(green) and Not-Free(red)'), print_grid=False)\n",
    "fig.append_trace(trace1, 1, 1)\n",
    "fig.append_trace(trace2, 1, 2)\n",
    "fig.append_trace(trace3, 2, 1)\n",
    "fig.append_trace(trace4, 2, 1)\n",
    "\n",
    "fig['layout']['yaxis1'].update(title='Count')\n",
    "fig['layout']['yaxis2'].update(title='Count')\n",
    "fig['layout']['yaxis3'].update(title='Count')\n",
    "\n",
    "fig['layout'].update(showlegend=False, width=800, height=800)\n",
    "\n",
    "py.iplot(fig)"
   ]
  },
  {
   "cell_type": "markdown",
   "metadata": {
    "_uuid": "4f0fd6b9a655a5d9f978452eb7f84332e08b966d"
   },
   "source": [
    "### Figure 1\n",
    "- For Free App, Top 3 is below.\n",
    "\n",
    "(1) Games (2) Entertainments (3) Photo & Video\n",
    "### Figure 2\n",
    "\n",
    "- For Not-Free App, Top 3 is below\n",
    "\n",
    "(1) Games (2) Education (3) Entertainments"
   ]
  },
  {
   "cell_type": "markdown",
   "metadata": {
    "_uuid": "256ebd19b3969d9c3c519948704ed0300dcba24d"
   },
   "source": [
    "## User rating depending on prime_genre"
   ]
  },
  {
   "cell_type": "code",
   "execution_count": 16,
   "metadata": {
    "_kg_hide-input": true,
    "_uuid": "d3825adc924837e9a41ec03a45cbaaebc36fa471"
   },
   "outputs": [
    {
     "data": {
      "application/vnd.plotly.v1+json": {
       "data": [
        {
         "marker": {
          "color": [
           "#32F2E3",
           "#1CBEB8",
           "#83A74D",
           "#8DD8EB",
           "#2B0165",
           "#D55EE8",
           "#0EA725",
           "#CFDA72",
           "#9937D9",
           "#D52489",
           "#D5333C",
           "#35EEB8",
           "#36FE4A",
           "#B29CDB",
           "#01B6CF",
           "#D90328",
           "#4287E6",
           "#F21857",
           "#1EF11A",
           "#3D7CCF",
           "#7126CB",
           "#EFC008",
           "#421D61",
           "#2671AB",
           "#174B98",
           "#408BF0",
           "#14C847",
           "#8489C7",
           "#5BCC85",
           "#343C6F",
           "#A835E2",
           "#A2884D",
           "#40711A",
           "#3AF560",
           "#F847EE",
           "#D7B37D",
           "#3E5922",
           "#F271C6",
           "#1C5BE7",
           "#0DEBA7",
           "#4F5E90",
           "#2572D4",
           "#C8A9D1",
           "#E1AA76",
           "#946E3D",
           "#A44A96",
           "#B8BDCC",
           "#6E262F",
           "#8017AA",
           "#79F3B1",
           "#01BB56",
           "#2749FE",
           "#8D4B20",
           "#A8D274",
           "#57C5D4",
           "#36EB6A",
           "#C70E86",
           "#730C33",
           "#9CDE3F",
           "#FBB45D",
           "#BC213C",
           "#D7F375",
           "#3AC989",
           "#70BE4F",
           "#B5EA40",
           "#0BB17D",
           "#EEF491",
           "#C71C18",
           "#24B968",
           "#197006",
           "#466031",
           "#0CB594",
           "#B62E0C",
           "#9AE64D",
           "#CE4A25",
           "#98ECFC",
           "#C7FC2D",
           "#60D09C",
           "#B6A670",
           "#86E5DC",
           "#1E46AC",
           "#1F4F7E",
           "#B82EC9",
           "#899825",
           "#1AF2C4",
           "#227EF0",
           "#39EA69",
           "#46E5C6",
           "#49077E",
           "#CDEC74",
           "#B0C30B",
           "#0D5726",
           "#CC5BB2",
           "#EA851E",
           "#5533B7",
           "#1D1F63",
           "#789F95",
           "#2B5430",
           "#7E2A13",
           "#FEEBFF"
          ],
          "line": {
           "color": "rgb(8, 48, 107)",
           "width": 1.5
          }
         },
         "opacity": 0.7,
         "type": "bar",
         "uid": "e1670124-d8ec-11e8-8ac2-5435308b7835",
         "x": [
          "Productivity",
          "Music",
          "Photo & Video",
          "Business",
          "Health & Fitness",
          "Games",
          "Weather",
          "Shopping",
          "Reference",
          "Travel",
          "Education",
          "Medical",
          "Utilities",
          "Entertainment",
          "Food & Drink",
          "Social Networking",
          "Sports",
          "News",
          "Lifestyle",
          "Navigation",
          "Book",
          "Finance",
          "Catalogs"
         ],
         "y": [
          4.00561797752809,
          3.9782608695652173,
          3.8008595988538683,
          3.745614035087719,
          3.7,
          3.6850077679958573,
          3.5972222222222223,
          3.540983606557377,
          3.453125,
          3.376543209876543,
          3.376379690949227,
          3.369565217391304,
          3.278225806451613,
          3.2467289719626167,
          3.1825396825396823,
          2.9850299401197606,
          2.982456140350877,
          2.98,
          2.8055555555555554,
          2.6847826086956523,
          2.4776785714285716,
          2.4326923076923075,
          2.1
         ]
        }
       ],
       "layout": {
        "height": 500,
        "margin": {
         "l": 100
        },
        "title": "User rating depending on Prime genre",
        "width": 800,
        "xaxis": {
         "title": "Genre"
        },
        "yaxis": {
         "title": "Mean User Rating"
        }
       }
      },
      "text/html": [
       "<div id=\"3e6d8bb1-def4-4fab-8162-d796f3657004\" style=\"height: 500px; width: 800px;\" class=\"plotly-graph-div\"></div><script type=\"text/javascript\">require([\"plotly\"], function(Plotly) { window.PLOTLYENV=window.PLOTLYENV || {};window.PLOTLYENV.BASE_URL=\"https://plot.ly\";Plotly.newPlot(\"3e6d8bb1-def4-4fab-8162-d796f3657004\", [{\"marker\": {\"color\": [\"#32F2E3\", \"#1CBEB8\", \"#83A74D\", \"#8DD8EB\", \"#2B0165\", \"#D55EE8\", \"#0EA725\", \"#CFDA72\", \"#9937D9\", \"#D52489\", \"#D5333C\", \"#35EEB8\", \"#36FE4A\", \"#B29CDB\", \"#01B6CF\", \"#D90328\", \"#4287E6\", \"#F21857\", \"#1EF11A\", \"#3D7CCF\", \"#7126CB\", \"#EFC008\", \"#421D61\", \"#2671AB\", \"#174B98\", \"#408BF0\", \"#14C847\", \"#8489C7\", \"#5BCC85\", \"#343C6F\", \"#A835E2\", \"#A2884D\", \"#40711A\", \"#3AF560\", \"#F847EE\", \"#D7B37D\", \"#3E5922\", \"#F271C6\", \"#1C5BE7\", \"#0DEBA7\", \"#4F5E90\", \"#2572D4\", \"#C8A9D1\", \"#E1AA76\", \"#946E3D\", \"#A44A96\", \"#B8BDCC\", \"#6E262F\", \"#8017AA\", \"#79F3B1\", \"#01BB56\", \"#2749FE\", \"#8D4B20\", \"#A8D274\", \"#57C5D4\", \"#36EB6A\", \"#C70E86\", \"#730C33\", \"#9CDE3F\", \"#FBB45D\", \"#BC213C\", \"#D7F375\", \"#3AC989\", \"#70BE4F\", \"#B5EA40\", \"#0BB17D\", \"#EEF491\", \"#C71C18\", \"#24B968\", \"#197006\", \"#466031\", \"#0CB594\", \"#B62E0C\", \"#9AE64D\", \"#CE4A25\", \"#98ECFC\", \"#C7FC2D\", \"#60D09C\", \"#B6A670\", \"#86E5DC\", \"#1E46AC\", \"#1F4F7E\", \"#B82EC9\", \"#899825\", \"#1AF2C4\", \"#227EF0\", \"#39EA69\", \"#46E5C6\", \"#49077E\", \"#CDEC74\", \"#B0C30B\", \"#0D5726\", \"#CC5BB2\", \"#EA851E\", \"#5533B7\", \"#1D1F63\", \"#789F95\", \"#2B5430\", \"#7E2A13\", \"#FEEBFF\"], \"line\": {\"color\": \"rgb(8, 48, 107)\", \"width\": 1.5}}, \"opacity\": 0.7, \"x\": [\"Productivity\", \"Music\", \"Photo & Video\", \"Business\", \"Health & Fitness\", \"Games\", \"Weather\", \"Shopping\", \"Reference\", \"Travel\", \"Education\", \"Medical\", \"Utilities\", \"Entertainment\", \"Food & Drink\", \"Social Networking\", \"Sports\", \"News\", \"Lifestyle\", \"Navigation\", \"Book\", \"Finance\", \"Catalogs\"], \"y\": [4.00561797752809, 3.9782608695652173, 3.8008595988538683, 3.745614035087719, 3.7, 3.6850077679958573, 3.5972222222222223, 3.540983606557377, 3.453125, 3.376543209876543, 3.376379690949227, 3.369565217391304, 3.278225806451613, 3.2467289719626167, 3.1825396825396823, 2.9850299401197606, 2.982456140350877, 2.98, 2.8055555555555554, 2.6847826086956523, 2.4776785714285716, 2.4326923076923075, 2.1], \"type\": \"bar\", \"uid\": \"e1670124-d8ec-11e8-8ac2-5435308b7835\"}], {\"height\": 500, \"margin\": {\"l\": 100}, \"title\": \"User rating depending on Prime genre\", \"width\": 800, \"xaxis\": {\"title\": \"Genre\"}, \"yaxis\": {\"title\": \"Mean User Rating\"}}, {\"showLink\": true, \"linkText\": \"Export to plot.ly\"})});</script>"
      ],
      "text/vnd.plotly.v1+html": [
       "<div id=\"3e6d8bb1-def4-4fab-8162-d796f3657004\" style=\"height: 500px; width: 800px;\" class=\"plotly-graph-div\"></div><script type=\"text/javascript\">require([\"plotly\"], function(Plotly) { window.PLOTLYENV=window.PLOTLYENV || {};window.PLOTLYENV.BASE_URL=\"https://plot.ly\";Plotly.newPlot(\"3e6d8bb1-def4-4fab-8162-d796f3657004\", [{\"marker\": {\"color\": [\"#32F2E3\", \"#1CBEB8\", \"#83A74D\", \"#8DD8EB\", \"#2B0165\", \"#D55EE8\", \"#0EA725\", \"#CFDA72\", \"#9937D9\", \"#D52489\", \"#D5333C\", \"#35EEB8\", \"#36FE4A\", \"#B29CDB\", \"#01B6CF\", \"#D90328\", \"#4287E6\", \"#F21857\", \"#1EF11A\", \"#3D7CCF\", \"#7126CB\", \"#EFC008\", \"#421D61\", \"#2671AB\", \"#174B98\", \"#408BF0\", \"#14C847\", \"#8489C7\", \"#5BCC85\", \"#343C6F\", \"#A835E2\", \"#A2884D\", \"#40711A\", \"#3AF560\", \"#F847EE\", \"#D7B37D\", \"#3E5922\", \"#F271C6\", \"#1C5BE7\", \"#0DEBA7\", \"#4F5E90\", \"#2572D4\", \"#C8A9D1\", \"#E1AA76\", \"#946E3D\", \"#A44A96\", \"#B8BDCC\", \"#6E262F\", \"#8017AA\", \"#79F3B1\", \"#01BB56\", \"#2749FE\", \"#8D4B20\", \"#A8D274\", \"#57C5D4\", \"#36EB6A\", \"#C70E86\", \"#730C33\", \"#9CDE3F\", \"#FBB45D\", \"#BC213C\", \"#D7F375\", \"#3AC989\", \"#70BE4F\", \"#B5EA40\", \"#0BB17D\", \"#EEF491\", \"#C71C18\", \"#24B968\", \"#197006\", \"#466031\", \"#0CB594\", \"#B62E0C\", \"#9AE64D\", \"#CE4A25\", \"#98ECFC\", \"#C7FC2D\", \"#60D09C\", \"#B6A670\", \"#86E5DC\", \"#1E46AC\", \"#1F4F7E\", \"#B82EC9\", \"#899825\", \"#1AF2C4\", \"#227EF0\", \"#39EA69\", \"#46E5C6\", \"#49077E\", \"#CDEC74\", \"#B0C30B\", \"#0D5726\", \"#CC5BB2\", \"#EA851E\", \"#5533B7\", \"#1D1F63\", \"#789F95\", \"#2B5430\", \"#7E2A13\", \"#FEEBFF\"], \"line\": {\"color\": \"rgb(8, 48, 107)\", \"width\": 1.5}}, \"opacity\": 0.7, \"x\": [\"Productivity\", \"Music\", \"Photo & Video\", \"Business\", \"Health & Fitness\", \"Games\", \"Weather\", \"Shopping\", \"Reference\", \"Travel\", \"Education\", \"Medical\", \"Utilities\", \"Entertainment\", \"Food & Drink\", \"Social Networking\", \"Sports\", \"News\", \"Lifestyle\", \"Navigation\", \"Book\", \"Finance\", \"Catalogs\"], \"y\": [4.00561797752809, 3.9782608695652173, 3.8008595988538683, 3.745614035087719, 3.7, 3.6850077679958573, 3.5972222222222223, 3.540983606557377, 3.453125, 3.376543209876543, 3.376379690949227, 3.369565217391304, 3.278225806451613, 3.2467289719626167, 3.1825396825396823, 2.9850299401197606, 2.982456140350877, 2.98, 2.8055555555555554, 2.6847826086956523, 2.4776785714285716, 2.4326923076923075, 2.1], \"type\": \"bar\", \"uid\": \"e1670124-d8ec-11e8-8ac2-5435308b7835\"}], {\"height\": 500, \"margin\": {\"l\": 100}, \"title\": \"User rating depending on Prime genre\", \"width\": 800, \"xaxis\": {\"title\": \"Genre\"}, \"yaxis\": {\"title\": \"Mean User Rating\"}}, {\"showLink\": true, \"linkText\": \"Export to plot.ly\"})});</script>"
      ]
     },
     "metadata": {},
     "output_type": "display_data"
    }
   ],
   "source": [
    "cnt_srs = df_app[['prime_genre', 'user_rating']].groupby('prime_genre').mean()['user_rating'].sort_values(ascending=False)\n",
    "\n",
    "trace = go.Bar(\n",
    "    x = cnt_srs.index,\n",
    "    y = cnt_srs.values,\n",
    "    marker = dict(\n",
    "        color = random_color_generator(100),\n",
    "        line = dict(color='rgb(8, 48, 107)',\n",
    "                    width = 1.5)\n",
    "    ),\n",
    "    opacity = 0.7\n",
    ")\n",
    "data = [trace]\n",
    "\n",
    "layout = go.Layout(\n",
    "    title = 'User rating depending on Prime genre',\n",
    "    margin = dict(\n",
    "        l = 100\n",
    "    ),\n",
    "    xaxis = dict(\n",
    "        title = 'Genre'\n",
    "    ),\n",
    "    yaxis = dict(\n",
    "        title = 'Mean User Rating'\n",
    "    ),\n",
    "    width = 800,\n",
    "    height = 500\n",
    ")\n",
    "\n",
    "fig = go.Figure(data=data, layout=layout)\n",
    "py.iplot(fig)"
   ]
  },
  {
   "cell_type": "markdown",
   "metadata": {
    "_uuid": "b8dfdbc9f51e2781916e57173cbbf06c7176322e"
   },
   "source": [
    "- With not considering 'isNotFree', The Apps for Productivity, Music and Photo & Video have higher mean user rating.\n",
    "- The mean user rating of Book, Finance and Catalogs are less than 2.5."
   ]
  },
  {
   "cell_type": "code",
   "execution_count": 17,
   "metadata": {
    "_kg_hide-input": true,
    "_uuid": "6fdb63b824dc6cf962fc81edfbab5f60d37a919c"
   },
   "outputs": [
    {
     "data": {
      "application/vnd.plotly.v1+json": {
       "data": [
        {
         "marker": {
          "color": [
           "#35DD7B",
           "#56B1D6",
           "#9DBE82",
           "#F18A5F",
           "#AD87D2",
           "#13EFE4",
           "#7FC8CA",
           "#E9485E",
           "#72B60F",
           "#557971",
           "#4C0830",
           "#B0FFCF",
           "#FB2A69",
           "#7B41F4",
           "#590415",
           "#3C5A7D",
           "#8CBA96",
           "#223424",
           "#C68356",
           "#843108",
           "#7608DD",
           "#9165AD",
           "#6EE509",
           "#9B3CA2",
           "#A3F6A3",
           "#7CA032",
           "#4E85C2",
           "#801462",
           "#56BEA9",
           "#D12483",
           "#D9B4B1",
           "#1CEF0B",
           "#C0EF79",
           "#437A21",
           "#8759E4",
           "#96E41B",
           "#A2BE16",
           "#84451D",
           "#2FEC3A",
           "#9BDECB",
           "#F64850",
           "#C357EF",
           "#59D16E",
           "#B674B7",
           "#72735B",
           "#9B1D25",
           "#A791E7",
           "#89A9B7",
           "#A1DF8F",
           "#D11A93",
           "#C91D03",
           "#7F9ACE",
           "#3B5A04",
           "#FDF7BD",
           "#0BC00C",
           "#FFA9D6",
           "#FAAAFF",
           "#4C7E06",
           "#051BDE",
           "#0EE133",
           "#D1786A",
           "#9C1C7E",
           "#0D6F61",
           "#390FCB",
           "#A2A341",
           "#0C4A7E",
           "#80F12C",
           "#53A034",
           "#C63955",
           "#7D8D3B",
           "#DF89C3",
           "#E25E13",
           "#10B8B8",
           "#526A20",
           "#BDEC48",
           "#D84700",
           "#735BF8",
           "#342801",
           "#0B0AE6",
           "#59514A",
           "#A91405",
           "#59DEB7",
           "#664CFC",
           "#C5BD88",
           "#D73609",
           "#B48B28",
           "#9986B0",
           "#273AD4",
           "#06BB0B",
           "#590C72",
           "#971302",
           "#BDAB5B",
           "#D3D5FB",
           "#EEAA9C",
           "#3C502E",
           "#2F2D25",
           "#599E12",
           "#E82DFE",
           "#74F2D5",
           "#59E8BA"
          ],
          "line": {
           "color": "rgb(8, 48, 107)",
           "width": 1.5
          }
         },
         "opacity": 0.7,
         "type": "bar",
         "uid": "e1670125-d8ec-11e8-8ac2-5435308b7835",
         "x": [
          "Productivity",
          "Music",
          "Photo & Video",
          "Health & Fitness",
          "Shopping",
          "Games",
          "Business",
          "Education",
          "Utilities",
          "Travel",
          "Reference",
          "Weather",
          "Entertainment",
          "Food & Drink",
          "Social Networking",
          "Sports",
          "News",
          "Medical",
          "Lifestyle",
          "Finance",
          "Navigation",
          "Catalogs",
          "Book"
         ],
         "xaxis": "x",
         "y": [
          3.9596774193548385,
          3.9402985074626864,
          3.7934131736526946,
          3.5789473684210527,
          3.5330578512396693,
          3.5285777580859548,
          3.5,
          3.484848484848485,
          3.4541284403669725,
          3.375,
          3.3,
          3.2580645161290325,
          3.1482035928143715,
          3.0348837209302326,
          2.9965034965034967,
          2.9177215189873418,
          2.8793103448275863,
          2.875,
          2.5904255319148937,
          2.2202380952380953,
          2.2,
          1.8333333333333333,
          1.5984848484848484
         ],
         "yaxis": "y"
        },
        {
         "marker": {
          "color": [
           "#420A2E",
           "#9008F7",
           "#6332A5",
           "#C2DEA8",
           "#DAFF35",
           "#042101",
           "#E42A65",
           "#5156AE",
           "#2A2B86",
           "#21A2B9",
           "#0F98CE",
           "#D32C66",
           "#BAF890",
           "#F2B66E",
           "#C14370",
           "#6A835E",
           "#E124DF",
           "#2112C5",
           "#E64E22",
           "#17B892",
           "#8E51E2",
           "#989B3C",
           "#BC16C8",
           "#F134A3",
           "#6DD8EF",
           "#4FAEA6",
           "#56C2B0",
           "#A5FEF6",
           "#516AF4",
           "#E29EA6",
           "#B1A4B1",
           "#C6700A",
           "#E96651",
           "#79CE33",
           "#197FB3",
           "#E20D76",
           "#87270F",
           "#C47E6A",
           "#A5BC6B",
           "#3A97D8",
           "#1BF218",
           "#109D39",
           "#2BF28B",
           "#735A51",
           "#D27CA1",
           "#2811C3",
           "#2DE38A",
           "#FBF77B",
           "#702549",
           "#218166",
           "#6FB3E9",
           "#4EFDA9",
           "#215784",
           "#F34D9B",
           "#96BF55",
           "#D22978",
           "#BB767A",
           "#728520",
           "#0954E7",
           "#621450",
           "#273291",
           "#273972",
           "#1DBE16",
           "#D7491A",
           "#3960F5",
           "#6E3BFF",
           "#7DD024",
           "#0B88AF",
           "#138DB0",
           "#3B2463",
           "#975811",
           "#55897F",
           "#CC00CD",
           "#2D3877",
           "#83A8D7",
           "#179D73",
           "#62F5C2",
           "#15AF36",
           "#FD21AD",
           "#3F2A67",
           "#014EAA",
           "#DC52B7",
           "#D25504",
           "#F1BBF6",
           "#FAC9AB",
           "#7F2D91",
           "#BAA789",
           "#CE2760",
           "#9FC755",
           "#AD7D30",
           "#547104",
           "#0E949E",
           "#C0C23E",
           "#7EA9CD",
           "#BE4A62",
           "#73A469",
           "#F84D88",
           "#171582",
           "#3F412A",
           "#06E207"
          ],
          "line": {
           "color": "rgb(8, 48, 107)",
           "width": 1.5
          }
         },
         "opacity": 0.7,
         "type": "bar",
         "uid": "e1670126-d8ec-11e8-8ac2-5435308b7835",
         "x": [
          "Catalogs",
          "Shopping",
          "Productivity",
          "Music",
          "Games",
          "Business",
          "Weather",
          "Photo & Video",
          "Health & Fitness",
          "Book",
          "Medical",
          "Reference",
          "Food & Drink",
          "Entertainment",
          "Travel",
          "Education",
          "Finance",
          "News",
          "Lifestyle",
          "Utilities",
          "Sports",
          "Navigation",
          "Social Networking"
         ],
         "xaxis": "x2",
         "y": [
          4.5,
          4.5,
          4.030172413793103,
          4.014084507042254,
          3.9049844236760123,
          3.8783783783783785,
          3.8536585365853657,
          3.8076923076923075,
          3.7884615384615383,
          3.739130434782609,
          3.6333333333333333,
          3.522727272727273,
          3.5,
          3.41044776119403,
          3.38,
          3.3317757009345796,
          3.325,
          3.323529411764706,
          3.21,
          3.1402877697841727,
          3.1285714285714286,
          3.0576923076923075,
          2.9166666666666665
         ],
         "yaxis": "y2"
        },
        {
         "name": "Free",
         "opacity": 0.7,
         "type": "bar",
         "uid": "e1670127-d8ec-11e8-8ac2-5435308b7835",
         "x": [
          "Productivity",
          "Music",
          "Photo & Video",
          "Health & Fitness",
          "Shopping",
          "Games",
          "Business",
          "Education",
          "Utilities",
          "Travel",
          "Reference",
          "Weather",
          "Entertainment",
          "Food & Drink",
          "Social Networking",
          "Sports",
          "News",
          "Medical",
          "Lifestyle",
          "Finance",
          "Navigation",
          "Catalogs",
          "Book"
         ],
         "xaxis": "x3",
         "y": [
          3.9596774193548385,
          3.9402985074626864,
          3.7934131736526946,
          3.5789473684210527,
          3.5330578512396693,
          3.5285777580859548,
          3.5,
          3.484848484848485,
          3.4541284403669725,
          3.375,
          3.3,
          3.2580645161290325,
          3.1482035928143715,
          3.0348837209302326,
          2.9965034965034967,
          2.9177215189873418,
          2.8793103448275863,
          2.875,
          2.5904255319148937,
          2.2202380952380953,
          2.2,
          1.8333333333333333,
          1.5984848484848484
         ],
         "yaxis": "y3"
        },
        {
         "name": "Not-Free",
         "opacity": 0.7,
         "type": "bar",
         "uid": "e1670128-d8ec-11e8-8ac2-5435308b7835",
         "x": [
          "Catalogs",
          "Shopping",
          "Productivity",
          "Music",
          "Games",
          "Business",
          "Weather",
          "Photo & Video",
          "Health & Fitness",
          "Book",
          "Medical",
          "Reference",
          "Food & Drink",
          "Entertainment",
          "Travel",
          "Education",
          "Finance",
          "News",
          "Lifestyle",
          "Utilities",
          "Sports",
          "Navigation",
          "Social Networking"
         ],
         "xaxis": "x3",
         "y": [
          4.5,
          4.5,
          4.030172413793103,
          4.014084507042254,
          3.9049844236760123,
          3.8783783783783785,
          3.8536585365853657,
          3.8076923076923075,
          3.7884615384615383,
          3.739130434782609,
          3.6333333333333333,
          3.522727272727273,
          3.5,
          3.41044776119403,
          3.38,
          3.3317757009345796,
          3.325,
          3.323529411764706,
          3.21,
          3.1402877697841727,
          3.1285714285714286,
          3.0576923076923075,
          2.9166666666666665
         ],
         "yaxis": "y3"
        }
       ],
       "layout": {
        "annotations": [
         {
          "font": {
           "size": 16
          },
          "showarrow": false,
          "text": "(1) Mean user rating of Free",
          "x": 0.225,
          "xanchor": "center",
          "xref": "paper",
          "y": 1,
          "yanchor": "bottom",
          "yref": "paper"
         },
         {
          "font": {
           "size": 16
          },
          "showarrow": false,
          "text": "(2) Mean user rating of Not-Free",
          "x": 0.775,
          "xanchor": "center",
          "xref": "paper",
          "y": 1,
          "yanchor": "bottom",
          "yref": "paper"
         },
         {
          "font": {
           "size": 16
          },
          "showarrow": false,
          "text": "(3) Grouped barplot containing Free(green) and Not-Free(red)",
          "x": 0.5,
          "xanchor": "center",
          "xref": "paper",
          "y": 0.375,
          "yanchor": "bottom",
          "yref": "paper"
         }
        ],
        "height": 800,
        "showlegend": false,
        "width": 800,
        "xaxis": {
         "anchor": "y",
         "domain": [
          0,
          0.45
         ]
        },
        "xaxis2": {
         "anchor": "y2",
         "domain": [
          0.55,
          1
         ]
        },
        "xaxis3": {
         "anchor": "y3",
         "domain": [
          0,
          1
         ]
        },
        "yaxis": {
         "anchor": "x",
         "domain": [
          0.625,
          1
         ],
         "title": "Mean User Rating"
        },
        "yaxis2": {
         "anchor": "x2",
         "domain": [
          0.625,
          1
         ],
         "title": "Mean User Rating"
        },
        "yaxis3": {
         "anchor": "x3",
         "domain": [
          0,
          0.375
         ],
         "title": "Mean User Rating"
        }
       }
      },
      "text/html": [
       "<div id=\"9fb69c8a-3c4c-4cf9-a505-044aee29c1bc\" style=\"height: 800px; width: 800px;\" class=\"plotly-graph-div\"></div><script type=\"text/javascript\">require([\"plotly\"], function(Plotly) { window.PLOTLYENV=window.PLOTLYENV || {};window.PLOTLYENV.BASE_URL=\"https://plot.ly\";Plotly.newPlot(\"9fb69c8a-3c4c-4cf9-a505-044aee29c1bc\", [{\"marker\": {\"color\": [\"#35DD7B\", \"#56B1D6\", \"#9DBE82\", \"#F18A5F\", \"#AD87D2\", \"#13EFE4\", \"#7FC8CA\", \"#E9485E\", \"#72B60F\", \"#557971\", \"#4C0830\", \"#B0FFCF\", \"#FB2A69\", \"#7B41F4\", \"#590415\", \"#3C5A7D\", \"#8CBA96\", \"#223424\", \"#C68356\", \"#843108\", \"#7608DD\", \"#9165AD\", \"#6EE509\", \"#9B3CA2\", \"#A3F6A3\", \"#7CA032\", \"#4E85C2\", \"#801462\", \"#56BEA9\", \"#D12483\", \"#D9B4B1\", \"#1CEF0B\", \"#C0EF79\", \"#437A21\", \"#8759E4\", \"#96E41B\", \"#A2BE16\", \"#84451D\", \"#2FEC3A\", \"#9BDECB\", \"#F64850\", \"#C357EF\", \"#59D16E\", \"#B674B7\", \"#72735B\", \"#9B1D25\", \"#A791E7\", \"#89A9B7\", \"#A1DF8F\", \"#D11A93\", \"#C91D03\", \"#7F9ACE\", \"#3B5A04\", \"#FDF7BD\", \"#0BC00C\", \"#FFA9D6\", \"#FAAAFF\", \"#4C7E06\", \"#051BDE\", \"#0EE133\", \"#D1786A\", \"#9C1C7E\", \"#0D6F61\", \"#390FCB\", \"#A2A341\", \"#0C4A7E\", \"#80F12C\", \"#53A034\", \"#C63955\", \"#7D8D3B\", \"#DF89C3\", \"#E25E13\", \"#10B8B8\", \"#526A20\", \"#BDEC48\", \"#D84700\", \"#735BF8\", \"#342801\", \"#0B0AE6\", \"#59514A\", \"#A91405\", \"#59DEB7\", \"#664CFC\", \"#C5BD88\", \"#D73609\", \"#B48B28\", \"#9986B0\", \"#273AD4\", \"#06BB0B\", \"#590C72\", \"#971302\", \"#BDAB5B\", \"#D3D5FB\", \"#EEAA9C\", \"#3C502E\", \"#2F2D25\", \"#599E12\", \"#E82DFE\", \"#74F2D5\", \"#59E8BA\"], \"line\": {\"color\": \"rgb(8, 48, 107)\", \"width\": 1.5}}, \"opacity\": 0.7, \"x\": [\"Productivity\", \"Music\", \"Photo & Video\", \"Health & Fitness\", \"Shopping\", \"Games\", \"Business\", \"Education\", \"Utilities\", \"Travel\", \"Reference\", \"Weather\", \"Entertainment\", \"Food & Drink\", \"Social Networking\", \"Sports\", \"News\", \"Medical\", \"Lifestyle\", \"Finance\", \"Navigation\", \"Catalogs\", \"Book\"], \"y\": [3.9596774193548385, 3.9402985074626864, 3.7934131736526946, 3.5789473684210527, 3.5330578512396693, 3.5285777580859548, 3.5, 3.484848484848485, 3.4541284403669725, 3.375, 3.3, 3.2580645161290325, 3.1482035928143715, 3.0348837209302326, 2.9965034965034967, 2.9177215189873418, 2.8793103448275863, 2.875, 2.5904255319148937, 2.2202380952380953, 2.2, 1.8333333333333333, 1.5984848484848484], \"type\": \"bar\", \"uid\": \"e1670125-d8ec-11e8-8ac2-5435308b7835\", \"xaxis\": \"x\", \"yaxis\": \"y\"}, {\"marker\": {\"color\": [\"#420A2E\", \"#9008F7\", \"#6332A5\", \"#C2DEA8\", \"#DAFF35\", \"#042101\", \"#E42A65\", \"#5156AE\", \"#2A2B86\", \"#21A2B9\", \"#0F98CE\", \"#D32C66\", \"#BAF890\", \"#F2B66E\", \"#C14370\", \"#6A835E\", \"#E124DF\", \"#2112C5\", \"#E64E22\", \"#17B892\", \"#8E51E2\", \"#989B3C\", \"#BC16C8\", \"#F134A3\", \"#6DD8EF\", \"#4FAEA6\", \"#56C2B0\", \"#A5FEF6\", \"#516AF4\", \"#E29EA6\", \"#B1A4B1\", \"#C6700A\", \"#E96651\", \"#79CE33\", \"#197FB3\", \"#E20D76\", \"#87270F\", \"#C47E6A\", \"#A5BC6B\", \"#3A97D8\", \"#1BF218\", \"#109D39\", \"#2BF28B\", \"#735A51\", \"#D27CA1\", \"#2811C3\", \"#2DE38A\", \"#FBF77B\", \"#702549\", \"#218166\", \"#6FB3E9\", \"#4EFDA9\", \"#215784\", \"#F34D9B\", \"#96BF55\", \"#D22978\", \"#BB767A\", \"#728520\", \"#0954E7\", \"#621450\", \"#273291\", \"#273972\", \"#1DBE16\", \"#D7491A\", \"#3960F5\", \"#6E3BFF\", \"#7DD024\", \"#0B88AF\", \"#138DB0\", \"#3B2463\", \"#975811\", \"#55897F\", \"#CC00CD\", \"#2D3877\", \"#83A8D7\", \"#179D73\", \"#62F5C2\", \"#15AF36\", \"#FD21AD\", \"#3F2A67\", \"#014EAA\", \"#DC52B7\", \"#D25504\", \"#F1BBF6\", \"#FAC9AB\", \"#7F2D91\", \"#BAA789\", \"#CE2760\", \"#9FC755\", \"#AD7D30\", \"#547104\", \"#0E949E\", \"#C0C23E\", \"#7EA9CD\", \"#BE4A62\", \"#73A469\", \"#F84D88\", \"#171582\", \"#3F412A\", \"#06E207\"], \"line\": {\"color\": \"rgb(8, 48, 107)\", \"width\": 1.5}}, \"opacity\": 0.7, \"x\": [\"Catalogs\", \"Shopping\", \"Productivity\", \"Music\", \"Games\", \"Business\", \"Weather\", \"Photo & Video\", \"Health & Fitness\", \"Book\", \"Medical\", \"Reference\", \"Food & Drink\", \"Entertainment\", \"Travel\", \"Education\", \"Finance\", \"News\", \"Lifestyle\", \"Utilities\", \"Sports\", \"Navigation\", \"Social Networking\"], \"y\": [4.5, 4.5, 4.030172413793103, 4.014084507042254, 3.9049844236760123, 3.8783783783783785, 3.8536585365853657, 3.8076923076923075, 3.7884615384615383, 3.739130434782609, 3.6333333333333333, 3.522727272727273, 3.5, 3.41044776119403, 3.38, 3.3317757009345796, 3.325, 3.323529411764706, 3.21, 3.1402877697841727, 3.1285714285714286, 3.0576923076923075, 2.9166666666666665], \"type\": \"bar\", \"uid\": \"e1670126-d8ec-11e8-8ac2-5435308b7835\", \"xaxis\": \"x2\", \"yaxis\": \"y2\"}, {\"name\": \"Free\", \"opacity\": 0.7, \"x\": [\"Productivity\", \"Music\", \"Photo & Video\", \"Health & Fitness\", \"Shopping\", \"Games\", \"Business\", \"Education\", \"Utilities\", \"Travel\", \"Reference\", \"Weather\", \"Entertainment\", \"Food & Drink\", \"Social Networking\", \"Sports\", \"News\", \"Medical\", \"Lifestyle\", \"Finance\", \"Navigation\", \"Catalogs\", \"Book\"], \"y\": [3.9596774193548385, 3.9402985074626864, 3.7934131736526946, 3.5789473684210527, 3.5330578512396693, 3.5285777580859548, 3.5, 3.484848484848485, 3.4541284403669725, 3.375, 3.3, 3.2580645161290325, 3.1482035928143715, 3.0348837209302326, 2.9965034965034967, 2.9177215189873418, 2.8793103448275863, 2.875, 2.5904255319148937, 2.2202380952380953, 2.2, 1.8333333333333333, 1.5984848484848484], \"type\": \"bar\", \"uid\": \"e1670127-d8ec-11e8-8ac2-5435308b7835\", \"xaxis\": \"x3\", \"yaxis\": \"y3\"}, {\"name\": \"Not-Free\", \"opacity\": 0.7, \"x\": [\"Catalogs\", \"Shopping\", \"Productivity\", \"Music\", \"Games\", \"Business\", \"Weather\", \"Photo & Video\", \"Health & Fitness\", \"Book\", \"Medical\", \"Reference\", \"Food & Drink\", \"Entertainment\", \"Travel\", \"Education\", \"Finance\", \"News\", \"Lifestyle\", \"Utilities\", \"Sports\", \"Navigation\", \"Social Networking\"], \"y\": [4.5, 4.5, 4.030172413793103, 4.014084507042254, 3.9049844236760123, 3.8783783783783785, 3.8536585365853657, 3.8076923076923075, 3.7884615384615383, 3.739130434782609, 3.6333333333333333, 3.522727272727273, 3.5, 3.41044776119403, 3.38, 3.3317757009345796, 3.325, 3.323529411764706, 3.21, 3.1402877697841727, 3.1285714285714286, 3.0576923076923075, 2.9166666666666665], \"type\": \"bar\", \"uid\": \"e1670128-d8ec-11e8-8ac2-5435308b7835\", \"xaxis\": \"x3\", \"yaxis\": \"y3\"}], {\"annotations\": [{\"font\": {\"size\": 16}, \"showarrow\": false, \"text\": \"(1) Mean user rating of Free\", \"x\": 0.225, \"xanchor\": \"center\", \"xref\": \"paper\", \"y\": 1.0, \"yanchor\": \"bottom\", \"yref\": \"paper\"}, {\"font\": {\"size\": 16}, \"showarrow\": false, \"text\": \"(2) Mean user rating of Not-Free\", \"x\": 0.775, \"xanchor\": \"center\", \"xref\": \"paper\", \"y\": 1.0, \"yanchor\": \"bottom\", \"yref\": \"paper\"}, {\"font\": {\"size\": 16}, \"showarrow\": false, \"text\": \"(3) Grouped barplot containing Free(green) and Not-Free(red)\", \"x\": 0.5, \"xanchor\": \"center\", \"xref\": \"paper\", \"y\": 0.375, \"yanchor\": \"bottom\", \"yref\": \"paper\"}], \"xaxis\": {\"anchor\": \"y\", \"domain\": [0.0, 0.45]}, \"yaxis\": {\"anchor\": \"x\", \"domain\": [0.625, 1.0], \"title\": \"Mean User Rating\"}, \"xaxis2\": {\"anchor\": \"y2\", \"domain\": [0.55, 1.0]}, \"yaxis2\": {\"anchor\": \"x2\", \"domain\": [0.625, 1.0], \"title\": \"Mean User Rating\"}, \"xaxis3\": {\"anchor\": \"y3\", \"domain\": [0.0, 1.0]}, \"yaxis3\": {\"anchor\": \"x3\", \"domain\": [0.0, 0.375], \"title\": \"Mean User Rating\"}, \"showlegend\": false, \"width\": 800, \"height\": 800}, {\"showLink\": true, \"linkText\": \"Export to plot.ly\"})});</script>"
      ],
      "text/vnd.plotly.v1+html": [
       "<div id=\"9fb69c8a-3c4c-4cf9-a505-044aee29c1bc\" style=\"height: 800px; width: 800px;\" class=\"plotly-graph-div\"></div><script type=\"text/javascript\">require([\"plotly\"], function(Plotly) { window.PLOTLYENV=window.PLOTLYENV || {};window.PLOTLYENV.BASE_URL=\"https://plot.ly\";Plotly.newPlot(\"9fb69c8a-3c4c-4cf9-a505-044aee29c1bc\", [{\"marker\": {\"color\": [\"#35DD7B\", \"#56B1D6\", \"#9DBE82\", \"#F18A5F\", \"#AD87D2\", \"#13EFE4\", \"#7FC8CA\", \"#E9485E\", \"#72B60F\", \"#557971\", \"#4C0830\", \"#B0FFCF\", \"#FB2A69\", \"#7B41F4\", \"#590415\", \"#3C5A7D\", \"#8CBA96\", \"#223424\", \"#C68356\", \"#843108\", \"#7608DD\", \"#9165AD\", \"#6EE509\", \"#9B3CA2\", \"#A3F6A3\", \"#7CA032\", \"#4E85C2\", \"#801462\", \"#56BEA9\", \"#D12483\", \"#D9B4B1\", \"#1CEF0B\", \"#C0EF79\", \"#437A21\", \"#8759E4\", \"#96E41B\", \"#A2BE16\", \"#84451D\", \"#2FEC3A\", \"#9BDECB\", \"#F64850\", \"#C357EF\", \"#59D16E\", \"#B674B7\", \"#72735B\", \"#9B1D25\", \"#A791E7\", \"#89A9B7\", \"#A1DF8F\", \"#D11A93\", \"#C91D03\", \"#7F9ACE\", \"#3B5A04\", \"#FDF7BD\", \"#0BC00C\", \"#FFA9D6\", \"#FAAAFF\", \"#4C7E06\", \"#051BDE\", \"#0EE133\", \"#D1786A\", \"#9C1C7E\", \"#0D6F61\", \"#390FCB\", \"#A2A341\", \"#0C4A7E\", \"#80F12C\", \"#53A034\", \"#C63955\", \"#7D8D3B\", \"#DF89C3\", \"#E25E13\", \"#10B8B8\", \"#526A20\", \"#BDEC48\", \"#D84700\", \"#735BF8\", \"#342801\", \"#0B0AE6\", \"#59514A\", \"#A91405\", \"#59DEB7\", \"#664CFC\", \"#C5BD88\", \"#D73609\", \"#B48B28\", \"#9986B0\", \"#273AD4\", \"#06BB0B\", \"#590C72\", \"#971302\", \"#BDAB5B\", \"#D3D5FB\", \"#EEAA9C\", \"#3C502E\", \"#2F2D25\", \"#599E12\", \"#E82DFE\", \"#74F2D5\", \"#59E8BA\"], \"line\": {\"color\": \"rgb(8, 48, 107)\", \"width\": 1.5}}, \"opacity\": 0.7, \"x\": [\"Productivity\", \"Music\", \"Photo & Video\", \"Health & Fitness\", \"Shopping\", \"Games\", \"Business\", \"Education\", \"Utilities\", \"Travel\", \"Reference\", \"Weather\", \"Entertainment\", \"Food & Drink\", \"Social Networking\", \"Sports\", \"News\", \"Medical\", \"Lifestyle\", \"Finance\", \"Navigation\", \"Catalogs\", \"Book\"], \"y\": [3.9596774193548385, 3.9402985074626864, 3.7934131736526946, 3.5789473684210527, 3.5330578512396693, 3.5285777580859548, 3.5, 3.484848484848485, 3.4541284403669725, 3.375, 3.3, 3.2580645161290325, 3.1482035928143715, 3.0348837209302326, 2.9965034965034967, 2.9177215189873418, 2.8793103448275863, 2.875, 2.5904255319148937, 2.2202380952380953, 2.2, 1.8333333333333333, 1.5984848484848484], \"type\": \"bar\", \"uid\": \"e1670125-d8ec-11e8-8ac2-5435308b7835\", \"xaxis\": \"x\", \"yaxis\": \"y\"}, {\"marker\": {\"color\": [\"#420A2E\", \"#9008F7\", \"#6332A5\", \"#C2DEA8\", \"#DAFF35\", \"#042101\", \"#E42A65\", \"#5156AE\", \"#2A2B86\", \"#21A2B9\", \"#0F98CE\", \"#D32C66\", \"#BAF890\", \"#F2B66E\", \"#C14370\", \"#6A835E\", \"#E124DF\", \"#2112C5\", \"#E64E22\", \"#17B892\", \"#8E51E2\", \"#989B3C\", \"#BC16C8\", \"#F134A3\", \"#6DD8EF\", \"#4FAEA6\", \"#56C2B0\", \"#A5FEF6\", \"#516AF4\", \"#E29EA6\", \"#B1A4B1\", \"#C6700A\", \"#E96651\", \"#79CE33\", \"#197FB3\", \"#E20D76\", \"#87270F\", \"#C47E6A\", \"#A5BC6B\", \"#3A97D8\", \"#1BF218\", \"#109D39\", \"#2BF28B\", \"#735A51\", \"#D27CA1\", \"#2811C3\", \"#2DE38A\", \"#FBF77B\", \"#702549\", \"#218166\", \"#6FB3E9\", \"#4EFDA9\", \"#215784\", \"#F34D9B\", \"#96BF55\", \"#D22978\", \"#BB767A\", \"#728520\", \"#0954E7\", \"#621450\", \"#273291\", \"#273972\", \"#1DBE16\", \"#D7491A\", \"#3960F5\", \"#6E3BFF\", \"#7DD024\", \"#0B88AF\", \"#138DB0\", \"#3B2463\", \"#975811\", \"#55897F\", \"#CC00CD\", \"#2D3877\", \"#83A8D7\", \"#179D73\", \"#62F5C2\", \"#15AF36\", \"#FD21AD\", \"#3F2A67\", \"#014EAA\", \"#DC52B7\", \"#D25504\", \"#F1BBF6\", \"#FAC9AB\", \"#7F2D91\", \"#BAA789\", \"#CE2760\", \"#9FC755\", \"#AD7D30\", \"#547104\", \"#0E949E\", \"#C0C23E\", \"#7EA9CD\", \"#BE4A62\", \"#73A469\", \"#F84D88\", \"#171582\", \"#3F412A\", \"#06E207\"], \"line\": {\"color\": \"rgb(8, 48, 107)\", \"width\": 1.5}}, \"opacity\": 0.7, \"x\": [\"Catalogs\", \"Shopping\", \"Productivity\", \"Music\", \"Games\", \"Business\", \"Weather\", \"Photo & Video\", \"Health & Fitness\", \"Book\", \"Medical\", \"Reference\", \"Food & Drink\", \"Entertainment\", \"Travel\", \"Education\", \"Finance\", \"News\", \"Lifestyle\", \"Utilities\", \"Sports\", \"Navigation\", \"Social Networking\"], \"y\": [4.5, 4.5, 4.030172413793103, 4.014084507042254, 3.9049844236760123, 3.8783783783783785, 3.8536585365853657, 3.8076923076923075, 3.7884615384615383, 3.739130434782609, 3.6333333333333333, 3.522727272727273, 3.5, 3.41044776119403, 3.38, 3.3317757009345796, 3.325, 3.323529411764706, 3.21, 3.1402877697841727, 3.1285714285714286, 3.0576923076923075, 2.9166666666666665], \"type\": \"bar\", \"uid\": \"e1670126-d8ec-11e8-8ac2-5435308b7835\", \"xaxis\": \"x2\", \"yaxis\": \"y2\"}, {\"name\": \"Free\", \"opacity\": 0.7, \"x\": [\"Productivity\", \"Music\", \"Photo & Video\", \"Health & Fitness\", \"Shopping\", \"Games\", \"Business\", \"Education\", \"Utilities\", \"Travel\", \"Reference\", \"Weather\", \"Entertainment\", \"Food & Drink\", \"Social Networking\", \"Sports\", \"News\", \"Medical\", \"Lifestyle\", \"Finance\", \"Navigation\", \"Catalogs\", \"Book\"], \"y\": [3.9596774193548385, 3.9402985074626864, 3.7934131736526946, 3.5789473684210527, 3.5330578512396693, 3.5285777580859548, 3.5, 3.484848484848485, 3.4541284403669725, 3.375, 3.3, 3.2580645161290325, 3.1482035928143715, 3.0348837209302326, 2.9965034965034967, 2.9177215189873418, 2.8793103448275863, 2.875, 2.5904255319148937, 2.2202380952380953, 2.2, 1.8333333333333333, 1.5984848484848484], \"type\": \"bar\", \"uid\": \"e1670127-d8ec-11e8-8ac2-5435308b7835\", \"xaxis\": \"x3\", \"yaxis\": \"y3\"}, {\"name\": \"Not-Free\", \"opacity\": 0.7, \"x\": [\"Catalogs\", \"Shopping\", \"Productivity\", \"Music\", \"Games\", \"Business\", \"Weather\", \"Photo & Video\", \"Health & Fitness\", \"Book\", \"Medical\", \"Reference\", \"Food & Drink\", \"Entertainment\", \"Travel\", \"Education\", \"Finance\", \"News\", \"Lifestyle\", \"Utilities\", \"Sports\", \"Navigation\", \"Social Networking\"], \"y\": [4.5, 4.5, 4.030172413793103, 4.014084507042254, 3.9049844236760123, 3.8783783783783785, 3.8536585365853657, 3.8076923076923075, 3.7884615384615383, 3.739130434782609, 3.6333333333333333, 3.522727272727273, 3.5, 3.41044776119403, 3.38, 3.3317757009345796, 3.325, 3.323529411764706, 3.21, 3.1402877697841727, 3.1285714285714286, 3.0576923076923075, 2.9166666666666665], \"type\": \"bar\", \"uid\": \"e1670128-d8ec-11e8-8ac2-5435308b7835\", \"xaxis\": \"x3\", \"yaxis\": \"y3\"}], {\"annotations\": [{\"font\": {\"size\": 16}, \"showarrow\": false, \"text\": \"(1) Mean user rating of Free\", \"x\": 0.225, \"xanchor\": \"center\", \"xref\": \"paper\", \"y\": 1.0, \"yanchor\": \"bottom\", \"yref\": \"paper\"}, {\"font\": {\"size\": 16}, \"showarrow\": false, \"text\": \"(2) Mean user rating of Not-Free\", \"x\": 0.775, \"xanchor\": \"center\", \"xref\": \"paper\", \"y\": 1.0, \"yanchor\": \"bottom\", \"yref\": \"paper\"}, {\"font\": {\"size\": 16}, \"showarrow\": false, \"text\": \"(3) Grouped barplot containing Free(green) and Not-Free(red)\", \"x\": 0.5, \"xanchor\": \"center\", \"xref\": \"paper\", \"y\": 0.375, \"yanchor\": \"bottom\", \"yref\": \"paper\"}], \"xaxis\": {\"anchor\": \"y\", \"domain\": [0.0, 0.45]}, \"yaxis\": {\"anchor\": \"x\", \"domain\": [0.625, 1.0], \"title\": \"Mean User Rating\"}, \"xaxis2\": {\"anchor\": \"y2\", \"domain\": [0.55, 1.0]}, \"yaxis2\": {\"anchor\": \"x2\", \"domain\": [0.625, 1.0], \"title\": \"Mean User Rating\"}, \"xaxis3\": {\"anchor\": \"y3\", \"domain\": [0.0, 1.0]}, \"yaxis3\": {\"anchor\": \"x3\", \"domain\": [0.0, 0.375], \"title\": \"Mean User Rating\"}, \"showlegend\": false, \"width\": 800, \"height\": 800}, {\"showLink\": true, \"linkText\": \"Export to plot.ly\"})});</script>"
      ]
     },
     "metadata": {},
     "output_type": "display_data"
    }
   ],
   "source": [
    "cnt_srs1 = df_app_free[['prime_genre', 'user_rating']].groupby('prime_genre').mean()['user_rating'].sort_values(ascending=False)\n",
    "text1 = ['{:.2f}%'.format(100 * (value / cnt_srs1.sum())) for value in cnt_srs1.values]\n",
    "\n",
    "trace1 = go.Bar(\n",
    "    x = cnt_srs1.index,\n",
    "    y = cnt_srs1.values,\n",
    "    marker = dict(\n",
    "        color = random_color_generator(100),\n",
    "        line = dict(color='rgb(8, 48, 107)',\n",
    "                    width = 1.5)\n",
    "    ),\n",
    "    opacity = 0.7\n",
    ")\n",
    "\n",
    "cnt_srs2 = df_app_notfree[['prime_genre', 'user_rating']].groupby('prime_genre').mean()['user_rating'].sort_values(ascending=False)\n",
    "text2 = ['{:.2f}%'.format(100 * (value / cnt_srs2.sum())) for value in cnt_srs2.values]\n",
    "\n",
    "trace2 = go.Bar(\n",
    "    x = cnt_srs2.index,\n",
    "    y = cnt_srs2.values,\n",
    "    marker = dict(\n",
    "        color = random_color_generator(100),\n",
    "        line = dict(color='rgb(8, 48, 107)',\n",
    "                    width = 1.5)\n",
    "    ),\n",
    "    opacity = 0.7\n",
    ")\n",
    "\n",
    "trace3 = go.Bar(\n",
    "    x = cnt_srs1.index,\n",
    "    y = cnt_srs1.values,\n",
    "    opacity = 0.7,\n",
    "    name='Free'\n",
    ")\n",
    "\n",
    "\n",
    "trace4 = go.Bar(\n",
    "    x = cnt_srs2.index,\n",
    "    y = cnt_srs2.values,\n",
    "    opacity = 0.7,\n",
    "    name='Not-Free'\n",
    ")\n",
    "\n",
    "\n",
    "\n",
    "fig = tools.make_subplots(rows=2, cols=2, specs = [[{}, {}], [{'colspan':2}, None]], \n",
    "                          subplot_titles=('(1) Mean user rating of Free', '(2) Mean user rating of Not-Free', \n",
    "                                          '(3) Grouped barplot containing Free(green) and Not-Free(red)'), print_grid=False)\n",
    "fig.append_trace(trace1, 1, 1)\n",
    "fig.append_trace(trace2, 1, 2)\n",
    "fig.append_trace(trace3, 2, 1)\n",
    "fig.append_trace(trace4, 2, 1)\n",
    "\n",
    "fig['layout']['yaxis1'].update(title='Mean User Rating')\n",
    "fig['layout']['yaxis2'].update(title='Mean User Rating')\n",
    "fig['layout']['yaxis3'].update(title='Mean User Rating')\n",
    "fig['layout'].update(showlegend=False, width=800, height=800)\n",
    "\n",
    "py.iplot(fig)"
   ]
  },
  {
   "cell_type": "markdown",
   "metadata": {
    "_uuid": "8664829fa4584e2b7f43aa1a9a8c165c3f1b910b"
   },
   "source": [
    "### Figure 1\n",
    "- For Free App, Top 3 is below.\n",
    "\n",
    "(1) Productivity (2) Music (3) Photo & Video\n",
    "### Figure 2\n",
    "\n",
    "- For Not-Free App, Top 3 is below\n",
    "\n",
    "(1) Catalogs (2) Shopping (3) Productivity\n",
    "### Figure 3\n",
    "\n",
    "- Book, Catalogs and Navigation Apps have much higher ratings when they are Not-free."
   ]
  },
  {
   "cell_type": "markdown",
   "metadata": {
    "_uuid": "b572058a690635e2a58944b0abd2f4e41ebdc1e0"
   },
   "source": [
    "## App size based on prime_genre"
   ]
  },
  {
   "cell_type": "code",
   "execution_count": 18,
   "metadata": {
    "_uuid": "0470acb599a9758816232fb42d87ab17c73ecc8c"
   },
   "outputs": [
    {
     "data": {
      "application/vnd.plotly.v1+json": {
       "data": [
        {
         "marker": {
          "color": [
           "#DC7093",
           "#A2229E",
           "#55BBA2",
           "#6F2EA7",
           "#DCAAD1",
           "#566D72",
           "#A21CA8",
           "#3C2213",
           "#F29C57",
           "#26D3A7",
           "#A27DA3",
           "#E1BC42",
           "#F6D22C",
           "#D3165C",
           "#B9AC39",
           "#68BDE1",
           "#DF9FF1",
           "#D520FE",
           "#A2F3DF",
           "#6A112C",
           "#BE49BD",
           "#E1BE50",
           "#60339B",
           "#168261",
           "#871440",
           "#E67A59",
           "#6FF796",
           "#3B3DB4",
           "#3AD937",
           "#0A70EA",
           "#C82B7D",
           "#9B5CAD",
           "#AB4F2F",
           "#3C295D",
           "#8C147D",
           "#2CC284",
           "#BDD1F0",
           "#12F08C",
           "#57FDD2",
           "#12F4A2",
           "#5AFC81",
           "#EE034F",
           "#DE59CB",
           "#1F1B4B",
           "#EC0807",
           "#8FEDEC",
           "#B88C20",
           "#4F4414",
           "#5F7023",
           "#A70FC4",
           "#01B20E",
           "#14735C",
           "#809ADA",
           "#F5D29D",
           "#9FD3D8",
           "#0B014F",
           "#97B8F2",
           "#AA3A49",
           "#705FD6",
           "#D9BD52",
           "#C9A7B5",
           "#88E8CE",
           "#8B9BB7",
           "#396CF1",
           "#CA1589",
           "#8E6401",
           "#DCFABB",
           "#ED197E",
           "#6C39D4",
           "#293AC6",
           "#3986E3",
           "#BB9BA7",
           "#DD81F6",
           "#6603EF",
           "#1946D6",
           "#98383E",
           "#E81321",
           "#417020",
           "#12C7CD",
           "#566928",
           "#7348F6",
           "#8D0E0A",
           "#5C3CC1",
           "#B0410A",
           "#EBFA11",
           "#F66762",
           "#CFEC5F",
           "#3549C0",
           "#D8D9FC",
           "#928991",
           "#3891EF",
           "#FE1534",
           "#E789F1",
           "#8E48AC",
           "#16E643",
           "#66234F",
           "#37FF71",
           "#BD3111",
           "#666AE3",
           "#AFAFFD"
          ],
          "line": {
           "color": "rgb(8, 48, 107)",
           "width": 1.5
          }
         },
         "opacity": 0.7,
         "type": "bar",
         "uid": "e31ce29a-d8ec-11e8-8ac2-5435308b7835",
         "x": [
          "Medical",
          "Games",
          "Education",
          "Book",
          "Reference",
          "Music",
          "Navigation",
          "Entertainment",
          "Shopping",
          "Health & Fitness",
          "Travel",
          "Social Networking",
          "Sports",
          "Productivity",
          "Finance",
          "Food & Drink",
          "Photo & Video",
          "Business",
          "News",
          "Lifestyle",
          "Weather",
          "Utilities",
          "Catalogs"
         ],
         "y": [
          358.9525305706522,
          270.51763582032066,
          172.06594594951233,
          170.53663853236608,
          147.9746658205986,
          104.55669172259344,
          98.56651809941168,
          96.77764989906382,
          89.02247694672131,
          85.93238932291666,
          78.8754581404321,
          75.6954570416205,
          75.21970086348684,
          74.80682167310393,
          74.61152962537912,
          74.00035652281746,
          65.34758069931948,
          61.195843612938596,
          59.57684828440348,
          59.420077807373474,
          58.595065646701386,
          51.77503647727351,
          47.85693359375
         ]
        }
       ],
       "layout": {
        "height": 500,
        "margin": {
         "l": 100
        },
        "title": "Mean App size(MB) depending on Prime genre",
        "width": 800,
        "xaxis": {
         "title": "Genre"
        },
        "yaxis": {
         "title": "Mean App size"
        }
       }
      },
      "text/html": [
       "<div id=\"4ef16df9-88ef-4106-98cb-e120b5e085f2\" style=\"height: 500px; width: 800px;\" class=\"plotly-graph-div\"></div><script type=\"text/javascript\">require([\"plotly\"], function(Plotly) { window.PLOTLYENV=window.PLOTLYENV || {};window.PLOTLYENV.BASE_URL=\"https://plot.ly\";Plotly.newPlot(\"4ef16df9-88ef-4106-98cb-e120b5e085f2\", [{\"marker\": {\"color\": [\"#DC7093\", \"#A2229E\", \"#55BBA2\", \"#6F2EA7\", \"#DCAAD1\", \"#566D72\", \"#A21CA8\", \"#3C2213\", \"#F29C57\", \"#26D3A7\", \"#A27DA3\", \"#E1BC42\", \"#F6D22C\", \"#D3165C\", \"#B9AC39\", \"#68BDE1\", \"#DF9FF1\", \"#D520FE\", \"#A2F3DF\", \"#6A112C\", \"#BE49BD\", \"#E1BE50\", \"#60339B\", \"#168261\", \"#871440\", \"#E67A59\", \"#6FF796\", \"#3B3DB4\", \"#3AD937\", \"#0A70EA\", \"#C82B7D\", \"#9B5CAD\", \"#AB4F2F\", \"#3C295D\", \"#8C147D\", \"#2CC284\", \"#BDD1F0\", \"#12F08C\", \"#57FDD2\", \"#12F4A2\", \"#5AFC81\", \"#EE034F\", \"#DE59CB\", \"#1F1B4B\", \"#EC0807\", \"#8FEDEC\", \"#B88C20\", \"#4F4414\", \"#5F7023\", \"#A70FC4\", \"#01B20E\", \"#14735C\", \"#809ADA\", \"#F5D29D\", \"#9FD3D8\", \"#0B014F\", \"#97B8F2\", \"#AA3A49\", \"#705FD6\", \"#D9BD52\", \"#C9A7B5\", \"#88E8CE\", \"#8B9BB7\", \"#396CF1\", \"#CA1589\", \"#8E6401\", \"#DCFABB\", \"#ED197E\", \"#6C39D4\", \"#293AC6\", \"#3986E3\", \"#BB9BA7\", \"#DD81F6\", \"#6603EF\", \"#1946D6\", \"#98383E\", \"#E81321\", \"#417020\", \"#12C7CD\", \"#566928\", \"#7348F6\", \"#8D0E0A\", \"#5C3CC1\", \"#B0410A\", \"#EBFA11\", \"#F66762\", \"#CFEC5F\", \"#3549C0\", \"#D8D9FC\", \"#928991\", \"#3891EF\", \"#FE1534\", \"#E789F1\", \"#8E48AC\", \"#16E643\", \"#66234F\", \"#37FF71\", \"#BD3111\", \"#666AE3\", \"#AFAFFD\"], \"line\": {\"color\": \"rgb(8, 48, 107)\", \"width\": 1.5}}, \"opacity\": 0.7, \"x\": [\"Medical\", \"Games\", \"Education\", \"Book\", \"Reference\", \"Music\", \"Navigation\", \"Entertainment\", \"Shopping\", \"Health & Fitness\", \"Travel\", \"Social Networking\", \"Sports\", \"Productivity\", \"Finance\", \"Food & Drink\", \"Photo & Video\", \"Business\", \"News\", \"Lifestyle\", \"Weather\", \"Utilities\", \"Catalogs\"], \"y\": [358.9525305706522, 270.51763582032066, 172.06594594951233, 170.53663853236608, 147.9746658205986, 104.55669172259344, 98.56651809941168, 96.77764989906382, 89.02247694672131, 85.93238932291666, 78.8754581404321, 75.6954570416205, 75.21970086348684, 74.80682167310393, 74.61152962537912, 74.00035652281746, 65.34758069931948, 61.195843612938596, 59.57684828440348, 59.420077807373474, 58.595065646701386, 51.77503647727351, 47.85693359375], \"type\": \"bar\", \"uid\": \"e31ce29a-d8ec-11e8-8ac2-5435308b7835\"}], {\"height\": 500, \"margin\": {\"l\": 100}, \"title\": \"Mean App size(MB) depending on Prime genre\", \"width\": 800, \"xaxis\": {\"title\": \"Genre\"}, \"yaxis\": {\"title\": \"Mean App size\"}}, {\"showLink\": true, \"linkText\": \"Export to plot.ly\"})});</script>"
      ],
      "text/vnd.plotly.v1+html": [
       "<div id=\"4ef16df9-88ef-4106-98cb-e120b5e085f2\" style=\"height: 500px; width: 800px;\" class=\"plotly-graph-div\"></div><script type=\"text/javascript\">require([\"plotly\"], function(Plotly) { window.PLOTLYENV=window.PLOTLYENV || {};window.PLOTLYENV.BASE_URL=\"https://plot.ly\";Plotly.newPlot(\"4ef16df9-88ef-4106-98cb-e120b5e085f2\", [{\"marker\": {\"color\": [\"#DC7093\", \"#A2229E\", \"#55BBA2\", \"#6F2EA7\", \"#DCAAD1\", \"#566D72\", \"#A21CA8\", \"#3C2213\", \"#F29C57\", \"#26D3A7\", \"#A27DA3\", \"#E1BC42\", \"#F6D22C\", \"#D3165C\", \"#B9AC39\", \"#68BDE1\", \"#DF9FF1\", \"#D520FE\", \"#A2F3DF\", \"#6A112C\", \"#BE49BD\", \"#E1BE50\", \"#60339B\", \"#168261\", \"#871440\", \"#E67A59\", \"#6FF796\", \"#3B3DB4\", \"#3AD937\", \"#0A70EA\", \"#C82B7D\", \"#9B5CAD\", \"#AB4F2F\", \"#3C295D\", \"#8C147D\", \"#2CC284\", \"#BDD1F0\", \"#12F08C\", \"#57FDD2\", \"#12F4A2\", \"#5AFC81\", \"#EE034F\", \"#DE59CB\", \"#1F1B4B\", \"#EC0807\", \"#8FEDEC\", \"#B88C20\", \"#4F4414\", \"#5F7023\", \"#A70FC4\", \"#01B20E\", \"#14735C\", \"#809ADA\", \"#F5D29D\", \"#9FD3D8\", \"#0B014F\", \"#97B8F2\", \"#AA3A49\", \"#705FD6\", \"#D9BD52\", \"#C9A7B5\", \"#88E8CE\", \"#8B9BB7\", \"#396CF1\", \"#CA1589\", \"#8E6401\", \"#DCFABB\", \"#ED197E\", \"#6C39D4\", \"#293AC6\", \"#3986E3\", \"#BB9BA7\", \"#DD81F6\", \"#6603EF\", \"#1946D6\", \"#98383E\", \"#E81321\", \"#417020\", \"#12C7CD\", \"#566928\", \"#7348F6\", \"#8D0E0A\", \"#5C3CC1\", \"#B0410A\", \"#EBFA11\", \"#F66762\", \"#CFEC5F\", \"#3549C0\", \"#D8D9FC\", \"#928991\", \"#3891EF\", \"#FE1534\", \"#E789F1\", \"#8E48AC\", \"#16E643\", \"#66234F\", \"#37FF71\", \"#BD3111\", \"#666AE3\", \"#AFAFFD\"], \"line\": {\"color\": \"rgb(8, 48, 107)\", \"width\": 1.5}}, \"opacity\": 0.7, \"x\": [\"Medical\", \"Games\", \"Education\", \"Book\", \"Reference\", \"Music\", \"Navigation\", \"Entertainment\", \"Shopping\", \"Health & Fitness\", \"Travel\", \"Social Networking\", \"Sports\", \"Productivity\", \"Finance\", \"Food & Drink\", \"Photo & Video\", \"Business\", \"News\", \"Lifestyle\", \"Weather\", \"Utilities\", \"Catalogs\"], \"y\": [358.9525305706522, 270.51763582032066, 172.06594594951233, 170.53663853236608, 147.9746658205986, 104.55669172259344, 98.56651809941168, 96.77764989906382, 89.02247694672131, 85.93238932291666, 78.8754581404321, 75.6954570416205, 75.21970086348684, 74.80682167310393, 74.61152962537912, 74.00035652281746, 65.34758069931948, 61.195843612938596, 59.57684828440348, 59.420077807373474, 58.595065646701386, 51.77503647727351, 47.85693359375], \"type\": \"bar\", \"uid\": \"e31ce29a-d8ec-11e8-8ac2-5435308b7835\"}], {\"height\": 500, \"margin\": {\"l\": 100}, \"title\": \"Mean App size(MB) depending on Prime genre\", \"width\": 800, \"xaxis\": {\"title\": \"Genre\"}, \"yaxis\": {\"title\": \"Mean App size\"}}, {\"showLink\": true, \"linkText\": \"Export to plot.ly\"})});</script>"
      ]
     },
     "metadata": {},
     "output_type": "display_data"
    }
   ],
   "source": [
    "cnt_srs = df_app[['prime_genre', 'size_bytes_in_MB']].groupby('prime_genre').mean()['size_bytes_in_MB'].sort_values(ascending=False)\n",
    "text = ['{:.2f}'.format(value) for value in cnt_srs.values]\n",
    "\n",
    "trace = go.Bar(\n",
    "    x = cnt_srs.index,\n",
    "    y = cnt_srs.values,\n",
    "    marker = dict(\n",
    "        color = random_color_generator(100),\n",
    "        line = dict(color='rgb(8, 48, 107)',\n",
    "                    width = 1.5)\n",
    "    ),\n",
    "    opacity = 0.7\n",
    ")\n",
    "data = [trace]\n",
    "\n",
    "layout = go.Layout(\n",
    "    title = 'Mean App size(MB) depending on Prime genre',\n",
    "    margin = dict(\n",
    "        l = 100\n",
    "    ),\n",
    "    xaxis = dict(\n",
    "        title = 'Genre'\n",
    "    ),\n",
    "    yaxis = dict(\n",
    "        title = 'Mean App size'\n",
    "    ),\n",
    "    width = 800,\n",
    "    height = 500\n",
    ")\n",
    "\n",
    "fig = go.Figure(data=data, layout=layout)\n",
    "py.iplot(fig)"
   ]
  },
  {
   "cell_type": "markdown",
   "metadata": {
    "_uuid": "d7dd8f35584120e5c377a61cad282531065e6812"
   },
   "source": [
    "- With not considering 'isNotFree', Medical App has the largest size of ~400MB, followed by Games(~300MB)."
   ]
  },
  {
   "cell_type": "code",
   "execution_count": 19,
   "metadata": {
    "_kg_hide-input": true,
    "_uuid": "593f4bcda52a9de776a52f086460d1e75776b887"
   },
   "outputs": [
    {
     "data": {
      "application/vnd.plotly.v1+json": {
       "data": [
        {
         "marker": {
          "color": [
           "#6FE15C",
           "#3A757F",
           "#C783D7",
           "#40A9C6",
           "#3F91AA",
           "#31BE21",
           "#FD47D0",
           "#5A821A",
           "#CD337C",
           "#476C04",
           "#DDCAC6",
           "#645544",
           "#1A9E64",
           "#EC1DF2",
           "#2B38B3",
           "#517B97",
           "#1E9B56",
           "#104074",
           "#4F9A6D",
           "#4581F0",
           "#C6050B",
           "#BA775E",
           "#CDD608",
           "#2CFD96",
           "#90605A",
           "#0AEECC",
           "#F76E0C",
           "#873F2A",
           "#52BC6E",
           "#86EBF3",
           "#3CB55F",
           "#890FF2",
           "#2889D3",
           "#4A875D",
           "#B7ED91",
           "#9D9803",
           "#A2952B",
           "#812915",
           "#44449B",
           "#3409D6",
           "#34A10C",
           "#70881B",
           "#C30A80",
           "#805F32",
           "#74B1E8",
           "#EE6DF1",
           "#DE1548",
           "#EAD113",
           "#854E8B",
           "#871ED8",
           "#E58232",
           "#A94BB6",
           "#D252AA",
           "#432BC4",
           "#2F77CF",
           "#69D6C1",
           "#179EA6",
           "#846DAE",
           "#604D11",
           "#BA24CF",
           "#C6CF2D",
           "#2F09C8",
           "#401FD1",
           "#664C9F",
           "#2267CB",
           "#70B8DD",
           "#2F9871",
           "#A58026",
           "#30DC80",
           "#C5EC09",
           "#C4CDAD",
           "#419EF2",
           "#D0A6D2",
           "#9ACC43",
           "#559A99",
           "#DB2680",
           "#D7499F",
           "#7F55F5",
           "#E461D3",
           "#25F5BC",
           "#42E3E9",
           "#080062",
           "#51030E",
           "#E9464F",
           "#06E4FB",
           "#293E21",
           "#3AEB30",
           "#AE8134",
           "#986A02",
           "#C4D43A",
           "#0273CE",
           "#7BBAF4",
           "#7D229E",
           "#06F73C",
           "#5545BC",
           "#2A77AF",
           "#A4C64D",
           "#A3A3EB",
           "#F3A48E",
           "#E28B2F"
          ],
          "line": {
           "color": "rgb(8, 48, 107)",
           "width": 1.5
          }
         },
         "opacity": 0.7,
         "text": [
          "8.78%",
          "7.62%",
          "6.73%",
          "5.67%",
          "5.14%",
          "4.55%",
          "4.47%",
          "4.40%",
          "4.33%",
          "4.29%",
          "3.99%",
          "3.96%",
          "3.91%",
          "3.87%",
          "3.86%",
          "3.74%",
          "3.38%",
          "3.25%",
          "3.13%",
          "3.08%",
          "3.07%",
          "2.71%",
          "2.06%"
         ],
         "type": "bar",
         "uid": "e438d008-d8ec-11e8-8ac2-5435308b7835",
         "x": [
          "Games",
          "Medical",
          "Education",
          "Productivity",
          "Reference",
          "Entertainment",
          "Sports",
          "Health & Fitness",
          "Travel",
          "Shopping",
          "Music",
          "Social Networking",
          "Weather",
          "Photo & Video",
          "Navigation",
          "Finance",
          "Business",
          "Lifestyle",
          "News",
          "Food & Drink",
          "Utilities",
          "Book",
          "Catalogs"
         ],
         "xaxis": "x",
         "y": [
          183.33639524677025,
          159.0631103515625,
          140.52340899091777,
          118.43694871471774,
          107.264306640625,
          95.07582654781685,
          93.3737638449367,
          91.82524671052632,
          90.51407296316964,
          89.55219363378099,
          83.42404675839552,
          82.68625924303815,
          81.69080771169355,
          80.88016350112275,
          80.70543303489686,
          78.18763950892857,
          70.662548828125,
          67.93277302194149,
          65.35200026939656,
          64.29930505087209,
          64.1862277809633,
          56.69803503787879,
          43.081380208333336
         ],
         "yaxis": "y"
        },
        {
         "marker": {
          "color": [
           "#44D652",
           "#7C3319",
           "#936573",
           "#BC7C60",
           "#A06835",
           "#06C17A",
           "#3DE4A6",
           "#605004",
           "#DB4CE6",
           "#237081",
           "#BC40BA",
           "#D67F92",
           "#36ABE6",
           "#BEBA15",
           "#8B4AE2",
           "#724AC3",
           "#B4A271",
           "#DC6306",
           "#0308F4",
           "#A7F57A",
           "#EE4764",
           "#6B1C21",
           "#53E483",
           "#37DA3E",
           "#92EA07",
           "#158EF8",
           "#A45A53",
           "#B2BF3D",
           "#222921",
           "#363059",
           "#A17B10",
           "#276A55",
           "#92342B",
           "#40999B",
           "#5EDEC6",
           "#6D8988",
           "#101635",
           "#1F6F38",
           "#21223F",
           "#B00296",
           "#E88201",
           "#33B5D5",
           "#9958B0",
           "#7BF79D",
           "#4E18DE",
           "#30D7FB",
           "#1F0F7F",
           "#7F1939",
           "#50DE61",
           "#FC4589",
           "#22D95D",
           "#DB15FE",
           "#7E0B0C",
           "#F34188",
           "#A716AD",
           "#85CA06",
           "#91FFCE",
           "#993600",
           "#D9D9A0",
           "#95F02F",
           "#EAA55C",
           "#5725BB",
           "#BA9A04",
           "#AFF3FC",
           "#5DA0DA",
           "#317DC2",
           "#07E1D0",
           "#735203",
           "#4921CB",
           "#2A32D3",
           "#7CBF6B",
           "#4FE0ED",
           "#AE68D0",
           "#DE7766",
           "#422576",
           "#524E1F",
           "#AB6C17",
           "#AC0820",
           "#3D5789",
           "#985F24",
           "#7C29CC",
           "#58B506",
           "#0C83AF",
           "#50F9F3",
           "#966109",
           "#2CC08E",
           "#C997CC",
           "#1D561A",
           "#EE31A8",
           "#9AD024",
           "#8A4B2C",
           "#E13D9C",
           "#2D8B22",
           "#486F44",
           "#EBF4EB",
           "#7B428A",
           "#B26337",
           "#DC997E",
           "#30370D",
           "#49E222"
          ],
          "line": {
           "color": "rgb(8, 48, 107)",
           "width": 1.5
          }
         },
         "opacity": 0.7,
         "text": [
          "17.38%",
          "14.68%",
          "12.46%",
          "6.91%",
          "6.22%",
          "4.65%",
          "4.19%",
          "3.72%",
          "3.54%",
          "3.39%",
          "3.05%",
          "2.22%",
          "2.09%",
          "1.97%",
          "1.92%",
          "1.91%",
          "1.62%",
          "1.57%",
          "1.54%",
          "1.49%",
          "1.28%",
          "1.27%",
          "0.93%"
         ],
         "type": "bar",
         "uid": "e438d009-d8ec-11e8-8ac2-5435308b7835",
         "x": [
          "Medical",
          "Games",
          "Book",
          "Education",
          "Reference",
          "Music",
          "Navigation",
          "Entertainment",
          "Food & Drink",
          "Catalogs",
          "Health & Fitness",
          "Finance",
          "Business",
          "Travel",
          "Productivity",
          "Photo & Video",
          "Lifestyle",
          "Utilities",
          "Weather",
          "News",
          "Sports",
          "Social Networking",
          "Shopping"
         ],
         "xaxis": "x2",
         "y": [
          465.5602213541667,
          393.11455792281487,
          333.8702870244565,
          185.03670881099046,
          166.4793745387684,
          124.49876513951261,
          112.30581430288461,
          99.6055553683001,
          94.8576171875,
          90.8369140625,
          81.62607046274039,
          59.59186811447144,
          56.07870565878378,
          52.8049609375,
          51.48727101293103,
          51.09515582074176,
          43.41621080398559,
          42.04251955567504,
          41.132431402439025,
          39.87338857089772,
          34.24338727678571,
          34.04192725817362,
          24.9267578125
         ],
         "yaxis": "y2"
        },
        {
         "name": "Free",
         "opacity": 0.7,
         "text": [
          "8.78%",
          "7.62%",
          "6.73%",
          "5.67%",
          "5.14%",
          "4.55%",
          "4.47%",
          "4.40%",
          "4.33%",
          "4.29%",
          "3.99%",
          "3.96%",
          "3.91%",
          "3.87%",
          "3.86%",
          "3.74%",
          "3.38%",
          "3.25%",
          "3.13%",
          "3.08%",
          "3.07%",
          "2.71%",
          "2.06%"
         ],
         "type": "bar",
         "uid": "e438d00a-d8ec-11e8-8ac2-5435308b7835",
         "x": [
          "Games",
          "Medical",
          "Education",
          "Productivity",
          "Reference",
          "Entertainment",
          "Sports",
          "Health & Fitness",
          "Travel",
          "Shopping",
          "Music",
          "Social Networking",
          "Weather",
          "Photo & Video",
          "Navigation",
          "Finance",
          "Business",
          "Lifestyle",
          "News",
          "Food & Drink",
          "Utilities",
          "Book",
          "Catalogs"
         ],
         "xaxis": "x3",
         "y": [
          183.33639524677025,
          159.0631103515625,
          140.52340899091777,
          118.43694871471774,
          107.264306640625,
          95.07582654781685,
          93.3737638449367,
          91.82524671052632,
          90.51407296316964,
          89.55219363378099,
          83.42404675839552,
          82.68625924303815,
          81.69080771169355,
          80.88016350112275,
          80.70543303489686,
          78.18763950892857,
          70.662548828125,
          67.93277302194149,
          65.35200026939656,
          64.29930505087209,
          64.1862277809633,
          56.69803503787879,
          43.081380208333336
         ],
         "yaxis": "y3"
        },
        {
         "name": "Not-Free",
         "opacity": 0.7,
         "text": [
          "17.38%",
          "14.68%",
          "12.46%",
          "6.91%",
          "6.22%",
          "4.65%",
          "4.19%",
          "3.72%",
          "3.54%",
          "3.39%",
          "3.05%",
          "2.22%",
          "2.09%",
          "1.97%",
          "1.92%",
          "1.91%",
          "1.62%",
          "1.57%",
          "1.54%",
          "1.49%",
          "1.28%",
          "1.27%",
          "0.93%"
         ],
         "type": "bar",
         "uid": "e438d00b-d8ec-11e8-8ac2-5435308b7835",
         "x": [
          "Medical",
          "Games",
          "Book",
          "Education",
          "Reference",
          "Music",
          "Navigation",
          "Entertainment",
          "Food & Drink",
          "Catalogs",
          "Health & Fitness",
          "Finance",
          "Business",
          "Travel",
          "Productivity",
          "Photo & Video",
          "Lifestyle",
          "Utilities",
          "Weather",
          "News",
          "Sports",
          "Social Networking",
          "Shopping"
         ],
         "xaxis": "x3",
         "y": [
          465.5602213541667,
          393.11455792281487,
          333.8702870244565,
          185.03670881099046,
          166.4793745387684,
          124.49876513951261,
          112.30581430288461,
          99.6055553683001,
          94.8576171875,
          90.8369140625,
          81.62607046274039,
          59.59186811447144,
          56.07870565878378,
          52.8049609375,
          51.48727101293103,
          51.09515582074176,
          43.41621080398559,
          42.04251955567504,
          41.132431402439025,
          39.87338857089772,
          34.24338727678571,
          34.04192725817362,
          24.9267578125
         ],
         "yaxis": "y3"
        }
       ],
       "layout": {
        "annotations": [
         {
          "font": {
           "size": 16
          },
          "showarrow": false,
          "text": "(1) Mean App size(MB) of Free",
          "x": 0.225,
          "xanchor": "center",
          "xref": "paper",
          "y": 1,
          "yanchor": "bottom",
          "yref": "paper"
         },
         {
          "font": {
           "size": 16
          },
          "showarrow": false,
          "text": "(2) Mean App size(MB) of Not-Free",
          "x": 0.775,
          "xanchor": "center",
          "xref": "paper",
          "y": 1,
          "yanchor": "bottom",
          "yref": "paper"
         },
         {
          "font": {
           "size": 16
          },
          "showarrow": false,
          "text": "(3) Grouped barplot containing Free(green) and Not-Free(red)",
          "x": 0.5,
          "xanchor": "center",
          "xref": "paper",
          "y": 0.375,
          "yanchor": "bottom",
          "yref": "paper"
         }
        ],
        "height": 800,
        "showlegend": false,
        "width": 800,
        "xaxis": {
         "anchor": "y",
         "domain": [
          0,
          0.45
         ]
        },
        "xaxis2": {
         "anchor": "y2",
         "domain": [
          0.55,
          1
         ]
        },
        "xaxis3": {
         "anchor": "y3",
         "domain": [
          0,
          1
         ]
        },
        "yaxis": {
         "anchor": "x",
         "domain": [
          0.625,
          1
         ],
         "title": "Mean App size(MB)"
        },
        "yaxis2": {
         "anchor": "x2",
         "domain": [
          0.625,
          1
         ],
         "title": "Mean App size(MB)"
        },
        "yaxis3": {
         "anchor": "x3",
         "domain": [
          0,
          0.375
         ],
         "title": "Mean App size(MB)"
        }
       }
      },
      "text/html": [
       "<div id=\"f1be4d50-207e-43d0-96e8-28854f8b3df4\" style=\"height: 800px; width: 800px;\" class=\"plotly-graph-div\"></div><script type=\"text/javascript\">require([\"plotly\"], function(Plotly) { window.PLOTLYENV=window.PLOTLYENV || {};window.PLOTLYENV.BASE_URL=\"https://plot.ly\";Plotly.newPlot(\"f1be4d50-207e-43d0-96e8-28854f8b3df4\", [{\"marker\": {\"color\": [\"#6FE15C\", \"#3A757F\", \"#C783D7\", \"#40A9C6\", \"#3F91AA\", \"#31BE21\", \"#FD47D0\", \"#5A821A\", \"#CD337C\", \"#476C04\", \"#DDCAC6\", \"#645544\", \"#1A9E64\", \"#EC1DF2\", \"#2B38B3\", \"#517B97\", \"#1E9B56\", \"#104074\", \"#4F9A6D\", \"#4581F0\", \"#C6050B\", \"#BA775E\", \"#CDD608\", \"#2CFD96\", \"#90605A\", \"#0AEECC\", \"#F76E0C\", \"#873F2A\", \"#52BC6E\", \"#86EBF3\", \"#3CB55F\", \"#890FF2\", \"#2889D3\", \"#4A875D\", \"#B7ED91\", \"#9D9803\", \"#A2952B\", \"#812915\", \"#44449B\", \"#3409D6\", \"#34A10C\", \"#70881B\", \"#C30A80\", \"#805F32\", \"#74B1E8\", \"#EE6DF1\", \"#DE1548\", \"#EAD113\", \"#854E8B\", \"#871ED8\", \"#E58232\", \"#A94BB6\", \"#D252AA\", \"#432BC4\", \"#2F77CF\", \"#69D6C1\", \"#179EA6\", \"#846DAE\", \"#604D11\", \"#BA24CF\", \"#C6CF2D\", \"#2F09C8\", \"#401FD1\", \"#664C9F\", \"#2267CB\", \"#70B8DD\", \"#2F9871\", \"#A58026\", \"#30DC80\", \"#C5EC09\", \"#C4CDAD\", \"#419EF2\", \"#D0A6D2\", \"#9ACC43\", \"#559A99\", \"#DB2680\", \"#D7499F\", \"#7F55F5\", \"#E461D3\", \"#25F5BC\", \"#42E3E9\", \"#080062\", \"#51030E\", \"#E9464F\", \"#06E4FB\", \"#293E21\", \"#3AEB30\", \"#AE8134\", \"#986A02\", \"#C4D43A\", \"#0273CE\", \"#7BBAF4\", \"#7D229E\", \"#06F73C\", \"#5545BC\", \"#2A77AF\", \"#A4C64D\", \"#A3A3EB\", \"#F3A48E\", \"#E28B2F\"], \"line\": {\"color\": \"rgb(8, 48, 107)\", \"width\": 1.5}}, \"opacity\": 0.7, \"text\": [\"8.78%\", \"7.62%\", \"6.73%\", \"5.67%\", \"5.14%\", \"4.55%\", \"4.47%\", \"4.40%\", \"4.33%\", \"4.29%\", \"3.99%\", \"3.96%\", \"3.91%\", \"3.87%\", \"3.86%\", \"3.74%\", \"3.38%\", \"3.25%\", \"3.13%\", \"3.08%\", \"3.07%\", \"2.71%\", \"2.06%\"], \"x\": [\"Games\", \"Medical\", \"Education\", \"Productivity\", \"Reference\", \"Entertainment\", \"Sports\", \"Health & Fitness\", \"Travel\", \"Shopping\", \"Music\", \"Social Networking\", \"Weather\", \"Photo & Video\", \"Navigation\", \"Finance\", \"Business\", \"Lifestyle\", \"News\", \"Food & Drink\", \"Utilities\", \"Book\", \"Catalogs\"], \"y\": [183.33639524677025, 159.0631103515625, 140.52340899091777, 118.43694871471774, 107.264306640625, 95.07582654781685, 93.3737638449367, 91.82524671052632, 90.51407296316964, 89.55219363378099, 83.42404675839552, 82.68625924303815, 81.69080771169355, 80.88016350112275, 80.70543303489686, 78.18763950892857, 70.662548828125, 67.93277302194149, 65.35200026939656, 64.29930505087209, 64.1862277809633, 56.69803503787879, 43.081380208333336], \"type\": \"bar\", \"uid\": \"e438d008-d8ec-11e8-8ac2-5435308b7835\", \"xaxis\": \"x\", \"yaxis\": \"y\"}, {\"marker\": {\"color\": [\"#44D652\", \"#7C3319\", \"#936573\", \"#BC7C60\", \"#A06835\", \"#06C17A\", \"#3DE4A6\", \"#605004\", \"#DB4CE6\", \"#237081\", \"#BC40BA\", \"#D67F92\", \"#36ABE6\", \"#BEBA15\", \"#8B4AE2\", \"#724AC3\", \"#B4A271\", \"#DC6306\", \"#0308F4\", \"#A7F57A\", \"#EE4764\", \"#6B1C21\", \"#53E483\", \"#37DA3E\", \"#92EA07\", \"#158EF8\", \"#A45A53\", \"#B2BF3D\", \"#222921\", \"#363059\", \"#A17B10\", \"#276A55\", \"#92342B\", \"#40999B\", \"#5EDEC6\", \"#6D8988\", \"#101635\", \"#1F6F38\", \"#21223F\", \"#B00296\", \"#E88201\", \"#33B5D5\", \"#9958B0\", \"#7BF79D\", \"#4E18DE\", \"#30D7FB\", \"#1F0F7F\", \"#7F1939\", \"#50DE61\", \"#FC4589\", \"#22D95D\", \"#DB15FE\", \"#7E0B0C\", \"#F34188\", \"#A716AD\", \"#85CA06\", \"#91FFCE\", \"#993600\", \"#D9D9A0\", \"#95F02F\", \"#EAA55C\", \"#5725BB\", \"#BA9A04\", \"#AFF3FC\", \"#5DA0DA\", \"#317DC2\", \"#07E1D0\", \"#735203\", \"#4921CB\", \"#2A32D3\", \"#7CBF6B\", \"#4FE0ED\", \"#AE68D0\", \"#DE7766\", \"#422576\", \"#524E1F\", \"#AB6C17\", \"#AC0820\", \"#3D5789\", \"#985F24\", \"#7C29CC\", \"#58B506\", \"#0C83AF\", \"#50F9F3\", \"#966109\", \"#2CC08E\", \"#C997CC\", \"#1D561A\", \"#EE31A8\", \"#9AD024\", \"#8A4B2C\", \"#E13D9C\", \"#2D8B22\", \"#486F44\", \"#EBF4EB\", \"#7B428A\", \"#B26337\", \"#DC997E\", \"#30370D\", \"#49E222\"], \"line\": {\"color\": \"rgb(8, 48, 107)\", \"width\": 1.5}}, \"opacity\": 0.7, \"text\": [\"17.38%\", \"14.68%\", \"12.46%\", \"6.91%\", \"6.22%\", \"4.65%\", \"4.19%\", \"3.72%\", \"3.54%\", \"3.39%\", \"3.05%\", \"2.22%\", \"2.09%\", \"1.97%\", \"1.92%\", \"1.91%\", \"1.62%\", \"1.57%\", \"1.54%\", \"1.49%\", \"1.28%\", \"1.27%\", \"0.93%\"], \"x\": [\"Medical\", \"Games\", \"Book\", \"Education\", \"Reference\", \"Music\", \"Navigation\", \"Entertainment\", \"Food & Drink\", \"Catalogs\", \"Health & Fitness\", \"Finance\", \"Business\", \"Travel\", \"Productivity\", \"Photo & Video\", \"Lifestyle\", \"Utilities\", \"Weather\", \"News\", \"Sports\", \"Social Networking\", \"Shopping\"], \"y\": [465.5602213541667, 393.11455792281487, 333.8702870244565, 185.03670881099046, 166.4793745387684, 124.49876513951261, 112.30581430288461, 99.6055553683001, 94.8576171875, 90.8369140625, 81.62607046274039, 59.59186811447144, 56.07870565878378, 52.8049609375, 51.48727101293103, 51.09515582074176, 43.41621080398559, 42.04251955567504, 41.132431402439025, 39.87338857089772, 34.24338727678571, 34.04192725817362, 24.9267578125], \"type\": \"bar\", \"uid\": \"e438d009-d8ec-11e8-8ac2-5435308b7835\", \"xaxis\": \"x2\", \"yaxis\": \"y2\"}, {\"name\": \"Free\", \"opacity\": 0.7, \"text\": [\"8.78%\", \"7.62%\", \"6.73%\", \"5.67%\", \"5.14%\", \"4.55%\", \"4.47%\", \"4.40%\", \"4.33%\", \"4.29%\", \"3.99%\", \"3.96%\", \"3.91%\", \"3.87%\", \"3.86%\", \"3.74%\", \"3.38%\", \"3.25%\", \"3.13%\", \"3.08%\", \"3.07%\", \"2.71%\", \"2.06%\"], \"x\": [\"Games\", \"Medical\", \"Education\", \"Productivity\", \"Reference\", \"Entertainment\", \"Sports\", \"Health & Fitness\", \"Travel\", \"Shopping\", \"Music\", \"Social Networking\", \"Weather\", \"Photo & Video\", \"Navigation\", \"Finance\", \"Business\", \"Lifestyle\", \"News\", \"Food & Drink\", \"Utilities\", \"Book\", \"Catalogs\"], \"y\": [183.33639524677025, 159.0631103515625, 140.52340899091777, 118.43694871471774, 107.264306640625, 95.07582654781685, 93.3737638449367, 91.82524671052632, 90.51407296316964, 89.55219363378099, 83.42404675839552, 82.68625924303815, 81.69080771169355, 80.88016350112275, 80.70543303489686, 78.18763950892857, 70.662548828125, 67.93277302194149, 65.35200026939656, 64.29930505087209, 64.1862277809633, 56.69803503787879, 43.081380208333336], \"type\": \"bar\", \"uid\": \"e438d00a-d8ec-11e8-8ac2-5435308b7835\", \"xaxis\": \"x3\", \"yaxis\": \"y3\"}, {\"name\": \"Not-Free\", \"opacity\": 0.7, \"text\": [\"17.38%\", \"14.68%\", \"12.46%\", \"6.91%\", \"6.22%\", \"4.65%\", \"4.19%\", \"3.72%\", \"3.54%\", \"3.39%\", \"3.05%\", \"2.22%\", \"2.09%\", \"1.97%\", \"1.92%\", \"1.91%\", \"1.62%\", \"1.57%\", \"1.54%\", \"1.49%\", \"1.28%\", \"1.27%\", \"0.93%\"], \"x\": [\"Medical\", \"Games\", \"Book\", \"Education\", \"Reference\", \"Music\", \"Navigation\", \"Entertainment\", \"Food & Drink\", \"Catalogs\", \"Health & Fitness\", \"Finance\", \"Business\", \"Travel\", \"Productivity\", \"Photo & Video\", \"Lifestyle\", \"Utilities\", \"Weather\", \"News\", \"Sports\", \"Social Networking\", \"Shopping\"], \"y\": [465.5602213541667, 393.11455792281487, 333.8702870244565, 185.03670881099046, 166.4793745387684, 124.49876513951261, 112.30581430288461, 99.6055553683001, 94.8576171875, 90.8369140625, 81.62607046274039, 59.59186811447144, 56.07870565878378, 52.8049609375, 51.48727101293103, 51.09515582074176, 43.41621080398559, 42.04251955567504, 41.132431402439025, 39.87338857089772, 34.24338727678571, 34.04192725817362, 24.9267578125], \"type\": \"bar\", \"uid\": \"e438d00b-d8ec-11e8-8ac2-5435308b7835\", \"xaxis\": \"x3\", \"yaxis\": \"y3\"}], {\"annotations\": [{\"font\": {\"size\": 16}, \"showarrow\": false, \"text\": \"(1) Mean App size(MB) of Free\", \"x\": 0.225, \"xanchor\": \"center\", \"xref\": \"paper\", \"y\": 1.0, \"yanchor\": \"bottom\", \"yref\": \"paper\"}, {\"font\": {\"size\": 16}, \"showarrow\": false, \"text\": \"(2) Mean App size(MB) of Not-Free\", \"x\": 0.775, \"xanchor\": \"center\", \"xref\": \"paper\", \"y\": 1.0, \"yanchor\": \"bottom\", \"yref\": \"paper\"}, {\"font\": {\"size\": 16}, \"showarrow\": false, \"text\": \"(3) Grouped barplot containing Free(green) and Not-Free(red)\", \"x\": 0.5, \"xanchor\": \"center\", \"xref\": \"paper\", \"y\": 0.375, \"yanchor\": \"bottom\", \"yref\": \"paper\"}], \"xaxis\": {\"anchor\": \"y\", \"domain\": [0.0, 0.45]}, \"yaxis\": {\"anchor\": \"x\", \"domain\": [0.625, 1.0], \"title\": \"Mean App size(MB)\"}, \"xaxis2\": {\"anchor\": \"y2\", \"domain\": [0.55, 1.0]}, \"yaxis2\": {\"anchor\": \"x2\", \"domain\": [0.625, 1.0], \"title\": \"Mean App size(MB)\"}, \"xaxis3\": {\"anchor\": \"y3\", \"domain\": [0.0, 1.0]}, \"yaxis3\": {\"anchor\": \"x3\", \"domain\": [0.0, 0.375], \"title\": \"Mean App size(MB)\"}, \"showlegend\": false, \"width\": 800, \"height\": 800}, {\"showLink\": true, \"linkText\": \"Export to plot.ly\"})});</script>"
      ],
      "text/vnd.plotly.v1+html": [
       "<div id=\"f1be4d50-207e-43d0-96e8-28854f8b3df4\" style=\"height: 800px; width: 800px;\" class=\"plotly-graph-div\"></div><script type=\"text/javascript\">require([\"plotly\"], function(Plotly) { window.PLOTLYENV=window.PLOTLYENV || {};window.PLOTLYENV.BASE_URL=\"https://plot.ly\";Plotly.newPlot(\"f1be4d50-207e-43d0-96e8-28854f8b3df4\", [{\"marker\": {\"color\": [\"#6FE15C\", \"#3A757F\", \"#C783D7\", \"#40A9C6\", \"#3F91AA\", \"#31BE21\", \"#FD47D0\", \"#5A821A\", \"#CD337C\", \"#476C04\", \"#DDCAC6\", \"#645544\", \"#1A9E64\", \"#EC1DF2\", \"#2B38B3\", \"#517B97\", \"#1E9B56\", \"#104074\", \"#4F9A6D\", \"#4581F0\", \"#C6050B\", \"#BA775E\", \"#CDD608\", \"#2CFD96\", \"#90605A\", \"#0AEECC\", \"#F76E0C\", \"#873F2A\", \"#52BC6E\", \"#86EBF3\", \"#3CB55F\", \"#890FF2\", \"#2889D3\", \"#4A875D\", \"#B7ED91\", \"#9D9803\", \"#A2952B\", \"#812915\", \"#44449B\", \"#3409D6\", \"#34A10C\", \"#70881B\", \"#C30A80\", \"#805F32\", \"#74B1E8\", \"#EE6DF1\", \"#DE1548\", \"#EAD113\", \"#854E8B\", \"#871ED8\", \"#E58232\", \"#A94BB6\", \"#D252AA\", \"#432BC4\", \"#2F77CF\", \"#69D6C1\", \"#179EA6\", \"#846DAE\", \"#604D11\", \"#BA24CF\", \"#C6CF2D\", \"#2F09C8\", \"#401FD1\", \"#664C9F\", \"#2267CB\", \"#70B8DD\", \"#2F9871\", \"#A58026\", \"#30DC80\", \"#C5EC09\", \"#C4CDAD\", \"#419EF2\", \"#D0A6D2\", \"#9ACC43\", \"#559A99\", \"#DB2680\", \"#D7499F\", \"#7F55F5\", \"#E461D3\", \"#25F5BC\", \"#42E3E9\", \"#080062\", \"#51030E\", \"#E9464F\", \"#06E4FB\", \"#293E21\", \"#3AEB30\", \"#AE8134\", \"#986A02\", \"#C4D43A\", \"#0273CE\", \"#7BBAF4\", \"#7D229E\", \"#06F73C\", \"#5545BC\", \"#2A77AF\", \"#A4C64D\", \"#A3A3EB\", \"#F3A48E\", \"#E28B2F\"], \"line\": {\"color\": \"rgb(8, 48, 107)\", \"width\": 1.5}}, \"opacity\": 0.7, \"text\": [\"8.78%\", \"7.62%\", \"6.73%\", \"5.67%\", \"5.14%\", \"4.55%\", \"4.47%\", \"4.40%\", \"4.33%\", \"4.29%\", \"3.99%\", \"3.96%\", \"3.91%\", \"3.87%\", \"3.86%\", \"3.74%\", \"3.38%\", \"3.25%\", \"3.13%\", \"3.08%\", \"3.07%\", \"2.71%\", \"2.06%\"], \"x\": [\"Games\", \"Medical\", \"Education\", \"Productivity\", \"Reference\", \"Entertainment\", \"Sports\", \"Health & Fitness\", \"Travel\", \"Shopping\", \"Music\", \"Social Networking\", \"Weather\", \"Photo & Video\", \"Navigation\", \"Finance\", \"Business\", \"Lifestyle\", \"News\", \"Food & Drink\", \"Utilities\", \"Book\", \"Catalogs\"], \"y\": [183.33639524677025, 159.0631103515625, 140.52340899091777, 118.43694871471774, 107.264306640625, 95.07582654781685, 93.3737638449367, 91.82524671052632, 90.51407296316964, 89.55219363378099, 83.42404675839552, 82.68625924303815, 81.69080771169355, 80.88016350112275, 80.70543303489686, 78.18763950892857, 70.662548828125, 67.93277302194149, 65.35200026939656, 64.29930505087209, 64.1862277809633, 56.69803503787879, 43.081380208333336], \"type\": \"bar\", \"uid\": \"e438d008-d8ec-11e8-8ac2-5435308b7835\", \"xaxis\": \"x\", \"yaxis\": \"y\"}, {\"marker\": {\"color\": [\"#44D652\", \"#7C3319\", \"#936573\", \"#BC7C60\", \"#A06835\", \"#06C17A\", \"#3DE4A6\", \"#605004\", \"#DB4CE6\", \"#237081\", \"#BC40BA\", \"#D67F92\", \"#36ABE6\", \"#BEBA15\", \"#8B4AE2\", \"#724AC3\", \"#B4A271\", \"#DC6306\", \"#0308F4\", \"#A7F57A\", \"#EE4764\", \"#6B1C21\", \"#53E483\", \"#37DA3E\", \"#92EA07\", \"#158EF8\", \"#A45A53\", \"#B2BF3D\", \"#222921\", \"#363059\", \"#A17B10\", \"#276A55\", \"#92342B\", \"#40999B\", \"#5EDEC6\", \"#6D8988\", \"#101635\", \"#1F6F38\", \"#21223F\", \"#B00296\", \"#E88201\", \"#33B5D5\", \"#9958B0\", \"#7BF79D\", \"#4E18DE\", \"#30D7FB\", \"#1F0F7F\", \"#7F1939\", \"#50DE61\", \"#FC4589\", \"#22D95D\", \"#DB15FE\", \"#7E0B0C\", \"#F34188\", \"#A716AD\", \"#85CA06\", \"#91FFCE\", \"#993600\", \"#D9D9A0\", \"#95F02F\", \"#EAA55C\", \"#5725BB\", \"#BA9A04\", \"#AFF3FC\", \"#5DA0DA\", \"#317DC2\", \"#07E1D0\", \"#735203\", \"#4921CB\", \"#2A32D3\", \"#7CBF6B\", \"#4FE0ED\", \"#AE68D0\", \"#DE7766\", \"#422576\", \"#524E1F\", \"#AB6C17\", \"#AC0820\", \"#3D5789\", \"#985F24\", \"#7C29CC\", \"#58B506\", \"#0C83AF\", \"#50F9F3\", \"#966109\", \"#2CC08E\", \"#C997CC\", \"#1D561A\", \"#EE31A8\", \"#9AD024\", \"#8A4B2C\", \"#E13D9C\", \"#2D8B22\", \"#486F44\", \"#EBF4EB\", \"#7B428A\", \"#B26337\", \"#DC997E\", \"#30370D\", \"#49E222\"], \"line\": {\"color\": \"rgb(8, 48, 107)\", \"width\": 1.5}}, \"opacity\": 0.7, \"text\": [\"17.38%\", \"14.68%\", \"12.46%\", \"6.91%\", \"6.22%\", \"4.65%\", \"4.19%\", \"3.72%\", \"3.54%\", \"3.39%\", \"3.05%\", \"2.22%\", \"2.09%\", \"1.97%\", \"1.92%\", \"1.91%\", \"1.62%\", \"1.57%\", \"1.54%\", \"1.49%\", \"1.28%\", \"1.27%\", \"0.93%\"], \"x\": [\"Medical\", \"Games\", \"Book\", \"Education\", \"Reference\", \"Music\", \"Navigation\", \"Entertainment\", \"Food & Drink\", \"Catalogs\", \"Health & Fitness\", \"Finance\", \"Business\", \"Travel\", \"Productivity\", \"Photo & Video\", \"Lifestyle\", \"Utilities\", \"Weather\", \"News\", \"Sports\", \"Social Networking\", \"Shopping\"], \"y\": [465.5602213541667, 393.11455792281487, 333.8702870244565, 185.03670881099046, 166.4793745387684, 124.49876513951261, 112.30581430288461, 99.6055553683001, 94.8576171875, 90.8369140625, 81.62607046274039, 59.59186811447144, 56.07870565878378, 52.8049609375, 51.48727101293103, 51.09515582074176, 43.41621080398559, 42.04251955567504, 41.132431402439025, 39.87338857089772, 34.24338727678571, 34.04192725817362, 24.9267578125], \"type\": \"bar\", \"uid\": \"e438d009-d8ec-11e8-8ac2-5435308b7835\", \"xaxis\": \"x2\", \"yaxis\": \"y2\"}, {\"name\": \"Free\", \"opacity\": 0.7, \"text\": [\"8.78%\", \"7.62%\", \"6.73%\", \"5.67%\", \"5.14%\", \"4.55%\", \"4.47%\", \"4.40%\", \"4.33%\", \"4.29%\", \"3.99%\", \"3.96%\", \"3.91%\", \"3.87%\", \"3.86%\", \"3.74%\", \"3.38%\", \"3.25%\", \"3.13%\", \"3.08%\", \"3.07%\", \"2.71%\", \"2.06%\"], \"x\": [\"Games\", \"Medical\", \"Education\", \"Productivity\", \"Reference\", \"Entertainment\", \"Sports\", \"Health & Fitness\", \"Travel\", \"Shopping\", \"Music\", \"Social Networking\", \"Weather\", \"Photo & Video\", \"Navigation\", \"Finance\", \"Business\", \"Lifestyle\", \"News\", \"Food & Drink\", \"Utilities\", \"Book\", \"Catalogs\"], \"y\": [183.33639524677025, 159.0631103515625, 140.52340899091777, 118.43694871471774, 107.264306640625, 95.07582654781685, 93.3737638449367, 91.82524671052632, 90.51407296316964, 89.55219363378099, 83.42404675839552, 82.68625924303815, 81.69080771169355, 80.88016350112275, 80.70543303489686, 78.18763950892857, 70.662548828125, 67.93277302194149, 65.35200026939656, 64.29930505087209, 64.1862277809633, 56.69803503787879, 43.081380208333336], \"type\": \"bar\", \"uid\": \"e438d00a-d8ec-11e8-8ac2-5435308b7835\", \"xaxis\": \"x3\", \"yaxis\": \"y3\"}, {\"name\": \"Not-Free\", \"opacity\": 0.7, \"text\": [\"17.38%\", \"14.68%\", \"12.46%\", \"6.91%\", \"6.22%\", \"4.65%\", \"4.19%\", \"3.72%\", \"3.54%\", \"3.39%\", \"3.05%\", \"2.22%\", \"2.09%\", \"1.97%\", \"1.92%\", \"1.91%\", \"1.62%\", \"1.57%\", \"1.54%\", \"1.49%\", \"1.28%\", \"1.27%\", \"0.93%\"], \"x\": [\"Medical\", \"Games\", \"Book\", \"Education\", \"Reference\", \"Music\", \"Navigation\", \"Entertainment\", \"Food & Drink\", \"Catalogs\", \"Health & Fitness\", \"Finance\", \"Business\", \"Travel\", \"Productivity\", \"Photo & Video\", \"Lifestyle\", \"Utilities\", \"Weather\", \"News\", \"Sports\", \"Social Networking\", \"Shopping\"], \"y\": [465.5602213541667, 393.11455792281487, 333.8702870244565, 185.03670881099046, 166.4793745387684, 124.49876513951261, 112.30581430288461, 99.6055553683001, 94.8576171875, 90.8369140625, 81.62607046274039, 59.59186811447144, 56.07870565878378, 52.8049609375, 51.48727101293103, 51.09515582074176, 43.41621080398559, 42.04251955567504, 41.132431402439025, 39.87338857089772, 34.24338727678571, 34.04192725817362, 24.9267578125], \"type\": \"bar\", \"uid\": \"e438d00b-d8ec-11e8-8ac2-5435308b7835\", \"xaxis\": \"x3\", \"yaxis\": \"y3\"}], {\"annotations\": [{\"font\": {\"size\": 16}, \"showarrow\": false, \"text\": \"(1) Mean App size(MB) of Free\", \"x\": 0.225, \"xanchor\": \"center\", \"xref\": \"paper\", \"y\": 1.0, \"yanchor\": \"bottom\", \"yref\": \"paper\"}, {\"font\": {\"size\": 16}, \"showarrow\": false, \"text\": \"(2) Mean App size(MB) of Not-Free\", \"x\": 0.775, \"xanchor\": \"center\", \"xref\": \"paper\", \"y\": 1.0, \"yanchor\": \"bottom\", \"yref\": \"paper\"}, {\"font\": {\"size\": 16}, \"showarrow\": false, \"text\": \"(3) Grouped barplot containing Free(green) and Not-Free(red)\", \"x\": 0.5, \"xanchor\": \"center\", \"xref\": \"paper\", \"y\": 0.375, \"yanchor\": \"bottom\", \"yref\": \"paper\"}], \"xaxis\": {\"anchor\": \"y\", \"domain\": [0.0, 0.45]}, \"yaxis\": {\"anchor\": \"x\", \"domain\": [0.625, 1.0], \"title\": \"Mean App size(MB)\"}, \"xaxis2\": {\"anchor\": \"y2\", \"domain\": [0.55, 1.0]}, \"yaxis2\": {\"anchor\": \"x2\", \"domain\": [0.625, 1.0], \"title\": \"Mean App size(MB)\"}, \"xaxis3\": {\"anchor\": \"y3\", \"domain\": [0.0, 1.0]}, \"yaxis3\": {\"anchor\": \"x3\", \"domain\": [0.0, 0.375], \"title\": \"Mean App size(MB)\"}, \"showlegend\": false, \"width\": 800, \"height\": 800}, {\"showLink\": true, \"linkText\": \"Export to plot.ly\"})});</script>"
      ]
     },
     "metadata": {},
     "output_type": "display_data"
    }
   ],
   "source": [
    "cnt_srs1 = df_app_free[['prime_genre', 'size_bytes_in_MB']].groupby('prime_genre').mean()['size_bytes_in_MB'].sort_values(ascending=False)\n",
    "text1 = ['{:.2f}%'.format(100 * (value / cnt_srs1.sum())) for value in cnt_srs1.values]\n",
    "\n",
    "trace1 = go.Bar(\n",
    "    x = cnt_srs1.index,\n",
    "    y = cnt_srs1.values,\n",
    "    text = text1,\n",
    "    marker = dict(\n",
    "        color = random_color_generator(100),\n",
    "        line = dict(color='rgb(8, 48, 107)',\n",
    "                    width = 1.5)\n",
    "    ),\n",
    "    opacity = 0.7\n",
    ")\n",
    "\n",
    "cnt_srs2 = df_app_notfree[['prime_genre', 'size_bytes_in_MB']].groupby('prime_genre').mean()['size_bytes_in_MB'].sort_values(ascending=False)\n",
    "text2 = ['{:.2f}%'.format(100 * (value / cnt_srs2.sum())) for value in cnt_srs2.values]\n",
    "\n",
    "trace2 = go.Bar(\n",
    "    x = cnt_srs2.index,\n",
    "    y = cnt_srs2.values,\n",
    "    text = text2,\n",
    "    marker = dict(\n",
    "        color = random_color_generator(100),\n",
    "        line = dict(color='rgb(8, 48, 107)',\n",
    "                    width = 1.5)\n",
    "    ),\n",
    "    opacity = 0.7\n",
    ")\n",
    "\n",
    "trace3 = go.Bar(\n",
    "    x = cnt_srs1.index,\n",
    "    y = cnt_srs1.values,\n",
    "    text = text1,\n",
    "    opacity = 0.7,\n",
    "    name='Free'\n",
    ")\n",
    "\n",
    "\n",
    "trace4 = go.Bar(\n",
    "    x = cnt_srs2.index,\n",
    "    y = cnt_srs2.values,\n",
    "    text = text2,\n",
    "    opacity = 0.7,\n",
    "    name='Not-Free'\n",
    ")\n",
    "\n",
    "\n",
    "\n",
    "fig = tools.make_subplots(rows=2, cols=2, specs = [[{}, {}], [{'colspan':2}, None]], subplot_titles=('Free', 'Not-Free', 'third'), print_grid=False)\n",
    "fig = tools.make_subplots(rows=2, cols=2, specs = [[{}, {}], [{'colspan':2}, None]], \n",
    "                          subplot_titles=('(1) Mean App size(MB) of Free', '(2) Mean App size(MB) of Not-Free', \n",
    "                                          '(3) Grouped barplot containing Free(green) and Not-Free(red)'), print_grid=False)\n",
    "\n",
    "fig.append_trace(trace1, 1, 1)\n",
    "fig.append_trace(trace2, 1, 2)\n",
    "fig.append_trace(trace3, 2, 1)\n",
    "fig.append_trace(trace4, 2, 1)\n",
    "\n",
    "fig['layout']['yaxis1'].update(title='Mean App size(MB)')\n",
    "fig['layout']['yaxis2'].update(title='Mean App size(MB)')\n",
    "fig['layout']['yaxis3'].update(title='Mean App size(MB)')\n",
    "fig['layout'].update(showlegend=False, width=800, height=800)\n",
    "\n",
    "py.iplot(fig)"
   ]
  },
  {
   "cell_type": "markdown",
   "metadata": {
    "_uuid": "b64a374e0b749e766caed93626c2bf5940c6d9fb"
   },
   "source": [
    "### Figure 1\n",
    "- For Free App, Top 3 is below.\n",
    "\n",
    "(1) Games (2) Medical (3) Education\n",
    "### Figure 2\n",
    "\n",
    "- For Not-Free App, Top 3 is below\n",
    "\n",
    "(1) Medical (2) Games (3) Book\n",
    "### Figure 3\n",
    "\n",
    "- The bytesize of Not-Free Book, Catalogs and Medical Apps are more than 2 times than that of Free Book, Catalogs and Medical Apps.\n",
    "- Because the service form of  those 3 Apps is information, the price for Apps have a relationship with the amount of information.\n",
    "- For Games, I think the price is responsible for high quality graphic, good interface, etc."
   ]
  },
  {
   "cell_type": "markdown",
   "metadata": {
    "_uuid": "dbf2801bc77828ec87d88a306e7af089ae52ceec"
   },
   "source": [
    "## App price based on prime_genre"
   ]
  },
  {
   "cell_type": "markdown",
   "metadata": {
    "_uuid": "4f945e8640d1632a22bf0c2318681a8c577ffa54"
   },
   "source": [
    "- The Apps (Business, Reference, Music, Productivity, Navigation, Education) have the mean price near to 5$."
   ]
  },
  {
   "cell_type": "code",
   "execution_count": 20,
   "metadata": {
    "_kg_hide-input": true,
    "_uuid": "ba17da9e5e687e22642f41164c52fbfca5c20d0b"
   },
   "outputs": [
    {
     "data": {
      "application/vnd.plotly.v1+json": {
       "data": [
        {
         "marker": {
          "color": [
           "#54DFF1",
           "#94603A",
           "#452DF6",
           "#D7FE4D",
           "#85AB82",
           "#BFBD49",
           "#ECC1EB",
           "#E93F52",
           "#78031A",
           "#0116FF",
           "#A4AAD1",
           "#30A9D6",
           "#3A0B74",
           "#DFBC03",
           "#0AC8A1",
           "#FF7486",
           "#84476C",
           "#F49758",
           "#C4F805",
           "#C9A3B0",
           "#ACE6EE",
           "#0326D8",
           "#0B80A5",
           "#2EBF97",
           "#DEE5DB",
           "#6CF293",
           "#1E864F",
           "#9E984E",
           "#8DE933",
           "#2A9BC4",
           "#D8CA8D",
           "#569C6A",
           "#49FCBD",
           "#C1FCDA",
           "#F47F9D",
           "#7F5AF4",
           "#A75CEF",
           "#467926",
           "#63FF49",
           "#19CC91",
           "#1EC043",
           "#6E22F5",
           "#5894F4",
           "#FF4789",
           "#4F6E7A",
           "#460939",
           "#DE392F",
           "#61CAF7",
           "#B88053",
           "#C04D18",
           "#E7C6BB",
           "#0B0C1B",
           "#1923F8",
           "#68BBE0",
           "#F6A399",
           "#921A28",
           "#65D311",
           "#04C2FA",
           "#BCBB6A",
           "#4E9ABC",
           "#72FBE7",
           "#6D111D",
           "#0FA209",
           "#C2E063",
           "#58853F",
           "#847769",
           "#7F0E36",
           "#A5E82C",
           "#EA2520",
           "#883CA0",
           "#A0780C",
           "#811E36",
           "#66BF9E",
           "#CF7786",
           "#BF559C",
           "#CA3095",
           "#8FADE1",
           "#2A7CA2",
           "#B5501B",
           "#BA028F",
           "#5EE263",
           "#790D87",
           "#CA2636",
           "#448456",
           "#3ADBB7",
           "#A1AF0B",
           "#E2E519",
           "#4B5AA5",
           "#126D6A",
           "#6F77D6",
           "#428785",
           "#99C1B9",
           "#0E3D38",
           "#11B9F6",
           "#7A7A32",
           "#49D7F5",
           "#38CB4B",
           "#B1D013",
           "#6A3F70",
           "#382BCA"
          ],
          "line": {
           "color": "rgb(8, 48, 107)",
           "width": 1.5
          }
         },
         "opacity": 0.7,
         "text": [
          "12.18%",
          "8.51%",
          "7.23%",
          "7.13%",
          "6.61%",
          "6.37%",
          "6.02%",
          "5.15%",
          "4.43%",
          "3.95%",
          "3.29%",
          "3.12%",
          "3.00%",
          "2.81%",
          "2.66%",
          "2.56%",
          "2.55%",
          "2.31%",
          "2.14%",
          "2.14%",
          "2.07%",
          "1.98%",
          "1.80%"
         ],
         "type": "bar",
         "uid": "e57c9530-d8ec-11e8-8ac2-5435308b7835",
         "x": [
          "Medical",
          "Music",
          "Catalogs",
          "Business",
          "Navigation",
          "Reference",
          "Productivity",
          "Education",
          "Food & Drink",
          "Book",
          "Travel",
          "Games",
          "Health & Fitness",
          "Sports",
          "Utilities",
          "Photo & Video",
          "Weather",
          "Lifestyle",
          "Entertainment",
          "Social Networking",
          "News",
          "Finance",
          "Shopping"
         ],
         "y": [
          13.456666666666669,
          9.398450704225358,
          7.99,
          7.881891891891893,
          7.297692307692312,
          7.03545454545455,
          6.6451724137931105,
          5.684704049844246,
          4.889999999999998,
          4.3595652173913075,
          3.629999999999998,
          3.447943925233516,
          3.3169230769230817,
          3.104285714285712,
          2.93964028776979,
          2.8251648351648413,
          2.819268292682925,
          2.5499999999999985,
          2.3681094527363244,
          2.3650000000000007,
          2.284117647058824,
          2.1900000000000004,
          1.99
         ]
        }
       ],
       "layout": {
        "height": 500,
        "margin": {
         "l": 100
        },
        "title": "Mean App price of Not-Free Apps",
        "width": 800,
        "yaxis": {
         "title": "Mean App price"
        }
       }
      },
      "text/html": [
       "<div id=\"00ba91aa-10b3-4620-ae88-7282740957d0\" style=\"height: 500px; width: 800px;\" class=\"plotly-graph-div\"></div><script type=\"text/javascript\">require([\"plotly\"], function(Plotly) { window.PLOTLYENV=window.PLOTLYENV || {};window.PLOTLYENV.BASE_URL=\"https://plot.ly\";Plotly.newPlot(\"00ba91aa-10b3-4620-ae88-7282740957d0\", [{\"marker\": {\"color\": [\"#54DFF1\", \"#94603A\", \"#452DF6\", \"#D7FE4D\", \"#85AB82\", \"#BFBD49\", \"#ECC1EB\", \"#E93F52\", \"#78031A\", \"#0116FF\", \"#A4AAD1\", \"#30A9D6\", \"#3A0B74\", \"#DFBC03\", \"#0AC8A1\", \"#FF7486\", \"#84476C\", \"#F49758\", \"#C4F805\", \"#C9A3B0\", \"#ACE6EE\", \"#0326D8\", \"#0B80A5\", \"#2EBF97\", \"#DEE5DB\", \"#6CF293\", \"#1E864F\", \"#9E984E\", \"#8DE933\", \"#2A9BC4\", \"#D8CA8D\", \"#569C6A\", \"#49FCBD\", \"#C1FCDA\", \"#F47F9D\", \"#7F5AF4\", \"#A75CEF\", \"#467926\", \"#63FF49\", \"#19CC91\", \"#1EC043\", \"#6E22F5\", \"#5894F4\", \"#FF4789\", \"#4F6E7A\", \"#460939\", \"#DE392F\", \"#61CAF7\", \"#B88053\", \"#C04D18\", \"#E7C6BB\", \"#0B0C1B\", \"#1923F8\", \"#68BBE0\", \"#F6A399\", \"#921A28\", \"#65D311\", \"#04C2FA\", \"#BCBB6A\", \"#4E9ABC\", \"#72FBE7\", \"#6D111D\", \"#0FA209\", \"#C2E063\", \"#58853F\", \"#847769\", \"#7F0E36\", \"#A5E82C\", \"#EA2520\", \"#883CA0\", \"#A0780C\", \"#811E36\", \"#66BF9E\", \"#CF7786\", \"#BF559C\", \"#CA3095\", \"#8FADE1\", \"#2A7CA2\", \"#B5501B\", \"#BA028F\", \"#5EE263\", \"#790D87\", \"#CA2636\", \"#448456\", \"#3ADBB7\", \"#A1AF0B\", \"#E2E519\", \"#4B5AA5\", \"#126D6A\", \"#6F77D6\", \"#428785\", \"#99C1B9\", \"#0E3D38\", \"#11B9F6\", \"#7A7A32\", \"#49D7F5\", \"#38CB4B\", \"#B1D013\", \"#6A3F70\", \"#382BCA\"], \"line\": {\"color\": \"rgb(8, 48, 107)\", \"width\": 1.5}}, \"opacity\": 0.7, \"text\": [\"12.18%\", \"8.51%\", \"7.23%\", \"7.13%\", \"6.61%\", \"6.37%\", \"6.02%\", \"5.15%\", \"4.43%\", \"3.95%\", \"3.29%\", \"3.12%\", \"3.00%\", \"2.81%\", \"2.66%\", \"2.56%\", \"2.55%\", \"2.31%\", \"2.14%\", \"2.14%\", \"2.07%\", \"1.98%\", \"1.80%\"], \"x\": [\"Medical\", \"Music\", \"Catalogs\", \"Business\", \"Navigation\", \"Reference\", \"Productivity\", \"Education\", \"Food & Drink\", \"Book\", \"Travel\", \"Games\", \"Health & Fitness\", \"Sports\", \"Utilities\", \"Photo & Video\", \"Weather\", \"Lifestyle\", \"Entertainment\", \"Social Networking\", \"News\", \"Finance\", \"Shopping\"], \"y\": [13.456666666666669, 9.398450704225358, 7.99, 7.881891891891893, 7.297692307692312, 7.03545454545455, 6.6451724137931105, 5.684704049844246, 4.889999999999998, 4.3595652173913075, 3.629999999999998, 3.447943925233516, 3.3169230769230817, 3.104285714285712, 2.93964028776979, 2.8251648351648413, 2.819268292682925, 2.5499999999999985, 2.3681094527363244, 2.3650000000000007, 2.284117647058824, 2.1900000000000004, 1.99], \"type\": \"bar\", \"uid\": \"e57c9530-d8ec-11e8-8ac2-5435308b7835\"}], {\"height\": 500, \"margin\": {\"l\": 100}, \"title\": \"Mean App price of Not-Free Apps\", \"width\": 800, \"yaxis\": {\"title\": \"Mean App price\"}}, {\"showLink\": true, \"linkText\": \"Export to plot.ly\"})});</script>"
      ],
      "text/vnd.plotly.v1+html": [
       "<div id=\"00ba91aa-10b3-4620-ae88-7282740957d0\" style=\"height: 500px; width: 800px;\" class=\"plotly-graph-div\"></div><script type=\"text/javascript\">require([\"plotly\"], function(Plotly) { window.PLOTLYENV=window.PLOTLYENV || {};window.PLOTLYENV.BASE_URL=\"https://plot.ly\";Plotly.newPlot(\"00ba91aa-10b3-4620-ae88-7282740957d0\", [{\"marker\": {\"color\": [\"#54DFF1\", \"#94603A\", \"#452DF6\", \"#D7FE4D\", \"#85AB82\", \"#BFBD49\", \"#ECC1EB\", \"#E93F52\", \"#78031A\", \"#0116FF\", \"#A4AAD1\", \"#30A9D6\", \"#3A0B74\", \"#DFBC03\", \"#0AC8A1\", \"#FF7486\", \"#84476C\", \"#F49758\", \"#C4F805\", \"#C9A3B0\", \"#ACE6EE\", \"#0326D8\", \"#0B80A5\", \"#2EBF97\", \"#DEE5DB\", \"#6CF293\", \"#1E864F\", \"#9E984E\", \"#8DE933\", \"#2A9BC4\", \"#D8CA8D\", \"#569C6A\", \"#49FCBD\", \"#C1FCDA\", \"#F47F9D\", \"#7F5AF4\", \"#A75CEF\", \"#467926\", \"#63FF49\", \"#19CC91\", \"#1EC043\", \"#6E22F5\", \"#5894F4\", \"#FF4789\", \"#4F6E7A\", \"#460939\", \"#DE392F\", \"#61CAF7\", \"#B88053\", \"#C04D18\", \"#E7C6BB\", \"#0B0C1B\", \"#1923F8\", \"#68BBE0\", \"#F6A399\", \"#921A28\", \"#65D311\", \"#04C2FA\", \"#BCBB6A\", \"#4E9ABC\", \"#72FBE7\", \"#6D111D\", \"#0FA209\", \"#C2E063\", \"#58853F\", \"#847769\", \"#7F0E36\", \"#A5E82C\", \"#EA2520\", \"#883CA0\", \"#A0780C\", \"#811E36\", \"#66BF9E\", \"#CF7786\", \"#BF559C\", \"#CA3095\", \"#8FADE1\", \"#2A7CA2\", \"#B5501B\", \"#BA028F\", \"#5EE263\", \"#790D87\", \"#CA2636\", \"#448456\", \"#3ADBB7\", \"#A1AF0B\", \"#E2E519\", \"#4B5AA5\", \"#126D6A\", \"#6F77D6\", \"#428785\", \"#99C1B9\", \"#0E3D38\", \"#11B9F6\", \"#7A7A32\", \"#49D7F5\", \"#38CB4B\", \"#B1D013\", \"#6A3F70\", \"#382BCA\"], \"line\": {\"color\": \"rgb(8, 48, 107)\", \"width\": 1.5}}, \"opacity\": 0.7, \"text\": [\"12.18%\", \"8.51%\", \"7.23%\", \"7.13%\", \"6.61%\", \"6.37%\", \"6.02%\", \"5.15%\", \"4.43%\", \"3.95%\", \"3.29%\", \"3.12%\", \"3.00%\", \"2.81%\", \"2.66%\", \"2.56%\", \"2.55%\", \"2.31%\", \"2.14%\", \"2.14%\", \"2.07%\", \"1.98%\", \"1.80%\"], \"x\": [\"Medical\", \"Music\", \"Catalogs\", \"Business\", \"Navigation\", \"Reference\", \"Productivity\", \"Education\", \"Food & Drink\", \"Book\", \"Travel\", \"Games\", \"Health & Fitness\", \"Sports\", \"Utilities\", \"Photo & Video\", \"Weather\", \"Lifestyle\", \"Entertainment\", \"Social Networking\", \"News\", \"Finance\", \"Shopping\"], \"y\": [13.456666666666669, 9.398450704225358, 7.99, 7.881891891891893, 7.297692307692312, 7.03545454545455, 6.6451724137931105, 5.684704049844246, 4.889999999999998, 4.3595652173913075, 3.629999999999998, 3.447943925233516, 3.3169230769230817, 3.104285714285712, 2.93964028776979, 2.8251648351648413, 2.819268292682925, 2.5499999999999985, 2.3681094527363244, 2.3650000000000007, 2.284117647058824, 2.1900000000000004, 1.99], \"type\": \"bar\", \"uid\": \"e57c9530-d8ec-11e8-8ac2-5435308b7835\"}], {\"height\": 500, \"margin\": {\"l\": 100}, \"title\": \"Mean App price of Not-Free Apps\", \"width\": 800, \"yaxis\": {\"title\": \"Mean App price\"}}, {\"showLink\": true, \"linkText\": \"Export to plot.ly\"})});</script>"
      ]
     },
     "metadata": {},
     "output_type": "display_data"
    }
   ],
   "source": [
    "cnt_srs = df_app_notfree[['prime_genre', 'price']].groupby('prime_genre').mean()['price'].sort_values(ascending=False)\n",
    "text = ['{:.2f}%'.format(100 * (value / cnt_srs.sum())) for value in cnt_srs.values]\n",
    "\n",
    "trace = go.Bar(\n",
    "    x = cnt_srs.index,\n",
    "    y = cnt_srs.values,\n",
    "    text = text,\n",
    "    marker = dict(\n",
    "        color = random_color_generator(100),\n",
    "        line = dict(color='rgb(8, 48, 107)',\n",
    "                    width = 1.5)\n",
    "    ),\n",
    "    opacity = 0.7\n",
    ")\n",
    "data = [trace]\n",
    "\n",
    "layout = go.Layout(\n",
    "    title = 'Mean App price of Not-Free Apps',\n",
    "    margin = dict(\n",
    "        l = 100\n",
    "    ),\n",
    "    yaxis = dict(\n",
    "        title = 'Mean App price'\n",
    "    ),\n",
    "    width = 800,\n",
    "    height = 500\n",
    ")\n",
    "\n",
    "fig = go.Figure(data=data, layout=layout)\n",
    "py.iplot(fig)"
   ]
  },
  {
   "cell_type": "markdown",
   "metadata": {
    "_uuid": "3c443eca56af3b16c1f01bbdec6c3fd8adb2a68e"
   },
   "source": [
    "- When considering only Not-Free apps, Medical App is the most expensive, near to 14$."
   ]
  },
  {
   "cell_type": "markdown",
   "metadata": {
    "_uuid": "a80551dc4584590ec36a963db0ab4d32294a2a44"
   },
   "source": [
    "# Float columns"
   ]
  },
  {
   "cell_type": "code",
   "execution_count": 21,
   "metadata": {
    "_uuid": "4c990fbe42f4d8225305b96b71d93083b6909435"
   },
   "outputs": [],
   "source": [
    "df_temp = df_app.drop('id', axis=1)"
   ]
  },
  {
   "cell_type": "code",
   "execution_count": 22,
   "metadata": {
    "_uuid": "bb051141987465f7eeba6aef64626af219715dde",
    "scrolled": false
   },
   "outputs": [
    {
     "data": {
      "application/vnd.plotly.v1+json": {
       "data": [
        {
         "colorscale": "YlGnBu",
         "reversescale": false,
         "type": "heatmap",
         "uid": "e6fbd966-d8ec-11e8-8ac2-5435308b7835",
         "x": [
          "size_bytes",
          "price",
          "rating_count_tot",
          "rating_count_ver",
          "user_rating",
          "user_rating_ver",
          "sup_devices.num",
          "ipadSc_urls.num",
          "lang.num",
          "vpp_lic",
          "size_bytes_in_MB",
          "isNotFree"
         ],
         "y": [
          "size_bytes",
          "price",
          "rating_count_tot",
          "rating_count_ver",
          "user_rating",
          "user_rating_ver",
          "sup_devices.num",
          "ipadSc_urls.num",
          "lang.num",
          "vpp_lic",
          "size_bytes_in_MB",
          "isNotFree"
         ],
         "z": [
          [
           1,
           0.18239187109376453,
           0.004486316612060694,
           0.006337168735763353,
           0.06625571997806147,
           0.08607466359584526,
           -0.11834730034933845,
           0.15269738131627858,
           0.004614345935651101,
           -0.15041771628434936,
           1,
           0.16197943537922863
          ],
          [
           0.18239187109376453,
           1,
           -0.03904419411403801,
           -0.01801184178838835,
           0.04660100362142318,
           0.025173325443182744,
           -0.11536089052368735,
           0.06609956419541695,
           -0.006713361731810346,
           -0.029942472238369204,
           0.18239187109376453,
           0.3363166585543568
          ],
          [
           0.004486316612060694,
           -0.03904419411403801,
           1,
           0.16364460335138709,
           0.08330996604597585,
           0.08874354725991779,
           0.008832323747470403,
           0.01573429051025355,
           0.13767471628149042,
           -0.0009823229479364,
           0.004486316612060694,
           -0.10288473173695531
          ],
          [
           0.006337168735763353,
           -0.01801184178838835,
           0.16364460335138709,
           1,
           0.06875413255961291,
           0.07784009563729155,
           0.03795066478210205,
           0.02433301993176923,
           0.013286934581891906,
           0.006460467135922065,
           0.006337168735763353,
           -0.03160404525126978
          ],
          [
           0.06625571997806147,
           0.04660100362142318,
           0.08330996604597585,
           0.06875413255961291,
           1,
           0.7741398463935544,
           -0.04245146450458539,
           0.2656713572708106,
           0.17097627663919412,
           0.06981647675063514,
           0.06625571997806147,
           0.11247204690522503
          ],
          [
           0.08607466359584526,
           0.025173325443182744,
           0.08874354725991779,
           0.07784009563729155,
           0.7741398463935544,
           1,
           -0.01890071825618701,
           0.2757369841677098,
           0.17557961647837567,
           0.05009423550610631,
           0.08607466359584526,
           0.12163941634296073
          ],
          [
           -0.11834730034933845,
           -0.11536089052368735,
           0.008832323747470403,
           0.03795066478210205,
           -0.04245146450458539,
           -0.01890071825618701,
           1,
           -0.03772764358982891,
           -0.0416810666665133,
           -0.03710901452330187,
           -0.11834730034933845,
           -0.02019989315644678
          ],
          [
           0.15269738131627858,
           0.06609956419541695,
           0.01573429051025355,
           0.02433301993176923,
           0.2656713572708106,
           0.2757369841677098,
           -0.03772764358982891,
           1,
           0.08837843356804392,
           0.0719005203653365,
           0.15269738131627858,
           0.06955244847570533
          ],
          [
           0.004614345935651101,
           -0.006713361731810346,
           0.13767471628149042,
           0.013286934581891906,
           0.17097627663919412,
           0.17557961647837567,
           -0.0416810666665133,
           0.08837843356804392,
           1,
           0.03247744967046269,
           0.004614345935651101,
           -0.04270345890292673
          ],
          [
           -0.15041771628434936,
           -0.029942472238369204,
           -0.0009823229479364,
           0.006460467135922065,
           0.06981647675063514,
           0.05009423550610631,
           -0.03710901452330187,
           0.0719005203653365,
           0.03247744967046269,
           1,
           -0.15041771628434936,
           -0.024213066058382766
          ],
          [
           1,
           0.18239187109376453,
           0.004486316612060694,
           0.006337168735763353,
           0.06625571997806147,
           0.08607466359584526,
           -0.11834730034933845,
           0.15269738131627858,
           0.004614345935651101,
           -0.15041771628434936,
           1,
           0.16197943537922863
          ],
          [
           0.16197943537922863,
           0.3363166585543568,
           -0.10288473173695531,
           -0.03160404525126978,
           0.11247204690522503,
           0.12163941634296073,
           -0.02019989315644678,
           0.06955244847570533,
           -0.04270345890292673,
           -0.024213066058382766,
           0.16197943537922863,
           1
          ]
         ]
        }
       ],
       "layout": {
        "height": 800,
        "margin": {
         "l": 100
        },
        "title": "Pearson Correlation of float-type features",
        "width": 800,
        "xaxis": {
         "ticks": ""
        },
        "yaxis": {
         "ticks": ""
        }
       }
      },
      "text/html": [
       "<div id=\"9405a449-d662-404a-af0e-54e8fa72c451\" style=\"height: 800px; width: 800px;\" class=\"plotly-graph-div\"></div><script type=\"text/javascript\">require([\"plotly\"], function(Plotly) { window.PLOTLYENV=window.PLOTLYENV || {};window.PLOTLYENV.BASE_URL=\"https://plot.ly\";Plotly.newPlot(\"9405a449-d662-404a-af0e-54e8fa72c451\", [{\"colorscale\": \"YlGnBu\", \"reversescale\": false, \"x\": [\"size_bytes\", \"price\", \"rating_count_tot\", \"rating_count_ver\", \"user_rating\", \"user_rating_ver\", \"sup_devices.num\", \"ipadSc_urls.num\", \"lang.num\", \"vpp_lic\", \"size_bytes_in_MB\", \"isNotFree\"], \"y\": [\"size_bytes\", \"price\", \"rating_count_tot\", \"rating_count_ver\", \"user_rating\", \"user_rating_ver\", \"sup_devices.num\", \"ipadSc_urls.num\", \"lang.num\", \"vpp_lic\", \"size_bytes_in_MB\", \"isNotFree\"], \"z\": [[1.0, 0.18239187109376453, 0.004486316612060694, 0.006337168735763353, 0.06625571997806147, 0.08607466359584526, -0.11834730034933845, 0.15269738131627858, 0.004614345935651101, -0.15041771628434936, 1.0, 0.16197943537922863], [0.18239187109376453, 1.0, -0.03904419411403801, -0.01801184178838835, 0.04660100362142318, 0.025173325443182744, -0.11536089052368735, 0.06609956419541695, -0.006713361731810346, -0.029942472238369204, 0.18239187109376453, 0.3363166585543568], [0.004486316612060694, -0.03904419411403801, 1.0, 0.16364460335138709, 0.08330996604597585, 0.08874354725991779, 0.008832323747470403, 0.01573429051025355, 0.13767471628149042, -0.0009823229479364, 0.004486316612060694, -0.10288473173695531], [0.006337168735763353, -0.01801184178838835, 0.16364460335138709, 1.0, 0.06875413255961291, 0.07784009563729155, 0.03795066478210205, 0.02433301993176923, 0.013286934581891906, 0.006460467135922065, 0.006337168735763353, -0.03160404525126978], [0.06625571997806147, 0.04660100362142318, 0.08330996604597585, 0.06875413255961291, 1.0, 0.7741398463935544, -0.04245146450458539, 0.2656713572708106, 0.17097627663919412, 0.06981647675063514, 0.06625571997806147, 0.11247204690522503], [0.08607466359584526, 0.025173325443182744, 0.08874354725991779, 0.07784009563729155, 0.7741398463935544, 1.0, -0.01890071825618701, 0.2757369841677098, 0.17557961647837567, 0.05009423550610631, 0.08607466359584526, 0.12163941634296073], [-0.11834730034933845, -0.11536089052368735, 0.008832323747470403, 0.03795066478210205, -0.04245146450458539, -0.01890071825618701, 1.0, -0.03772764358982891, -0.0416810666665133, -0.03710901452330187, -0.11834730034933845, -0.02019989315644678], [0.15269738131627858, 0.06609956419541695, 0.01573429051025355, 0.02433301993176923, 0.2656713572708106, 0.2757369841677098, -0.03772764358982891, 1.0, 0.08837843356804392, 0.0719005203653365, 0.15269738131627858, 0.06955244847570533], [0.004614345935651101, -0.006713361731810346, 0.13767471628149042, 0.013286934581891906, 0.17097627663919412, 0.17557961647837567, -0.0416810666665133, 0.08837843356804392, 1.0, 0.03247744967046269, 0.004614345935651101, -0.04270345890292673], [-0.15041771628434936, -0.029942472238369204, -0.0009823229479364, 0.006460467135922065, 0.06981647675063514, 0.05009423550610631, -0.03710901452330187, 0.0719005203653365, 0.03247744967046269, 1.0, -0.15041771628434936, -0.024213066058382766], [1.0, 0.18239187109376453, 0.004486316612060694, 0.006337168735763353, 0.06625571997806147, 0.08607466359584526, -0.11834730034933845, 0.15269738131627858, 0.004614345935651101, -0.15041771628434936, 1.0, 0.16197943537922863], [0.16197943537922863, 0.3363166585543568, -0.10288473173695531, -0.03160404525126978, 0.11247204690522503, 0.12163941634296073, -0.02019989315644678, 0.06955244847570533, -0.04270345890292673, -0.024213066058382766, 0.16197943537922863, 1.0]], \"type\": \"heatmap\", \"uid\": \"e6fbd966-d8ec-11e8-8ac2-5435308b7835\"}], {\"height\": 800, \"margin\": {\"l\": 100}, \"title\": \"Pearson Correlation of float-type features\", \"width\": 800, \"xaxis\": {\"ticks\": \"\"}, \"yaxis\": {\"ticks\": \"\"}}, {\"showLink\": true, \"linkText\": \"Export to plot.ly\"})});</script>"
      ],
      "text/vnd.plotly.v1+html": [
       "<div id=\"9405a449-d662-404a-af0e-54e8fa72c451\" style=\"height: 800px; width: 800px;\" class=\"plotly-graph-div\"></div><script type=\"text/javascript\">require([\"plotly\"], function(Plotly) { window.PLOTLYENV=window.PLOTLYENV || {};window.PLOTLYENV.BASE_URL=\"https://plot.ly\";Plotly.newPlot(\"9405a449-d662-404a-af0e-54e8fa72c451\", [{\"colorscale\": \"YlGnBu\", \"reversescale\": false, \"x\": [\"size_bytes\", \"price\", \"rating_count_tot\", \"rating_count_ver\", \"user_rating\", \"user_rating_ver\", \"sup_devices.num\", \"ipadSc_urls.num\", \"lang.num\", \"vpp_lic\", \"size_bytes_in_MB\", \"isNotFree\"], \"y\": [\"size_bytes\", \"price\", \"rating_count_tot\", \"rating_count_ver\", \"user_rating\", \"user_rating_ver\", \"sup_devices.num\", \"ipadSc_urls.num\", \"lang.num\", \"vpp_lic\", \"size_bytes_in_MB\", \"isNotFree\"], \"z\": [[1.0, 0.18239187109376453, 0.004486316612060694, 0.006337168735763353, 0.06625571997806147, 0.08607466359584526, -0.11834730034933845, 0.15269738131627858, 0.004614345935651101, -0.15041771628434936, 1.0, 0.16197943537922863], [0.18239187109376453, 1.0, -0.03904419411403801, -0.01801184178838835, 0.04660100362142318, 0.025173325443182744, -0.11536089052368735, 0.06609956419541695, -0.006713361731810346, -0.029942472238369204, 0.18239187109376453, 0.3363166585543568], [0.004486316612060694, -0.03904419411403801, 1.0, 0.16364460335138709, 0.08330996604597585, 0.08874354725991779, 0.008832323747470403, 0.01573429051025355, 0.13767471628149042, -0.0009823229479364, 0.004486316612060694, -0.10288473173695531], [0.006337168735763353, -0.01801184178838835, 0.16364460335138709, 1.0, 0.06875413255961291, 0.07784009563729155, 0.03795066478210205, 0.02433301993176923, 0.013286934581891906, 0.006460467135922065, 0.006337168735763353, -0.03160404525126978], [0.06625571997806147, 0.04660100362142318, 0.08330996604597585, 0.06875413255961291, 1.0, 0.7741398463935544, -0.04245146450458539, 0.2656713572708106, 0.17097627663919412, 0.06981647675063514, 0.06625571997806147, 0.11247204690522503], [0.08607466359584526, 0.025173325443182744, 0.08874354725991779, 0.07784009563729155, 0.7741398463935544, 1.0, -0.01890071825618701, 0.2757369841677098, 0.17557961647837567, 0.05009423550610631, 0.08607466359584526, 0.12163941634296073], [-0.11834730034933845, -0.11536089052368735, 0.008832323747470403, 0.03795066478210205, -0.04245146450458539, -0.01890071825618701, 1.0, -0.03772764358982891, -0.0416810666665133, -0.03710901452330187, -0.11834730034933845, -0.02019989315644678], [0.15269738131627858, 0.06609956419541695, 0.01573429051025355, 0.02433301993176923, 0.2656713572708106, 0.2757369841677098, -0.03772764358982891, 1.0, 0.08837843356804392, 0.0719005203653365, 0.15269738131627858, 0.06955244847570533], [0.004614345935651101, -0.006713361731810346, 0.13767471628149042, 0.013286934581891906, 0.17097627663919412, 0.17557961647837567, -0.0416810666665133, 0.08837843356804392, 1.0, 0.03247744967046269, 0.004614345935651101, -0.04270345890292673], [-0.15041771628434936, -0.029942472238369204, -0.0009823229479364, 0.006460467135922065, 0.06981647675063514, 0.05009423550610631, -0.03710901452330187, 0.0719005203653365, 0.03247744967046269, 1.0, -0.15041771628434936, -0.024213066058382766], [1.0, 0.18239187109376453, 0.004486316612060694, 0.006337168735763353, 0.06625571997806147, 0.08607466359584526, -0.11834730034933845, 0.15269738131627858, 0.004614345935651101, -0.15041771628434936, 1.0, 0.16197943537922863], [0.16197943537922863, 0.3363166585543568, -0.10288473173695531, -0.03160404525126978, 0.11247204690522503, 0.12163941634296073, -0.02019989315644678, 0.06955244847570533, -0.04270345890292673, -0.024213066058382766, 0.16197943537922863, 1.0]], \"type\": \"heatmap\", \"uid\": \"e6fbd966-d8ec-11e8-8ac2-5435308b7835\"}], {\"height\": 800, \"margin\": {\"l\": 100}, \"title\": \"Pearson Correlation of float-type features\", \"width\": 800, \"xaxis\": {\"ticks\": \"\"}, \"yaxis\": {\"ticks\": \"\"}}, {\"showLink\": true, \"linkText\": \"Export to plot.ly\"})});</script>"
      ]
     },
     "metadata": {},
     "output_type": "display_data"
    }
   ],
   "source": [
    "data = [\n",
    "    go.Heatmap(\n",
    "        z = df_temp.corr().values,\n",
    "        x = df_temp.corr().columns.values,\n",
    "        y = df_temp.corr().columns.values,\n",
    "        colorscale='YlGnBu',\n",
    "        reversescale=False,\n",
    "    )\n",
    "]\n",
    "\n",
    "layout = go.Layout(\n",
    "    title='Pearson Correlation of float-type features',\n",
    "    xaxis = dict(ticks=''),\n",
    "    yaxis = dict(ticks='' ),\n",
    "    width = 800, height = 800,\n",
    "    margin = dict(\n",
    "        l = 100\n",
    "    )\n",
    ")\n",
    "\n",
    "fig = go.Figure(data=data, layout=layout)\n",
    "py.iplot(fig, filename='labelled-heatmap')"
   ]
  },
  {
   "cell_type": "code",
   "execution_count": 23,
   "metadata": {
    "_uuid": "421a37f790bf87422c157ff9a15840eb3b0ff43a"
   },
   "outputs": [],
   "source": [
    "df_corr = df_app.drop('id', axis=1).corr()"
   ]
  },
  {
   "cell_type": "markdown",
   "metadata": {},
   "source": [
    "## correlation between different attributes-"
   ]
  },
  {
   "cell_type": "code",
   "execution_count": 24,
   "metadata": {
    "_uuid": "ab33cdf8a6a84f447b1d091dc86a191ce314a793"
   },
   "outputs": [
    {
     "data": {
      "text/plain": [
       "user_rating         1.000000\n",
       "user_rating_ver     0.774140\n",
       "ipadSc_urls.num     0.265671\n",
       "lang.num            0.170976\n",
       "isNotFree           0.112472\n",
       "rating_count_tot    0.083310\n",
       "vpp_lic             0.069816\n",
       "rating_count_ver    0.068754\n",
       "size_bytes_in_MB    0.066256\n",
       "size_bytes          0.066256\n",
       "price               0.046601\n",
       "sup_devices.num    -0.042451\n",
       "Name: user_rating, dtype: float64"
      ]
     },
     "execution_count": 24,
     "metadata": {},
     "output_type": "execute_result"
    }
   ],
   "source": [
    "df_corr['user_rating'].sort_values(ascending=False)"
   ]
  },
  {
   "cell_type": "code",
   "execution_count": 25,
   "metadata": {
    "_uuid": "a3c9cbdda280542a0ba4bf6e91277fc23469fa6d"
   },
   "outputs": [
    {
     "data": {
      "text/plain": [
       "price               1.000000\n",
       "isNotFree           0.336317\n",
       "size_bytes_in_MB    0.182392\n",
       "size_bytes          0.182392\n",
       "ipadSc_urls.num     0.066100\n",
       "user_rating         0.046601\n",
       "user_rating_ver     0.025173\n",
       "lang.num           -0.006713\n",
       "rating_count_ver   -0.018012\n",
       "vpp_lic            -0.029942\n",
       "rating_count_tot   -0.039044\n",
       "sup_devices.num    -0.115361\n",
       "Name: price, dtype: float64"
      ]
     },
     "execution_count": 25,
     "metadata": {},
     "output_type": "execute_result"
    }
   ],
   "source": [
    "df_corr['price'].sort_values(ascending=False)"
   ]
  },
  {
   "cell_type": "markdown",
   "metadata": {
    "_uuid": "bccb427624167d0ba682de32b4d12dfed488e576"
   },
   "source": [
    "# App Description"
   ]
  },
  {
   "cell_type": "code",
   "execution_count": 26,
   "metadata": {
    "_uuid": "d37dd28aecae4264e4998c754271827a3e38e3e5"
   },
   "outputs": [],
   "source": [
    "foo = df_app['app_desc'][0].split(' ')"
   ]
  },
  {
   "cell_type": "code",
   "execution_count": 27,
   "metadata": {
    "_uuid": "dd283349f4a74f1856ee5b4bd9d1d55ff45bfd8b"
   },
   "outputs": [],
   "source": [
    "import nltk\n",
    "from nltk.corpus import stopwords"
   ]
  },
  {
   "cell_type": "code",
   "execution_count": 28,
   "metadata": {
    "_uuid": "773636ac5e85d3ed837c865aac8337cc50198555"
   },
   "outputs": [
    {
     "name": "stdout",
     "output_type": "stream",
     "text": [
      "CPU times: user 7min 59s, sys: 30.6 s, total: 8min 29s\n",
      "Wall time: 8min 30s\n"
     ]
    }
   ],
   "source": [
    "%%time\n",
    "for i in range(df_app.shape[0]):\n",
    "    temp_desc = df_app['app_desc'][i]\n",
    "    temp_word_list = nltk.word_tokenize(temp_desc)\n",
    "    temp_word_list = [word.lower() for word in temp_word_list if word not in stopwords.words('english')]\n",
    "    for char in \" {}()#&[]^`´-_·@|¿?¡!'+*\\\"?.!/;:<>’•“”–»%■,\":\n",
    "        for ele in temp_word_list:\n",
    "            if char in ele:\n",
    "                temp_word_list.remove(ele)\n",
    "    fdist = nltk.FreqDist(temp_word_list)\n",
    "    temp_srs = pd.Series(fdist).sort_values(ascending=False)\n",
    "    try:\n",
    "        df_app.loc[i, 'most_freq_word_1'] = temp_srs.index[0]\n",
    "        df_app.loc[i, 'most_freq_word_2'] = temp_srs.index[1]\n",
    "        df_app.loc[i, 'most_freq_word_3'] = temp_srs.index[2]\n",
    "    except:\n",
    "        df_app.loc[i, 'most_freq_word_1'] = temp_srs.index[0]"
   ]
  },
  {
   "cell_type": "code",
   "execution_count": 29,
   "metadata": {
    "_uuid": "bd0650c82fc8a52b9032a6e9b9039037627ef216"
   },
   "outputs": [
    {
     "data": {
      "image/png": "[encoded data removed]",
      "text/plain": [
       "<matplotlib.figure.Figure at 0x7f1b09e6b358>"
      ]
     },
     "metadata": {},
     "output_type": "display_data"
    }
   ],
   "source": [
    "df_app.loc[df_app['user_rating'] > 4, 'most_freq_word_3'].value_counts().head(20).plot.bar()\n",
    "plt.show()"
   ]
  },
  {
   "cell_type": "code",
   "execution_count": 30,
   "metadata": {
    "_uuid": "bfcb17e3c3fa5da1cb0a9d3e91481827acadb028"
   },
   "outputs": [],
   "source": [
    "freq_total = nltk.FreqDist(df_app['most_freq_word_1'].tolist() + \n",
    "              df_app['most_freq_word_2'].tolist() +\n",
    "             df_app['most_freq_word_3'].tolist())"
   ]
  },
  {
   "cell_type": "code",
   "execution_count": 31,
   "metadata": {
    "_uuid": "c009e19136f78e73d93a909f0f9ca79e6877e302"
   },
   "outputs": [],
   "source": [
    "freq_total = pd.Series(freq_total).sort_values(ascending=False)"
   ]
  },
  {
   "cell_type": "code",
   "execution_count": 32,
   "metadata": {
    "_uuid": "26fe39665e4bacf8175cb895e80f80ba27f75d2b"
   },
   "outputs": [
    {
     "data": {
      "image/png": "[encoded data removed]",
      "text/plain": [
       "<matplotlib.figure.Figure at 0x7f1b043dce10>"
      ]
     },
     "metadata": {},
     "output_type": "display_data"
    }
   ],
   "source": [
    "freq_total.head(20).plot.bar()\n",
    "plt.show()"
   ]
  },
  {
   "cell_type": "markdown",
   "metadata": {
    "_uuid": "5b3e2917ab72d376d4abb305c5d9c7079e64b138"
   },
   "source": [
    "# 4. Simple feature engineering and preparation"
   ]
  },
  {
   "cell_type": "code",
   "execution_count": 33,
   "metadata": {
    "_uuid": "82202149f4e36ce729d071279b1db1d9631d1f10"
   },
   "outputs": [],
   "source": [
    "from sklearn.metrics import confusion_matrix\n",
    "from sklearn.preprocessing import OneHotEncoder\n",
    "from sklearn.model_selection import train_test_split\n",
    "import xgboost as xgb"
   ]
  },
  {
   "cell_type": "code",
   "execution_count": 34,
   "metadata": {
    "_uuid": "51f4c7bbd47c24f62e7700a88eaa53078721f371"
   },
   "outputs": [],
   "source": [
    "df_app['rating_count_before'] = df_app['rating_count_tot'] - df_app['rating_count_ver']"
   ]
  },
  {
   "cell_type": "code",
   "execution_count": 35,
   "metadata": {
    "_uuid": "67cfb505e74930ac2c40276eb7ccb956bc2544bf",
    "scrolled": true
   },
   "outputs": [
    {
     "data": {
      "text/html": [
       "<div>\n",
       "<style scoped>\n",
       "    .dataframe tbody tr th:only-of-type {\n",
       "        vertical-align: middle;\n",
       "    }\n",
       "\n",
       "    .dataframe tbody tr th {\n",
       "        vertical-align: top;\n",
       "    }\n",
       "\n",
       "    .dataframe thead th {\n",
       "        text-align: right;\n",
       "    }\n",
       "</style>\n",
       "<table border=\"1\" class=\"dataframe\">\n",
       "  <thead>\n",
       "    <tr style=\"text-align: right;\">\n",
       "      <th></th>\n",
       "      <th>id</th>\n",
       "      <th>track_name</th>\n",
       "      <th>size_bytes</th>\n",
       "      <th>currency</th>\n",
       "      <th>price</th>\n",
       "      <th>rating_count_tot</th>\n",
       "      <th>rating_count_ver</th>\n",
       "      <th>user_rating</th>\n",
       "      <th>user_rating_ver</th>\n",
       "      <th>ver</th>\n",
       "      <th>...</th>\n",
       "      <th>ipadSc_urls.num</th>\n",
       "      <th>lang.num</th>\n",
       "      <th>vpp_lic</th>\n",
       "      <th>app_desc</th>\n",
       "      <th>size_bytes_in_MB</th>\n",
       "      <th>isNotFree</th>\n",
       "      <th>most_freq_word_1</th>\n",
       "      <th>most_freq_word_2</th>\n",
       "      <th>most_freq_word_3</th>\n",
       "      <th>rating_count_before</th>\n",
       "    </tr>\n",
       "  </thead>\n",
       "  <tbody>\n",
       "    <tr>\n",
       "      <th>0</th>\n",
       "      <td>281656475</td>\n",
       "      <td>PAC-MAN Premium</td>\n",
       "      <td>100788224</td>\n",
       "      <td>USD</td>\n",
       "      <td>3.99</td>\n",
       "      <td>21292</td>\n",
       "      <td>26</td>\n",
       "      <td>4.0</td>\n",
       "      <td>4.5</td>\n",
       "      <td>6.3.5</td>\n",
       "      <td>...</td>\n",
       "      <td>5</td>\n",
       "      <td>10</td>\n",
       "      <td>1</td>\n",
       "      <td>SAVE 20%, now only $3.99 for a limited time!\\n...</td>\n",
       "      <td>96.119141</td>\n",
       "      <td>1</td>\n",
       "      <td>new</td>\n",
       "      <td>game</td>\n",
       "      <td>mazes</td>\n",
       "      <td>21266</td>\n",
       "    </tr>\n",
       "    <tr>\n",
       "      <th>1</th>\n",
       "      <td>281796108</td>\n",
       "      <td>Evernote - stay organized</td>\n",
       "      <td>158578688</td>\n",
       "      <td>USD</td>\n",
       "      <td>0.00</td>\n",
       "      <td>161065</td>\n",
       "      <td>26</td>\n",
       "      <td>4.0</td>\n",
       "      <td>3.5</td>\n",
       "      <td>8.2.2</td>\n",
       "      <td>...</td>\n",
       "      <td>5</td>\n",
       "      <td>23</td>\n",
       "      <td>1</td>\n",
       "      <td>Let Evernote change the way you organize your ...</td>\n",
       "      <td>151.232422</td>\n",
       "      <td>0</td>\n",
       "      <td>evernote</td>\n",
       "      <td>notes</td>\n",
       "      <td>work</td>\n",
       "      <td>161039</td>\n",
       "    </tr>\n",
       "    <tr>\n",
       "      <th>2</th>\n",
       "      <td>281940292</td>\n",
       "      <td>WeatherBug - Local Weather, Radar, Maps, Alerts</td>\n",
       "      <td>100524032</td>\n",
       "      <td>USD</td>\n",
       "      <td>0.00</td>\n",
       "      <td>188583</td>\n",
       "      <td>2822</td>\n",
       "      <td>3.5</td>\n",
       "      <td>4.5</td>\n",
       "      <td>5.0.0</td>\n",
       "      <td>...</td>\n",
       "      <td>5</td>\n",
       "      <td>3</td>\n",
       "      <td>1</td>\n",
       "      <td>Download the most popular free weather app pow...</td>\n",
       "      <td>95.867188</td>\n",
       "      <td>0</td>\n",
       "      <td>weather</td>\n",
       "      <td>alerts</td>\n",
       "      <td>lightning</td>\n",
       "      <td>185761</td>\n",
       "    </tr>\n",
       "    <tr>\n",
       "      <th>3</th>\n",
       "      <td>282614216</td>\n",
       "      <td>eBay: Best App to Buy, Sell, Save! Online Shop...</td>\n",
       "      <td>128512000</td>\n",
       "      <td>USD</td>\n",
       "      <td>0.00</td>\n",
       "      <td>262241</td>\n",
       "      <td>649</td>\n",
       "      <td>4.0</td>\n",
       "      <td>4.5</td>\n",
       "      <td>5.10.0</td>\n",
       "      <td>...</td>\n",
       "      <td>5</td>\n",
       "      <td>9</td>\n",
       "      <td>1</td>\n",
       "      <td>The eBay app is the best way to find anything ...</td>\n",
       "      <td>122.558594</td>\n",
       "      <td>0</td>\n",
       "      <td>items</td>\n",
       "      <td>ebay</td>\n",
       "      <td>new</td>\n",
       "      <td>261592</td>\n",
       "    </tr>\n",
       "    <tr>\n",
       "      <th>4</th>\n",
       "      <td>282935706</td>\n",
       "      <td>Bible</td>\n",
       "      <td>92774400</td>\n",
       "      <td>USD</td>\n",
       "      <td>0.00</td>\n",
       "      <td>985920</td>\n",
       "      <td>5320</td>\n",
       "      <td>4.5</td>\n",
       "      <td>5.0</td>\n",
       "      <td>7.5.1</td>\n",
       "      <td>...</td>\n",
       "      <td>5</td>\n",
       "      <td>45</td>\n",
       "      <td>1</td>\n",
       "      <td>On more than 250 million devices around the wo...</td>\n",
       "      <td>88.476562</td>\n",
       "      <td>0</td>\n",
       "      <td>bible</td>\n",
       "      <td>app</td>\n",
       "      <td>the</td>\n",
       "      <td>980600</td>\n",
       "    </tr>\n",
       "  </tbody>\n",
       "</table>\n",
       "<p>5 rows × 23 columns</p>\n",
       "</div>"
      ],
      "text/plain": [
       "          id                                         track_name  size_bytes  \\\n",
       "0  281656475                                    PAC-MAN Premium   100788224   \n",
       "1  281796108                          Evernote - stay organized   158578688   \n",
       "2  281940292    WeatherBug - Local Weather, Radar, Maps, Alerts   100524032   \n",
       "3  282614216  eBay: Best App to Buy, Sell, Save! Online Shop...   128512000   \n",
       "4  282935706                                              Bible    92774400   \n",
       "\n",
       "  currency  price  rating_count_tot  rating_count_ver  user_rating  \\\n",
       "0      USD   3.99             21292                26          4.0   \n",
       "1      USD   0.00            161065                26          4.0   \n",
       "2      USD   0.00            188583              2822          3.5   \n",
       "3      USD   0.00            262241               649          4.0   \n",
       "4      USD   0.00            985920              5320          4.5   \n",
       "\n",
       "   user_rating_ver     ver         ...         ipadSc_urls.num lang.num  \\\n",
       "0              4.5   6.3.5         ...                       5       10   \n",
       "1              3.5   8.2.2         ...                       5       23   \n",
       "2              4.5   5.0.0         ...                       5        3   \n",
       "3              4.5  5.10.0         ...                       5        9   \n",
       "4              5.0   7.5.1         ...                       5       45   \n",
       "\n",
       "   vpp_lic                                           app_desc  \\\n",
       "0        1  SAVE 20%, now only $3.99 for a limited time!\\n...   \n",
       "1        1  Let Evernote change the way you organize your ...   \n",
       "2        1  Download the most popular free weather app pow...   \n",
       "3        1  The eBay app is the best way to find anything ...   \n",
       "4        1  On more than 250 million devices around the wo...   \n",
       "\n",
       "   size_bytes_in_MB  isNotFree most_freq_word_1  most_freq_word_2  \\\n",
       "0         96.119141          1              new              game   \n",
       "1        151.232422          0         evernote             notes   \n",
       "2         95.867188          0          weather            alerts   \n",
       "3        122.558594          0            items              ebay   \n",
       "4         88.476562          0            bible               app   \n",
       "\n",
       "   most_freq_word_3 rating_count_before  \n",
       "0             mazes               21266  \n",
       "1              work              161039  \n",
       "2         lightning              185761  \n",
       "3               new              261592  \n",
       "4               the              980600  \n",
       "\n",
       "[5 rows x 23 columns]"
      ]
     },
     "execution_count": 35,
     "metadata": {},
     "output_type": "execute_result"
    }
   ],
   "source": [
    "df_app.head()"
   ]
  },
  {
   "cell_type": "code",
   "execution_count": 36,
   "metadata": {
    "_uuid": "f0b006b760c30ab5c8bfd9ce8e1c32643718650f"
   },
   "outputs": [
    {
     "data": {
      "image/png": "[encoded data removed]",
      "text/plain": [
       "<matplotlib.figure.Figure at 0x7f1aff057b38>"
      ]
     },
     "metadata": {},
     "output_type": "display_data"
    }
   ],
   "source": [
    "df_train = df_app[['size_bytes_in_MB', 'isNotFree', 'price', 'rating_count_before', 'sup_devices.num', 'ipadSc_urls.num', 'lang.num', 'vpp_lic', 'prime_genre']]\n",
    "target = df_app['user_rating']\n",
    "\n",
    "df_train = pd.get_dummies(df_train)\n",
    "\n",
    "def categorize_rating(x):\n",
    "    if x <= 4:\n",
    "        return 0\n",
    "    else:\n",
    "        return 1\n",
    "\n",
    "target = target.apply(categorize_rating)\n",
    "\n",
    "target.astype(str).hist()\n",
    "plt.show()"
   ]
  },
  {
   "cell_type": "code",
   "execution_count": 37,
   "metadata": {
    "_uuid": "8db64f765339770522e905c12b7f314645be7e34"
   },
   "outputs": [
    {
     "name": "stdout",
     "output_type": "stream",
     "text": [
      "X_train shape: (5757, 31)\n",
      "X_test shape: (1440, 31)\n"
     ]
    }
   ],
   "source": [
    "X_train, X_test, y_train, y_test = train_test_split(df_train.values, target, test_size=0.2, random_state=1989, stratify=target)\n",
    "\n",
    "print('X_train shape:', X_train.shape)\n",
    "print('X_test shape:', X_test.shape)"
   ]
  },
  {
   "cell_type": "markdown",
   "metadata": {
    "_uuid": "0363e776dd0fabc78826102f991857bc96149fab"
   },
   "source": [
    "# 5. Success prediction"
   ]
  },
  {
   "cell_type": "code",
   "execution_count": 38,
   "metadata": {
    "_uuid": "82299419be89399fe291a5b0466993d4ce7dbd26"
   },
   "outputs": [],
   "source": [
    "from sklearn.metrics import accuracy_score\n",
    "from sklearn.model_selection import KFold\n",
    "from sklearn.model_selection import cross_val_score, cross_validate"
   ]
  },
  {
   "cell_type": "code",
   "execution_count": 39,
   "metadata": {
    "_uuid": "725b49c36681792538bcd7f156275e652d78a8a3"
   },
   "outputs": [],
   "source": [
    "from sklearn.ensemble import RandomForestClassifier\n",
    "from lightgbm import LGBMClassifier\n",
    "from xgboost import XGBClassifier"
   ]
  },
  {
   "cell_type": "code",
   "execution_count": 40,
   "metadata": {
    "_uuid": "124150b79c9a2061d53a45a1f1f5237143f31d74"
   },
   "outputs": [
    {
     "data": {
      "text/html": [
       "<div>\n",
       "<style scoped>\n",
       "    .dataframe tbody tr th:only-of-type {\n",
       "        vertical-align: middle;\n",
       "    }\n",
       "\n",
       "    .dataframe tbody tr th {\n",
       "        vertical-align: top;\n",
       "    }\n",
       "\n",
       "    .dataframe thead th {\n",
       "        text-align: right;\n",
       "    }\n",
       "</style>\n",
       "<table border=\"1\" class=\"dataframe\">\n",
       "  <thead>\n",
       "    <tr style=\"text-align: right;\">\n",
       "      <th></th>\n",
       "      <th>Classfier_name</th>\n",
       "      <th>train_score</th>\n",
       "      <th>test_score</th>\n",
       "    </tr>\n",
       "  </thead>\n",
       "  <tbody>\n",
       "    <tr>\n",
       "      <th>0</th>\n",
       "      <td>RandomForestClassifier</td>\n",
       "      <td>0.979807</td>\n",
       "      <td>0.655032</td>\n",
       "    </tr>\n",
       "    <tr>\n",
       "      <th>1</th>\n",
       "      <td>LGBMClassifier</td>\n",
       "      <td>0.83012</td>\n",
       "      <td>0.683687</td>\n",
       "    </tr>\n",
       "    <tr>\n",
       "      <th>2</th>\n",
       "      <td>XGBClassifier</td>\n",
       "      <td>0.722772</td>\n",
       "      <td>0.689246</td>\n",
       "    </tr>\n",
       "  </tbody>\n",
       "</table>\n",
       "</div>"
      ],
      "text/plain": [
       "           Classfier_name train_score test_score\n",
       "0  RandomForestClassifier    0.979807   0.655032\n",
       "1          LGBMClassifier     0.83012   0.683687\n",
       "2           XGBClassifier    0.722772   0.689246"
      ]
     },
     "execution_count": 40,
     "metadata": {},
     "output_type": "execute_result"
    }
   ],
   "source": [
    "models = [RandomForestClassifier(), LGBMClassifier(), XGBClassifier()]\n",
    "\n",
    "kfold = KFold(n_splits=5, random_state=1989)\n",
    "\n",
    "clf_comparison = pd.DataFrame(columns=['Classfier_name', 'train_score', 'test_score'])\n",
    "\n",
    "for i, model in enumerate(models):\n",
    "    clf = model\n",
    "    cv_result = cross_validate(model, X_train, y_train, cv=kfold, scoring='accuracy')\n",
    "    clf_comparison.loc[i, 'Classfier_name'] = model.__class__.__name__\n",
    "    clf_comparison.loc[i, 'train_score'] = cv_result['train_score'].mean()\n",
    "    clf_comparison.loc[i, 'test_score'] = cv_result['test_score'].mean()\n",
    "\n",
    "clf_comparison"
   ]
  },
  {
   "cell_type": "markdown",
   "metadata": {
    "_uuid": "2a7784cd52043ae896a7f8ae830e7d9acd6f2cd4"
   },
   "source": [
    "# 6. Success prediction with description variable"
   ]
  },
  {
   "cell_type": "code",
   "execution_count": 41,
   "metadata": {
    "_uuid": "b13134546295f7d3e32343d73c356eaa3f18cdbd"
   },
   "outputs": [],
   "source": [
    "df_app.loc[:, 'isGame'] = df_app['app_desc'].apply(lambda x: 1 if 'game' in x.lower() else 0)"
   ]
  },
  {
   "cell_type": "code",
   "execution_count": 42,
   "metadata": {
    "_uuid": "05336cc8af626d8c742d2e0ec59535c92185c936"
   },
   "outputs": [],
   "source": [
    "df_app.loc[:, 'descLen'] = df_app['app_desc'].apply(lambda x: len(x.lower()))"
   ]
  },
  {
   "cell_type": "code",
   "execution_count": 43,
   "metadata": {
    "_uuid": "6cdbd21c75732ad3177d17eccb32f9d3ca8fada7"
   },
   "outputs": [
    {
     "data": {
      "image/png": "[encoded data removed]",
      "text/plain": [
       "<matplotlib.figure.Figure at 0x7f1afd363e10>"
      ]
     },
     "metadata": {},
     "output_type": "display_data"
    }
   ],
   "source": [
    "df_train = df_app[['size_bytes_in_MB', 'isNotFree', 'price', 'rating_count_before', 'sup_devices.num', 'ipadSc_urls.num', 'lang.num', 'vpp_lic', 'prime_genre', 'isGame', 'descLen']]\n",
    "target = df_app['user_rating']\n",
    "\n",
    "df_train = pd.get_dummies(df_train)\n",
    "\n",
    "def categorize_rating(x):\n",
    "    if x <= 4:\n",
    "        return 0\n",
    "    else:\n",
    "        return 1\n",
    "\n",
    "target = target.apply(categorize_rating)\n",
    "\n",
    "target.astype(str).hist()\n",
    "plt.show()"
   ]
  },
  {
   "cell_type": "code",
   "execution_count": 44,
   "metadata": {
    "_uuid": "48a2f162c77e7f9c1165eebdfc6f7dc5dbc7135e"
   },
   "outputs": [
    {
     "name": "stdout",
     "output_type": "stream",
     "text": [
      "X_train shape: (5757, 33)\n",
      "X_test shape: (1440, 33)\n"
     ]
    }
   ],
   "source": [
    "X_train, X_test, y_train, y_test = train_test_split(df_train.values, target, test_size=0.2, random_state=1989, stratify=target)\n",
    "\n",
    "print('X_train shape:', X_train.shape)\n",
    "print('X_test shape:', X_test.shape)"
   ]
  },
  {
   "cell_type": "code",
   "execution_count": 45,
   "metadata": {
    "_uuid": "631101220d152d4fd119939684d2342b9a669328"
   },
   "outputs": [
    {
     "data": {
      "text/html": [
       "<div>\n",
       "<style scoped>\n",
       "    .dataframe tbody tr th:only-of-type {\n",
       "        vertical-align: middle;\n",
       "    }\n",
       "\n",
       "    .dataframe tbody tr th {\n",
       "        vertical-align: top;\n",
       "    }\n",
       "\n",
       "    .dataframe thead th {\n",
       "        text-align: right;\n",
       "    }\n",
       "</style>\n",
       "<table border=\"1\" class=\"dataframe\">\n",
       "  <thead>\n",
       "    <tr style=\"text-align: right;\">\n",
       "      <th></th>\n",
       "      <th>Classfier_name</th>\n",
       "      <th>train_score</th>\n",
       "      <th>test_score</th>\n",
       "    </tr>\n",
       "  </thead>\n",
       "  <tbody>\n",
       "    <tr>\n",
       "      <th>0</th>\n",
       "      <td>RandomForestClassifier</td>\n",
       "      <td>0.980155</td>\n",
       "      <td>0.657463</td>\n",
       "    </tr>\n",
       "    <tr>\n",
       "      <th>1</th>\n",
       "      <td>LGBMClassifier</td>\n",
       "      <td>0.854004</td>\n",
       "      <td>0.685254</td>\n",
       "    </tr>\n",
       "    <tr>\n",
       "      <th>2</th>\n",
       "      <td>XGBClassifier</td>\n",
       "      <td>0.725508</td>\n",
       "      <td>0.687682</td>\n",
       "    </tr>\n",
       "  </tbody>\n",
       "</table>\n",
       "</div>"
      ],
      "text/plain": [
       "           Classfier_name train_score test_score\n",
       "0  RandomForestClassifier    0.980155   0.657463\n",
       "1          LGBMClassifier    0.854004   0.685254\n",
       "2           XGBClassifier    0.725508   0.687682"
      ]
     },
     "execution_count": 45,
     "metadata": {},
     "output_type": "execute_result"
    }
   ],
   "source": [
    "models = [RandomForestClassifier(), LGBMClassifier(), XGBClassifier()]\n",
    "\n",
    "kfold = KFold(n_splits=5, random_state=1989)\n",
    "\n",
    "clf_comparison = pd.DataFrame(columns=['Classfier_name', 'train_score', 'test_score'])\n",
    "\n",
    "for i, model in enumerate(models):\n",
    "    clf = model\n",
    "    cv_result = cross_validate(model, X_train, y_train, cv=kfold, scoring='accuracy')\n",
    "    clf_comparison.loc[i, 'Classfier_name'] = model.__class__.__name__\n",
    "    clf_comparison.loc[i, 'train_score'] = cv_result['train_score'].mean()\n",
    "    clf_comparison.loc[i, 'test_score'] = cv_result['test_score'].mean()\n",
    "\n",
    "clf_comparison"
   ]
  },
  {
   "cell_type": "markdown",
   "metadata": {
    "_uuid": "47b2c2c0a250243e89f80c99095a3567f6ee9fb5"
   },
   "source": [
    "# Conclusion\n",
    "- At the beginning, I set a multi class classfication problem to predict user_rating using this dataset. I categorized user ratings into 5 groups, (1) 0~1 (2) 1~2 (3) 2~3 (4) 3~4 (5) 4~5.\n",
    "- But, the output was bad."
   ]
  },
  {
   "cell_type": "markdown",
   "metadata": {
    "_uuid": "dcea49645dcf9a7928babaecdbc4e47e7dd606ae"
   },
   "source": [
    "- For now, I set a binary classfication problem to predict success of apps. I supposed that app which has more than 4 user_rating is successful. \n",
    "- For this approach, the prediction accuracy is about 70%. It is not bad.\n",
    "- I'm planning to add more features to improve the performance."
   ]
  }
 ],
 "metadata": {
  "kernelspec": {
   "display_name": "Python 3",
   "language": "python",
   "name": "python3"
  },
  "language_info": {
   "codemirror_mode": {
    "name": "ipython",
    "version": 3
   },
   "file_extension": ".py",
   "mimetype": "text/x-python",
   "name": "python",
   "nbconvert_exporter": "python",
   "pygments_lexer": "ipython3",
   "version": "3.6.3"
  }
 },
 "nbformat": 4,
 "nbformat_minor": 1
}
